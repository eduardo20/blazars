{
  "nbformat": 4,
  "nbformat_minor": 0,
  "metadata": {
    "colab": {
      "name": "L_R_interactivo.ipynb",
      "provenance": [],
      "collapsed_sections": [],
      "authorship_tag": "ABX9TyPgLttxnGIeW3cZ+9mviLUG",
      "include_colab_link": true
    },
    "kernelspec": {
      "name": "python3",
      "display_name": "Python 3"
    },
    "widgets": {
      "application/vnd.jupyter.widget-state+json": {
        "67ee047d886f48d79b0b6013b2fe1ca4": {
          "model_module": "@jupyter-widgets/controls",
          "model_name": "VBoxModel",
          "state": {
            "_view_name": "VBoxView",
            "_dom_classes": [
              "widget-interact"
            ],
            "_model_name": "VBoxModel",
            "_view_module": "@jupyter-widgets/controls",
            "_model_module_version": "1.5.0",
            "_view_count": null,
            "_view_module_version": "1.5.0",
            "box_style": "",
            "layout": "IPY_MODEL_7986f44112504f1ab36ea93ce0470970",
            "_model_module": "@jupyter-widgets/controls",
            "children": [
              "IPY_MODEL_08e230fd2f9a4307b28149a66ff4c736",
              "IPY_MODEL_f433c90a20ff4334845c8dcc8ec8726e",
              "IPY_MODEL_2ae3e4cfa8ca4d69908aaecb78c84923",
              "IPY_MODEL_885c499675d2437db1e24425c46e89ff",
              "IPY_MODEL_3404b5b1c7eb43e19609cbc7a9752f6e",
              "IPY_MODEL_f2862655e24c48cea258e78b8bb7cd29",
              "IPY_MODEL_af7fdc37691849338b83f0848d9c3cb2",
              "IPY_MODEL_c3ee2f899150426988464c593232e41d",
              "IPY_MODEL_26cca0bb5b5c4cb796e87785aa036497"
            ]
          }
        },
        "7986f44112504f1ab36ea93ce0470970": {
          "model_module": "@jupyter-widgets/base",
          "model_name": "LayoutModel",
          "state": {
            "_view_name": "LayoutView",
            "grid_template_rows": null,
            "right": null,
            "justify_content": null,
            "_view_module": "@jupyter-widgets/base",
            "overflow": null,
            "_model_module_version": "1.2.0",
            "_view_count": null,
            "flex_flow": "row wrap",
            "width": null,
            "min_width": null,
            "border": null,
            "align_items": null,
            "bottom": null,
            "_model_module": "@jupyter-widgets/base",
            "top": null,
            "grid_column": null,
            "overflow_y": null,
            "overflow_x": null,
            "grid_auto_flow": null,
            "grid_area": null,
            "grid_template_columns": null,
            "flex": null,
            "_model_name": "LayoutModel",
            "justify_items": null,
            "grid_row": null,
            "max_height": null,
            "align_content": null,
            "visibility": null,
            "align_self": null,
            "height": null,
            "min_height": null,
            "padding": null,
            "grid_auto_rows": null,
            "grid_gap": null,
            "max_width": null,
            "order": null,
            "_view_module_version": "1.2.0",
            "grid_template_areas": null,
            "object_position": null,
            "object_fit": null,
            "grid_auto_columns": null,
            "margin": null,
            "display": null,
            "left": null
          }
        },
        "08e230fd2f9a4307b28149a66ff4c736": {
          "model_module": "@jupyter-widgets/controls",
          "model_name": "TextModel",
          "state": {
            "_view_name": "TextView",
            "style": "IPY_MODEL_fd48ef59966a4f788ad29ee112a4031c",
            "_dom_classes": [],
            "description": "Save",
            "_model_name": "TextModel",
            "placeholder": "​",
            "_view_module": "@jupyter-widgets/controls",
            "_model_module_version": "1.5.0",
            "value": "Salvar archivo como...",
            "_view_count": null,
            "disabled": false,
            "_view_module_version": "1.5.0",
            "continuous_update": true,
            "description_tooltip": null,
            "_model_module": "@jupyter-widgets/controls",
            "layout": "IPY_MODEL_e3d5a6b27aa44c8a9cc836d35de0c152"
          }
        },
        "f433c90a20ff4334845c8dcc8ec8726e": {
          "model_module": "@jupyter-widgets/controls",
          "model_name": "DropdownModel",
          "state": {
            "_options_labels": [
              "0.3",
              "0.2",
              "0.35",
              "0.35",
              "0.4"
            ],
            "_view_name": "DropdownView",
            "style": "IPY_MODEL_35555164c4164a6db8551abebf092d63",
            "_dom_classes": [],
            "description": "size_subset",
            "_model_name": "DropdownModel",
            "index": 0,
            "_view_module": "@jupyter-widgets/controls",
            "_model_module_version": "1.5.0",
            "_view_count": null,
            "disabled": false,
            "_view_module_version": "1.5.0",
            "description_tooltip": null,
            "_model_module": "@jupyter-widgets/controls",
            "layout": "IPY_MODEL_e121a207e3e34a5cb700c14b03c35e9c"
          }
        },
        "2ae3e4cfa8ca4d69908aaecb78c84923": {
          "model_module": "@jupyter-widgets/controls",
          "model_name": "DropdownModel",
          "state": {
            "_options_labels": [
              "linear",
              "rbf"
            ],
            "_view_name": "DropdownView",
            "style": "IPY_MODEL_8d56232865024dbd81ee63e97b9e08d2",
            "_dom_classes": [],
            "description": "kernel",
            "_model_name": "DropdownModel",
            "index": 0,
            "_view_module": "@jupyter-widgets/controls",
            "_model_module_version": "1.5.0",
            "_view_count": null,
            "disabled": false,
            "_view_module_version": "1.5.0",
            "description_tooltip": null,
            "_model_module": "@jupyter-widgets/controls",
            "layout": "IPY_MODEL_735364363a154870a0a18a8cb74e7660"
          }
        },
        "885c499675d2437db1e24425c46e89ff": {
          "model_module": "@jupyter-widgets/controls",
          "model_name": "TextModel",
          "state": {
            "_view_name": "TextView",
            "style": "IPY_MODEL_ffde16dcbb27451d8e3f85a3f448b401",
            "_dom_classes": [],
            "description": "C",
            "_model_name": "TextModel",
            "placeholder": "​",
            "_view_module": "@jupyter-widgets/controls",
            "_model_module_version": "1.5.0",
            "value": "0.11",
            "_view_count": null,
            "disabled": false,
            "_view_module_version": "1.5.0",
            "continuous_update": true,
            "description_tooltip": null,
            "_model_module": "@jupyter-widgets/controls",
            "layout": "IPY_MODEL_92a1fbd5535e4f36aa88060fe43c29bb"
          }
        },
        "3404b5b1c7eb43e19609cbc7a9752f6e": {
          "model_module": "@jupyter-widgets/controls",
          "model_name": "DropdownModel",
          "state": {
            "_options_labels": [
              "l1",
              "l2",
              "elasticnet"
            ],
            "_view_name": "DropdownView",
            "style": "IPY_MODEL_d601bf68ac084331be8d5b4375fb8227",
            "_dom_classes": [],
            "description": "penalty_",
            "_model_name": "DropdownModel",
            "index": 0,
            "_view_module": "@jupyter-widgets/controls",
            "_model_module_version": "1.5.0",
            "_view_count": null,
            "disabled": false,
            "_view_module_version": "1.5.0",
            "description_tooltip": null,
            "_model_module": "@jupyter-widgets/controls",
            "layout": "IPY_MODEL_9aef00527d6f426d8f8c72a3389bccce"
          }
        },
        "f2862655e24c48cea258e78b8bb7cd29": {
          "model_module": "@jupyter-widgets/controls",
          "model_name": "DropdownModel",
          "state": {
            "_options_labels": [
              "liblinear",
              "lbfgs"
            ],
            "_view_name": "DropdownView",
            "style": "IPY_MODEL_f7a5b97765ec48b98c501fe9d07c64e8",
            "_dom_classes": [],
            "description": "solver",
            "_model_name": "DropdownModel",
            "index": 0,
            "_view_module": "@jupyter-widgets/controls",
            "_model_module_version": "1.5.0",
            "_view_count": null,
            "disabled": false,
            "_view_module_version": "1.5.0",
            "description_tooltip": null,
            "_model_module": "@jupyter-widgets/controls",
            "layout": "IPY_MODEL_89fc6b314e3a4ab38d3a077e26b4a644"
          }
        },
        "af7fdc37691849338b83f0848d9c3cb2": {
          "model_module": "@jupyter-widgets/controls",
          "model_name": "CheckboxModel",
          "state": {
            "_view_name": "CheckboxView",
            "style": "IPY_MODEL_3ae0ae97f2904501b4af95554d416e8a",
            "_dom_classes": [],
            "description": "Save_model",
            "_model_name": "CheckboxModel",
            "_view_module": "@jupyter-widgets/controls",
            "_model_module_version": "1.5.0",
            "value": false,
            "_view_count": null,
            "disabled": false,
            "_view_module_version": "1.5.0",
            "indent": true,
            "description_tooltip": null,
            "_model_module": "@jupyter-widgets/controls",
            "layout": "IPY_MODEL_5541d4190a2a4db5b6f4f43791f789b8"
          }
        },
        "c3ee2f899150426988464c593232e41d": {
          "model_module": "@jupyter-widgets/controls",
          "model_name": "ButtonModel",
          "state": {
            "_view_name": "ButtonView",
            "style": "IPY_MODEL_4ef59dfec7514bd4b5989265ecabc38e",
            "_dom_classes": [],
            "description": "Run Interact",
            "_model_name": "ButtonModel",
            "button_style": "",
            "_view_module": "@jupyter-widgets/controls",
            "_model_module_version": "1.5.0",
            "tooltip": "",
            "_view_count": null,
            "disabled": false,
            "_view_module_version": "1.5.0",
            "layout": "IPY_MODEL_3da030fb9a894b2d91f7cd23166c22d3",
            "_model_module": "@jupyter-widgets/controls",
            "icon": ""
          }
        },
        "26cca0bb5b5c4cb796e87785aa036497": {
          "model_module": "@jupyter-widgets/output",
          "model_name": "OutputModel",
          "state": {
            "_view_name": "OutputView",
            "msg_id": "",
            "_dom_classes": [],
            "_model_name": "OutputModel",
            "outputs": [
              {
                "output_type": "stream",
                "metadata": {
                  "tags": []
                },
                "text": "test score:  0.8509933774834437\ntrain score:  0.8636363636363636\nCross validation score with std desv\nAccuracy: 0.85 (+/- 0.20)\n[[115  19]\n [ 26 142]]\n",
                "stream": "stdout"
              },
              {
                "output_type": "display_data",
                "metadata": {
                  "tags": []
                },
                "text/plain": "LogisticRegression(C=1.0, class_weight=None, dual=False, fit_intercept=True,\n                   intercept_scaling=1, l1_ratio=None, max_iter=1000,\n                   multi_class='auto', n_jobs=None, penalty='l1',\n                   random_state=None, solver='liblinear', tol=0.0001, verbose=0,\n                   warm_start=False)"
              }
            ],
            "_view_module": "@jupyter-widgets/output",
            "_model_module_version": "1.0.0",
            "_view_count": null,
            "_view_module_version": "1.0.0",
            "layout": "IPY_MODEL_88c6a0b9229d42809b1f50dad3dad3c7",
            "_model_module": "@jupyter-widgets/output"
          }
        },
        "fd48ef59966a4f788ad29ee112a4031c": {
          "model_module": "@jupyter-widgets/controls",
          "model_name": "DescriptionStyleModel",
          "state": {
            "_view_name": "StyleView",
            "_model_name": "DescriptionStyleModel",
            "description_width": "",
            "_view_module": "@jupyter-widgets/base",
            "_model_module_version": "1.5.0",
            "_view_count": null,
            "_view_module_version": "1.2.0",
            "_model_module": "@jupyter-widgets/controls"
          }
        },
        "e3d5a6b27aa44c8a9cc836d35de0c152": {
          "model_module": "@jupyter-widgets/base",
          "model_name": "LayoutModel",
          "state": {
            "_view_name": "LayoutView",
            "grid_template_rows": null,
            "right": null,
            "justify_content": null,
            "_view_module": "@jupyter-widgets/base",
            "overflow": null,
            "_model_module_version": "1.2.0",
            "_view_count": null,
            "flex_flow": null,
            "width": null,
            "min_width": null,
            "border": null,
            "align_items": null,
            "bottom": null,
            "_model_module": "@jupyter-widgets/base",
            "top": null,
            "grid_column": null,
            "overflow_y": null,
            "overflow_x": null,
            "grid_auto_flow": null,
            "grid_area": null,
            "grid_template_columns": null,
            "flex": null,
            "_model_name": "LayoutModel",
            "justify_items": null,
            "grid_row": null,
            "max_height": null,
            "align_content": null,
            "visibility": null,
            "align_self": null,
            "height": null,
            "min_height": null,
            "padding": null,
            "grid_auto_rows": null,
            "grid_gap": null,
            "max_width": null,
            "order": null,
            "_view_module_version": "1.2.0",
            "grid_template_areas": null,
            "object_position": null,
            "object_fit": null,
            "grid_auto_columns": null,
            "margin": null,
            "display": null,
            "left": null
          }
        },
        "35555164c4164a6db8551abebf092d63": {
          "model_module": "@jupyter-widgets/controls",
          "model_name": "DescriptionStyleModel",
          "state": {
            "_view_name": "StyleView",
            "_model_name": "DescriptionStyleModel",
            "description_width": "",
            "_view_module": "@jupyter-widgets/base",
            "_model_module_version": "1.5.0",
            "_view_count": null,
            "_view_module_version": "1.2.0",
            "_model_module": "@jupyter-widgets/controls"
          }
        },
        "e121a207e3e34a5cb700c14b03c35e9c": {
          "model_module": "@jupyter-widgets/base",
          "model_name": "LayoutModel",
          "state": {
            "_view_name": "LayoutView",
            "grid_template_rows": null,
            "right": null,
            "justify_content": null,
            "_view_module": "@jupyter-widgets/base",
            "overflow": null,
            "_model_module_version": "1.2.0",
            "_view_count": null,
            "flex_flow": null,
            "width": null,
            "min_width": null,
            "border": null,
            "align_items": null,
            "bottom": null,
            "_model_module": "@jupyter-widgets/base",
            "top": null,
            "grid_column": null,
            "overflow_y": null,
            "overflow_x": null,
            "grid_auto_flow": null,
            "grid_area": null,
            "grid_template_columns": null,
            "flex": null,
            "_model_name": "LayoutModel",
            "justify_items": null,
            "grid_row": null,
            "max_height": null,
            "align_content": null,
            "visibility": null,
            "align_self": null,
            "height": null,
            "min_height": null,
            "padding": null,
            "grid_auto_rows": null,
            "grid_gap": null,
            "max_width": null,
            "order": null,
            "_view_module_version": "1.2.0",
            "grid_template_areas": null,
            "object_position": null,
            "object_fit": null,
            "grid_auto_columns": null,
            "margin": null,
            "display": null,
            "left": null
          }
        },
        "8d56232865024dbd81ee63e97b9e08d2": {
          "model_module": "@jupyter-widgets/controls",
          "model_name": "DescriptionStyleModel",
          "state": {
            "_view_name": "StyleView",
            "_model_name": "DescriptionStyleModel",
            "description_width": "",
            "_view_module": "@jupyter-widgets/base",
            "_model_module_version": "1.5.0",
            "_view_count": null,
            "_view_module_version": "1.2.0",
            "_model_module": "@jupyter-widgets/controls"
          }
        },
        "735364363a154870a0a18a8cb74e7660": {
          "model_module": "@jupyter-widgets/base",
          "model_name": "LayoutModel",
          "state": {
            "_view_name": "LayoutView",
            "grid_template_rows": null,
            "right": null,
            "justify_content": null,
            "_view_module": "@jupyter-widgets/base",
            "overflow": null,
            "_model_module_version": "1.2.0",
            "_view_count": null,
            "flex_flow": null,
            "width": null,
            "min_width": null,
            "border": null,
            "align_items": null,
            "bottom": null,
            "_model_module": "@jupyter-widgets/base",
            "top": null,
            "grid_column": null,
            "overflow_y": null,
            "overflow_x": null,
            "grid_auto_flow": null,
            "grid_area": null,
            "grid_template_columns": null,
            "flex": null,
            "_model_name": "LayoutModel",
            "justify_items": null,
            "grid_row": null,
            "max_height": null,
            "align_content": null,
            "visibility": null,
            "align_self": null,
            "height": null,
            "min_height": null,
            "padding": null,
            "grid_auto_rows": null,
            "grid_gap": null,
            "max_width": null,
            "order": null,
            "_view_module_version": "1.2.0",
            "grid_template_areas": null,
            "object_position": null,
            "object_fit": null,
            "grid_auto_columns": null,
            "margin": null,
            "display": null,
            "left": null
          }
        },
        "ffde16dcbb27451d8e3f85a3f448b401": {
          "model_module": "@jupyter-widgets/controls",
          "model_name": "DescriptionStyleModel",
          "state": {
            "_view_name": "StyleView",
            "_model_name": "DescriptionStyleModel",
            "description_width": "",
            "_view_module": "@jupyter-widgets/base",
            "_model_module_version": "1.5.0",
            "_view_count": null,
            "_view_module_version": "1.2.0",
            "_model_module": "@jupyter-widgets/controls"
          }
        },
        "92a1fbd5535e4f36aa88060fe43c29bb": {
          "model_module": "@jupyter-widgets/base",
          "model_name": "LayoutModel",
          "state": {
            "_view_name": "LayoutView",
            "grid_template_rows": null,
            "right": null,
            "justify_content": null,
            "_view_module": "@jupyter-widgets/base",
            "overflow": null,
            "_model_module_version": "1.2.0",
            "_view_count": null,
            "flex_flow": null,
            "width": null,
            "min_width": null,
            "border": null,
            "align_items": null,
            "bottom": null,
            "_model_module": "@jupyter-widgets/base",
            "top": null,
            "grid_column": null,
            "overflow_y": null,
            "overflow_x": null,
            "grid_auto_flow": null,
            "grid_area": null,
            "grid_template_columns": null,
            "flex": null,
            "_model_name": "LayoutModel",
            "justify_items": null,
            "grid_row": null,
            "max_height": null,
            "align_content": null,
            "visibility": null,
            "align_self": null,
            "height": null,
            "min_height": null,
            "padding": null,
            "grid_auto_rows": null,
            "grid_gap": null,
            "max_width": null,
            "order": null,
            "_view_module_version": "1.2.0",
            "grid_template_areas": null,
            "object_position": null,
            "object_fit": null,
            "grid_auto_columns": null,
            "margin": null,
            "display": null,
            "left": null
          }
        },
        "d601bf68ac084331be8d5b4375fb8227": {
          "model_module": "@jupyter-widgets/controls",
          "model_name": "DescriptionStyleModel",
          "state": {
            "_view_name": "StyleView",
            "_model_name": "DescriptionStyleModel",
            "description_width": "",
            "_view_module": "@jupyter-widgets/base",
            "_model_module_version": "1.5.0",
            "_view_count": null,
            "_view_module_version": "1.2.0",
            "_model_module": "@jupyter-widgets/controls"
          }
        },
        "9aef00527d6f426d8f8c72a3389bccce": {
          "model_module": "@jupyter-widgets/base",
          "model_name": "LayoutModel",
          "state": {
            "_view_name": "LayoutView",
            "grid_template_rows": null,
            "right": null,
            "justify_content": null,
            "_view_module": "@jupyter-widgets/base",
            "overflow": null,
            "_model_module_version": "1.2.0",
            "_view_count": null,
            "flex_flow": null,
            "width": null,
            "min_width": null,
            "border": null,
            "align_items": null,
            "bottom": null,
            "_model_module": "@jupyter-widgets/base",
            "top": null,
            "grid_column": null,
            "overflow_y": null,
            "overflow_x": null,
            "grid_auto_flow": null,
            "grid_area": null,
            "grid_template_columns": null,
            "flex": null,
            "_model_name": "LayoutModel",
            "justify_items": null,
            "grid_row": null,
            "max_height": null,
            "align_content": null,
            "visibility": null,
            "align_self": null,
            "height": null,
            "min_height": null,
            "padding": null,
            "grid_auto_rows": null,
            "grid_gap": null,
            "max_width": null,
            "order": null,
            "_view_module_version": "1.2.0",
            "grid_template_areas": null,
            "object_position": null,
            "object_fit": null,
            "grid_auto_columns": null,
            "margin": null,
            "display": null,
            "left": null
          }
        },
        "f7a5b97765ec48b98c501fe9d07c64e8": {
          "model_module": "@jupyter-widgets/controls",
          "model_name": "DescriptionStyleModel",
          "state": {
            "_view_name": "StyleView",
            "_model_name": "DescriptionStyleModel",
            "description_width": "",
            "_view_module": "@jupyter-widgets/base",
            "_model_module_version": "1.5.0",
            "_view_count": null,
            "_view_module_version": "1.2.0",
            "_model_module": "@jupyter-widgets/controls"
          }
        },
        "89fc6b314e3a4ab38d3a077e26b4a644": {
          "model_module": "@jupyter-widgets/base",
          "model_name": "LayoutModel",
          "state": {
            "_view_name": "LayoutView",
            "grid_template_rows": null,
            "right": null,
            "justify_content": null,
            "_view_module": "@jupyter-widgets/base",
            "overflow": null,
            "_model_module_version": "1.2.0",
            "_view_count": null,
            "flex_flow": null,
            "width": null,
            "min_width": null,
            "border": null,
            "align_items": null,
            "bottom": null,
            "_model_module": "@jupyter-widgets/base",
            "top": null,
            "grid_column": null,
            "overflow_y": null,
            "overflow_x": null,
            "grid_auto_flow": null,
            "grid_area": null,
            "grid_template_columns": null,
            "flex": null,
            "_model_name": "LayoutModel",
            "justify_items": null,
            "grid_row": null,
            "max_height": null,
            "align_content": null,
            "visibility": null,
            "align_self": null,
            "height": null,
            "min_height": null,
            "padding": null,
            "grid_auto_rows": null,
            "grid_gap": null,
            "max_width": null,
            "order": null,
            "_view_module_version": "1.2.0",
            "grid_template_areas": null,
            "object_position": null,
            "object_fit": null,
            "grid_auto_columns": null,
            "margin": null,
            "display": null,
            "left": null
          }
        },
        "3ae0ae97f2904501b4af95554d416e8a": {
          "model_module": "@jupyter-widgets/controls",
          "model_name": "DescriptionStyleModel",
          "state": {
            "_view_name": "StyleView",
            "_model_name": "DescriptionStyleModel",
            "description_width": "",
            "_view_module": "@jupyter-widgets/base",
            "_model_module_version": "1.5.0",
            "_view_count": null,
            "_view_module_version": "1.2.0",
            "_model_module": "@jupyter-widgets/controls"
          }
        },
        "5541d4190a2a4db5b6f4f43791f789b8": {
          "model_module": "@jupyter-widgets/base",
          "model_name": "LayoutModel",
          "state": {
            "_view_name": "LayoutView",
            "grid_template_rows": null,
            "right": null,
            "justify_content": null,
            "_view_module": "@jupyter-widgets/base",
            "overflow": null,
            "_model_module_version": "1.2.0",
            "_view_count": null,
            "flex_flow": null,
            "width": null,
            "min_width": null,
            "border": null,
            "align_items": null,
            "bottom": null,
            "_model_module": "@jupyter-widgets/base",
            "top": null,
            "grid_column": null,
            "overflow_y": null,
            "overflow_x": null,
            "grid_auto_flow": null,
            "grid_area": null,
            "grid_template_columns": null,
            "flex": null,
            "_model_name": "LayoutModel",
            "justify_items": null,
            "grid_row": null,
            "max_height": null,
            "align_content": null,
            "visibility": null,
            "align_self": null,
            "height": null,
            "min_height": null,
            "padding": null,
            "grid_auto_rows": null,
            "grid_gap": null,
            "max_width": null,
            "order": null,
            "_view_module_version": "1.2.0",
            "grid_template_areas": null,
            "object_position": null,
            "object_fit": null,
            "grid_auto_columns": null,
            "margin": null,
            "display": null,
            "left": null
          }
        },
        "4ef59dfec7514bd4b5989265ecabc38e": {
          "model_module": "@jupyter-widgets/controls",
          "model_name": "ButtonStyleModel",
          "state": {
            "_view_name": "StyleView",
            "_model_name": "ButtonStyleModel",
            "_view_module": "@jupyter-widgets/base",
            "_model_module_version": "1.5.0",
            "_view_count": null,
            "button_color": null,
            "font_weight": "",
            "_view_module_version": "1.2.0",
            "_model_module": "@jupyter-widgets/controls"
          }
        },
        "3da030fb9a894b2d91f7cd23166c22d3": {
          "model_module": "@jupyter-widgets/base",
          "model_name": "LayoutModel",
          "state": {
            "_view_name": "LayoutView",
            "grid_template_rows": null,
            "right": null,
            "justify_content": null,
            "_view_module": "@jupyter-widgets/base",
            "overflow": null,
            "_model_module_version": "1.2.0",
            "_view_count": null,
            "flex_flow": null,
            "width": null,
            "min_width": null,
            "border": null,
            "align_items": null,
            "bottom": null,
            "_model_module": "@jupyter-widgets/base",
            "top": null,
            "grid_column": null,
            "overflow_y": null,
            "overflow_x": null,
            "grid_auto_flow": null,
            "grid_area": null,
            "grid_template_columns": null,
            "flex": null,
            "_model_name": "LayoutModel",
            "justify_items": null,
            "grid_row": null,
            "max_height": null,
            "align_content": null,
            "visibility": null,
            "align_self": null,
            "height": null,
            "min_height": null,
            "padding": null,
            "grid_auto_rows": null,
            "grid_gap": null,
            "max_width": null,
            "order": null,
            "_view_module_version": "1.2.0",
            "grid_template_areas": null,
            "object_position": null,
            "object_fit": null,
            "grid_auto_columns": null,
            "margin": null,
            "display": null,
            "left": null
          }
        },
        "88c6a0b9229d42809b1f50dad3dad3c7": {
          "model_module": "@jupyter-widgets/base",
          "model_name": "LayoutModel",
          "state": {
            "_view_name": "LayoutView",
            "grid_template_rows": null,
            "right": null,
            "justify_content": null,
            "_view_module": "@jupyter-widgets/base",
            "overflow": null,
            "_model_module_version": "1.2.0",
            "_view_count": null,
            "flex_flow": null,
            "width": null,
            "min_width": null,
            "border": null,
            "align_items": null,
            "bottom": null,
            "_model_module": "@jupyter-widgets/base",
            "top": null,
            "grid_column": null,
            "overflow_y": null,
            "overflow_x": null,
            "grid_auto_flow": null,
            "grid_area": null,
            "grid_template_columns": null,
            "flex": null,
            "_model_name": "LayoutModel",
            "justify_items": null,
            "grid_row": null,
            "max_height": null,
            "align_content": null,
            "visibility": null,
            "align_self": null,
            "height": null,
            "min_height": null,
            "padding": null,
            "grid_auto_rows": null,
            "grid_gap": null,
            "max_width": null,
            "order": null,
            "_view_module_version": "1.2.0",
            "grid_template_areas": null,
            "object_position": null,
            "object_fit": null,
            "grid_auto_columns": null,
            "margin": null,
            "display": null,
            "left": null
          }
        }
      }
    }
  },
  "cells": [
    {
      "cell_type": "markdown",
      "metadata": {
        "id": "view-in-github",
        "colab_type": "text"
      },
      "source": [
        "<a href=\"https://colab.research.google.com/github/eduardo20/blazars/blob/master/L_R_interactivo.ipynb\" target=\"_parent\"><img src=\"https://colab.research.google.com/assets/colab-badge.svg\" alt=\"Open In Colab\"/></a>"
      ]
    },
    {
      "cell_type": "code",
      "metadata": {
        "id": "j5ak0sgakinD",
        "colab_type": "code",
        "outputId": "8762c37d-1f1e-42e6-92d9-bd17f115f7e4",
        "colab": {
          "base_uri": "https://localhost:8080/",
          "height": 124
        }
      },
      "source": [
        "# Load the Drive helper and mount\n",
        "from google.colab import drive\n",
        "\n",
        "# This will prompt for authorization.\n",
        "drive.mount('/content/drive')"
      ],
      "execution_count": 1,
      "outputs": [
        {
          "output_type": "stream",
          "text": [
            "Go to this URL in a browser: https://accounts.google.com/o/oauth2/auth?client_id=947318989803-6bn6qk8qdgf4n4g3pfee6491hc0brc4i.apps.googleusercontent.com&redirect_uri=urn%3aietf%3awg%3aoauth%3a2.0%3aoob&response_type=code&scope=email%20https%3a%2f%2fwww.googleapis.com%2fauth%2fdocs.test%20https%3a%2f%2fwww.googleapis.com%2fauth%2fdrive%20https%3a%2f%2fwww.googleapis.com%2fauth%2fdrive.photos.readonly%20https%3a%2f%2fwww.googleapis.com%2fauth%2fpeopleapi.readonly\n",
            "\n",
            "Enter your authorization code:\n",
            "··········\n",
            "Mounted at /content/drive\n"
          ],
          "name": "stdout"
        }
      ]
    },
    {
      "cell_type": "code",
      "metadata": {
        "id": "JgVM59piktcE",
        "colab_type": "code",
        "outputId": "95f1b8b6-7fb8-4e2d-d949-c1755ebf0068",
        "colab": {
          "base_uri": "https://localhost:8080/",
          "height": 121
        }
      },
      "source": [
        "\n",
        "#%%timeit\n",
        "from IPython.utils import io\n",
        "import sys\n",
        "import os\n",
        "sys.path.append('/content/drive/My Drive/')\n",
        "import pandas as pd\n",
        "sys.path.append('/content/drive/My Drive')\n",
        "import pandas as pd\n",
        "import numpy as np\n",
        "\n",
        "import matplotlib as plt\n",
        "from sklearn import datasets\n",
        "from sklearn.preprocessing import StandardScaler\n",
        "import matplotlib.pyplot as plt\n",
        "import seaborn as sns\n",
        "import warnings\n",
        "warnings.filterwarnings('ignore')\n",
        "!pip install ipynb\n",
        "import ipynb.fs.full.my_functions_c as mf\n",
        "#from ipynb.fs.full.my_functions import Snippet_188_a, Snippet_191,Snippet_192,Snippet_190, ROC_\n",
        "#from ipynb.fs.full.my_functions import load_clean\n",
        "from sklearn.metrics import confusion_matrix\n",
        "from sklearn.model_selection import cross_val_score\n",
        "from sklearn.model_selection import train_test_split\n",
        "from sklearn.metrics import confusion_matrix\n",
        "from sklearn.svm import SVC\n",
        "from sklearn.tree import plot_tree\n",
        "from sklearn import tree as tr_\n",
        "import pydotplus\n",
        "import collections\n",
        "#!pip install ipywidgets==7.4\n",
        "import ipywidgets as widgets\n",
        "from sklearn.linear_model import LogisticRegression\n"
      ],
      "execution_count": 2,
      "outputs": [
        {
          "output_type": "stream",
          "text": [
            "/usr/local/lib/python3.6/dist-packages/statsmodels/tools/_testing.py:19: FutureWarning: pandas.util.testing is deprecated. Use the functions in the public API at pandas.testing instead.\n",
            "  import pandas.util.testing as tm\n"
          ],
          "name": "stderr"
        },
        {
          "output_type": "stream",
          "text": [
            "Collecting ipynb\n",
            "  Downloading https://files.pythonhosted.org/packages/31/42/4c0bbb66390e3a68e04ebf134c8d074a00c18b5882293f8ace5f7497fbf0/ipynb-0.5.1-py3-none-any.whl\n",
            "Installing collected packages: ipynb\n",
            "Successfully installed ipynb-0.5.1\n"
          ],
          "name": "stdout"
        }
      ]
    },
    {
      "cell_type": "markdown",
      "metadata": {
        "id": "Uq9fHtyaixLd",
        "colab_type": "text"
      },
      "source": [
        "# Lista de caracteristicas posibles del modelo, de entre ellas se prueban disitintas selecciones:\n",
        "features_=['ra', 'dec', 'flux_1_100_gev', 'spectral_index', 'spectral_index_error',\n",
        "          'detection_significance', 'lii', 'bii', 'pivot_energy', 'flux_density',\n",
        "          'flux_density_error', 'energy_flux', 'energy_flux_error',\n",
        "          'curve_significance', 'spectrum_type', 'powerlaw_index',\n",
        "          'flux_100_300_mev', 'flux_100_300_mev_pos_err',\n",
        "          'flux_100_300_mev_neg_err', 'nufnu_100_300_mev', 'sqrt_ts_100_300_mev',\n",
        "          'flux_0p3_1_gev', 'flux_0p3_1_gev_pos_err', 'flux_0p3_1_gev_neg_err',\n",
        "          'nufnu_0p3_1_gev', 'sqrt_ts_0p3_1_gev', 'flux_1_3_gev',\n",
        "          'flux_1_3_gev_pos_err', 'flux_1_3_gev_neg_err', 'nufnu_1_3_gev',\n",
        "          'sqrt_ts_1_3_gev', 'flux_3_10_gev', 'nufnu_3_10_gev',\n",
        "          'sqrt_ts_3_10_gev', 'flux_10_100_gev', 'nufnu_10_100_gev',\n",
        "          'sqrt_ts_10_100_gev', 'variability_index', 'significance_peak',\n",
        "          'flux_peak', 'flux_peak_error', 'time_peak', 'time_peak_interval',\n",
        "          'source_type', 'analysis_flags', 'HR12', 'HR23', 'HR34', 'hard_slope',\n",
        "          'soft_slope', 'P_E_lg', 'TS_', 'sig_', 'gamm_log', 'Ts_log', 'sig_log',\n",
        "          'F100_log']\n",
        "\n",
        "  \n"
      ]
    },
    {
      "cell_type": "markdown",
      "metadata": {
        "id": "SLFUQcsOkQRq",
        "colab_type": "text"
      },
      "source": [
        "# Trabajamos con 3 separciones poblacionales \n",
        "\n",
        "1.   pop1\n",
        "2.   pop2\n",
        "3.   full\n",
        "## La separación de estas poblaciones se puede encontrar en:\n",
        "https://colab.research.google.com/drive/1D4dCevS0IlVaqjwkLjBT4RaQilZmDatu#scrollTo=vuzPV4sqrstv\n"
      ]
    },
    {
      "cell_type": "code",
      "metadata": {
        "id": "u1XMpEdNkte8",
        "colab_type": "code",
        "outputId": "011b06fe-1791-4a75-bf5c-0800f374a775",
        "colab": {
          "base_uri": "https://localhost:8080/",
          "height": 86
        }
      },
      "source": [
        "#features_=[ 'HR12', 'HR23', 'HR34', 'P_E_lg', 'gamm_log', 'Ts_log',  'spectral_index','source_type']\n",
        "features_=['ra', 'dec', 'flux_1_100_gev', 'spectral_index', 'spectral_index_error', 'detection_significance', 'lii', 'bii', 'pivot_energy', 'flux_density', 'flux_density_error', 'energy_flux', 'energy_flux_error', 'curve_significance', 'spectrum_type', 'powerlaw_index', 'flux_100_300_mev', 'flux_100_300_mev_pos_err', 'flux_100_300_mev_neg_err', 'nufnu_100_300_mev', 'sqrt_ts_100_300_mev', 'flux_0p3_1_gev', 'flux_0p3_1_gev_pos_err', 'flux_0p3_1_gev_neg_err', 'nufnu_0p3_1_gev', 'sqrt_ts_0p3_1_gev', 'flux_1_3_gev', 'flux_1_3_gev_pos_err', 'flux_1_3_gev_neg_err', 'nufnu_1_3_gev', 'sqrt_ts_1_3_gev', 'flux_3_10_gev', 'nufnu_3_10_gev', 'sqrt_ts_3_10_gev', 'flux_10_100_gev', 'nufnu_10_100_gev', 'sqrt_ts_10_100_gev', 'variability_index', 'significance_peak', 'flux_peak', 'flux_peak_error', 'time_peak', 'time_peak_interval', 'source_type', 'analysis_flags', 'HR12', 'HR23', 'HR34', 'hard_slope', 'soft_slope', 'P_E_lg', 'TS_', 'sig_', 'gamm_log', 'Ts_log', 'sig_log', 'F100_log']\n",
        "     \n",
        "#----------------------------------------------------------------------#\n",
        "# Carga el dataframe de la poblacion, lo devuelve limpio, separadas las caracteristicas (X sin normalizar, X_std normalizadas) de las etiquetas (y_) más una copia completa del dataframe df0\n",
        "# Sintaxis:\n",
        "# X,y_,df0,X_std=load_clean(poblacion(int),features del modelo[lista]) \n",
        "X, y_, df0, X_std=mf.load_clean(3,features_)\n",
        "#----------------------------------------------------------------------#\n",
        "features_=[ 'HR12', 'HR23', 'HR34', 'P_E_lg', 'gamm_log', 'Ts_log',  'spectral_index']\n",
        "print (\"nº de características del modelo :\",len(features_))\n",
        "type(y_)"
      ],
      "execution_count": 18,
      "outputs": [
        {
          "output_type": "stream",
          "text": [
            "Cargando full\n",
            "(1717, 57)\n",
            "nº de características del modelo : 7\n"
          ],
          "name": "stdout"
        },
        {
          "output_type": "execute_result",
          "data": {
            "text/plain": [
              "pandas.core.series.Series"
            ]
          },
          "metadata": {
            "tags": []
          },
          "execution_count": 18
        }
      ]
    },
    {
      "cell_type": "markdown",
      "metadata": {
        "id": "EAQWDkBKm7zR",
        "colab_type": "text"
      },
      "source": [
        "# Implementacion grid search con validacion cruzada\n",
        "\n"
      ]
    },
    {
      "cell_type": "code",
      "metadata": {
        "id": "n-aE6Wq9PiGr",
        "colab_type": "code",
        "outputId": "46bc7427-8f05-48ba-9d60-f5dc6deaba70",
        "colab": {
          "base_uri": "https://localhost:8080/",
          "height": 554
        }
      },
      "source": [
        "X_train, X_test, y_train, y_test = train_test_split(X_std, y_, test_size=0.3)\n",
        "mf.grid_pca_LR(X_std,y_,X_train,y_train,70)"
      ],
      "execution_count": 19,
      "outputs": [
        {
          "output_type": "stream",
          "text": [
            "Best parameter (CV score=0.879):\n",
            "{'logistic__C': 21.54434690031882, 'pca__n_components': 6}\n"
          ],
          "name": "stdout"
        },
        {
          "output_type": "display_data",
          "data": {
            "image/png": "[encoded data removed]",
            "text/plain": [
              "<Figure size 432x432 with 2 Axes>"
            ]
          },
          "metadata": {
            "tags": []
          }
        },
        {
          "output_type": "stream",
          "text": [
            "Fitting 3 folds for each of 600 candidates, totalling 1800 fits\n"
          ],
          "name": "stdout"
        },
        {
          "output_type": "stream",
          "text": [
            "[Parallel(n_jobs=1)]: Using backend SequentialBackend with 1 concurrent workers.\n"
          ],
          "name": "stderr"
        },
        {
          "output_type": "stream",
          "text": [
            "Best Params {'C': 0.04042323232323232, 'penalty': 'l2', 'solver': 'lbfgs'}\n",
            "Best Score 0.873771507420236\n"
          ],
          "name": "stdout"
        },
        {
          "output_type": "stream",
          "text": [
            "[Parallel(n_jobs=1)]: Done 1800 out of 1800 | elapsed:   14.5s finished\n"
          ],
          "name": "stderr"
        }
      ]
    },
    {
      "cell_type": "code",
      "metadata": {
        "id": "k1EjCbNOdqDD",
        "colab_type": "code",
        "outputId": "6eebde97-1b40-41ca-c2cd-5fa40ecbad41",
        "colab": {
          "base_uri": "https://localhost:8080/",
          "height": 86
        }
      },
      "source": [
        "import seaborn as sns\n",
        "#X.columns\n",
        "##specify the 12 metrics column names to be modelled\n",
        "#to_model_columns=X.columns[1:13]\n",
        "#from sklearn.ensemble import IsolationForest\n",
        "#clf=IsolationForest(n_estimators=100, max_samples='auto', contamination=float(.12), max_features=1.0, bootstrap=False, n_jobs=-1, random_state=42, verbose=0)\n",
        "#clf.fit(X[to_model_columns])\n",
        "#pred = clf.predict(X[to_model_columns])\n",
        "#print(type(pred))\n",
        "#X['anomaly']=pred\n",
        "#outliers=X.loc[X['anomaly']==-1]\n",
        "#outlier_index=list(outliers.index)\n",
        "##print(outlier_index)\n",
        "##Find the number of anomalies and normal points here points classified -1 are anomalous\n",
        "#print(X['anomaly'].value_counts())\n",
        "#X['source_type']=np.array(y_)\n",
        "#df_ = X.loc[( X['anomaly']== -1)]\n",
        "#df_2 = X.loc[( X['anomaly']> -1)]\n",
        "#X['source_type']=np.array(y_)\n",
        "#df_.head(5)\n",
        "df_,df_2=mf.iso_tree(X,y_)"
      ],
      "execution_count": 5,
      "outputs": [
        {
          "output_type": "stream",
          "text": [
            "<class 'numpy.ndarray'>\n",
            " 1    1006\n",
            "-1     138\n",
            "Name: anomaly, dtype: int64\n"
          ],
          "name": "stdout"
        }
      ]
    },
    {
      "cell_type": "code",
      "metadata": {
        "id": "ii4yrZw1ondV",
        "colab_type": "code",
        "colab": {}
      },
      "source": [
        "#g=sns.pairplot(df_2,hue='source_type', vars=[ 'analysis_flags', 'HR12', 'HR23', 'HR34', 'P_E_lg', 'gamm_log', 'Ts_log',  'spectral_index'] , markers=[\"^\",\"v\"])\n",
        "#g.hue_names=['BL Lac', 'FSRQ']\n",
        "#g.fig.set_size_inches(20,18)\n",
        "#fig_ = g.fig.get_figure()\n",
        "#fig_.savefig(\"/content/drive/My Drive/lr_reducido-14 caracteristicas.png\")\n",
        "#g.fig.savefig(\"/content/drive/My Drive/lr_reducido-8 caracteristicas.png\")"
      ],
      "execution_count": 0,
      "outputs": []
    },
    {
      "cell_type": "code",
      "metadata": {
        "id": "RoJSR748Ed2U",
        "colab_type": "code",
        "outputId": "f1a38be2-e87b-4109-d2a2-20bd6808c655",
        "colab": {
          "base_uri": "https://localhost:8080/",
          "height": 141
        }
      },
      "source": [
        "df_std=df_\n",
        "df_y=df_std['source_type']\n",
        "#features_r=[  'HR12', 'HR23', 'HR34', 'P_E_lg', 'gamm_log', 'Ts_log',  'spectral_index']\n",
        "df_std=df_std[features_r]\n",
        "df_std.head(3)"
      ],
      "execution_count": 7,
      "outputs": [
        {
          "output_type": "execute_result",
          "data": {
            "text/html": [
              "<div>\n",
              "<style scoped>\n",
              "    .dataframe tbody tr th:only-of-type {\n",
              "        vertical-align: middle;\n",
              "    }\n",
              "\n",
              "    .dataframe tbody tr th {\n",
              "        vertical-align: top;\n",
              "    }\n",
              "\n",
              "    .dataframe thead th {\n",
              "        text-align: right;\n",
              "    }\n",
              "</style>\n",
              "<table border=\"1\" class=\"dataframe\">\n",
              "  <thead>\n",
              "    <tr style=\"text-align: right;\">\n",
              "      <th></th>\n",
              "      <th>HR12</th>\n",
              "      <th>HR23</th>\n",
              "      <th>HR34</th>\n",
              "      <th>P_E_lg</th>\n",
              "      <th>gamm_log</th>\n",
              "      <th>Ts_log</th>\n",
              "      <th>spectral_index</th>\n",
              "    </tr>\n",
              "  </thead>\n",
              "  <tbody>\n",
              "    <tr>\n",
              "      <th>2</th>\n",
              "      <td>-0.610184</td>\n",
              "      <td>-0.716013</td>\n",
              "      <td>-0.753035</td>\n",
              "      <td>2.469248</td>\n",
              "      <td>0.369381</td>\n",
              "      <td>1.470371</td>\n",
              "      <td>2.34089</td>\n",
              "    </tr>\n",
              "    <tr>\n",
              "      <th>4</th>\n",
              "      <td>-0.521313</td>\n",
              "      <td>-0.652628</td>\n",
              "      <td>-0.702739</td>\n",
              "      <td>2.566261</td>\n",
              "      <td>0.326352</td>\n",
              "      <td>1.447286</td>\n",
              "      <td>2.12008</td>\n",
              "    </tr>\n",
              "    <tr>\n",
              "      <th>5</th>\n",
              "      <td>-0.540915</td>\n",
              "      <td>-0.715299</td>\n",
              "      <td>-0.741504</td>\n",
              "      <td>2.566944</td>\n",
              "      <td>0.355011</td>\n",
              "      <td>1.155952</td>\n",
              "      <td>2.26470</td>\n",
              "    </tr>\n",
              "  </tbody>\n",
              "</table>\n",
              "</div>"
            ],
            "text/plain": [
              "       HR12      HR23      HR34    P_E_lg  gamm_log    Ts_log  spectral_index\n",
              "2 -0.610184 -0.716013 -0.753035  2.469248  0.369381  1.470371         2.34089\n",
              "4 -0.521313 -0.652628 -0.702739  2.566261  0.326352  1.447286         2.12008\n",
              "5 -0.540915 -0.715299 -0.741504  2.566944  0.355011  1.155952         2.26470"
            ]
          },
          "metadata": {
            "tags": []
          },
          "execution_count": 7
        }
      ]
    },
    {
      "cell_type": "code",
      "metadata": {
        "id": "kxDYREyMlpbv",
        "colab_type": "code",
        "outputId": "cd670e00-8278-470c-f97a-c052147afe70",
        "colab": {
          "base_uri": "https://localhost:8080/",
          "height": 554
        }
      },
      "source": [
        "df_std=df_2\n",
        "df_y=df_std['source_type']\n",
        "features_r=[ 'HR12', 'HR23', 'HR34', 'P_E_lg', 'gamm_log', 'Ts_log',  'spectral_index']\n",
        "df_std=df_std[features_r]\n",
        "X_train, X_test, y_train, y_test = train_test_split(df_std, df_y, test_size=0.3)\n",
        "mf.grid_pca_LR(X_std,y_,X_train,y_train,70)\n",
        "X_std=df_std\n",
        "y_=df_y"
      ],
      "execution_count": 21,
      "outputs": [
        {
          "output_type": "stream",
          "text": [
            "Best parameter (CV score=0.865):\n",
            "{'logistic__C': 21.54434690031882, 'pca__n_components': 2}\n"
          ],
          "name": "stdout"
        },
        {
          "output_type": "display_data",
          "data": {
            "image/png": "[encoded data removed]",
            "text/plain": [
              "<Figure size 432x432 with 2 Axes>"
            ]
          },
          "metadata": {
            "tags": []
          }
        },
        {
          "output_type": "stream",
          "text": [
            "Fitting 3 folds for each of 600 candidates, totalling 1800 fits\n"
          ],
          "name": "stdout"
        },
        {
          "output_type": "stream",
          "text": [
            "[Parallel(n_jobs=1)]: Using backend SequentialBackend with 1 concurrent workers.\n"
          ],
          "name": "stderr"
        },
        {
          "output_type": "stream",
          "text": [
            "Best Params {'C': 0.6969757575757576, 'penalty': 'l2', 'solver': 'lbfgs'}\n",
            "Best Score 0.8736012608353034\n"
          ],
          "name": "stdout"
        },
        {
          "output_type": "stream",
          "text": [
            "[Parallel(n_jobs=1)]: Done 1800 out of 1800 | elapsed:    9.5s finished\n"
          ],
          "name": "stderr"
        }
      ]
    },
    {
      "cell_type": "code",
      "metadata": {
        "id": "KYEO_uHo6mzq",
        "colab_type": "code",
        "colab": {}
      },
      "source": [
        "   \n",
        "def reduce_features (features_,df):\n",
        "  from sklearn.preprocessing import StandardScaler\n",
        "  new_df=df[features_]\n",
        "  #df.drop(['source_type'], axis=1, inplace=True)\n",
        "  sc = StandardScaler()\n",
        "  sc.fit(X)\n",
        "  #sc.fit(y)\n",
        "  X_std = sc.transform(X)\n",
        "  return new_df,X_std\n",
        "#X,X_std=reduce_features(features_,X) \n",
        "#df_UNK=pd.read_excel('/content/drive/My Drive/tree_UNK.xlsx')\n",
        "#df0.head(20)\n"
      ],
      "execution_count": 0,
      "outputs": []
    },
    {
      "cell_type": "code",
      "metadata": {
        "id": "ZC3fFn1jKr6C",
        "colab_type": "code",
        "outputId": "0c7c50c2-0ef0-4116-be50-931034ca6778",
        "colab": {
          "base_uri": "https://localhost:8080/",
          "height": 240,
          "referenced_widgets": [
            "67ee047d886f48d79b0b6013b2fe1ca4",
            "7986f44112504f1ab36ea93ce0470970",
            "08e230fd2f9a4307b28149a66ff4c736",
            "f433c90a20ff4334845c8dcc8ec8726e",
            "2ae3e4cfa8ca4d69908aaecb78c84923",
            "885c499675d2437db1e24425c46e89ff",
            "3404b5b1c7eb43e19609cbc7a9752f6e",
            "f2862655e24c48cea258e78b8bb7cd29",
            "af7fdc37691849338b83f0848d9c3cb2",
            "c3ee2f899150426988464c593232e41d",
            "26cca0bb5b5c4cb796e87785aa036497",
            "fd48ef59966a4f788ad29ee112a4031c",
            "e3d5a6b27aa44c8a9cc836d35de0c152",
            "35555164c4164a6db8551abebf092d63",
            "e121a207e3e34a5cb700c14b03c35e9c",
            "8d56232865024dbd81ee63e97b9e08d2",
            "735364363a154870a0a18a8cb74e7660",
            "ffde16dcbb27451d8e3f85a3f448b401",
            "92a1fbd5535e4f36aa88060fe43c29bb",
            "d601bf68ac084331be8d5b4375fb8227",
            "9aef00527d6f426d8f8c72a3389bccce",
            "f7a5b97765ec48b98c501fe9d07c64e8",
            "89fc6b314e3a4ab38d3a077e26b4a644",
            "3ae0ae97f2904501b4af95554d416e8a",
            "5541d4190a2a4db5b6f4f43791f789b8",
            "4ef59dfec7514bd4b5989265ecabc38e",
            "3da030fb9a894b2d91f7cd23166c22d3",
            "88c6a0b9229d42809b1f50dad3dad3c7"
          ]
        }
      },
      "source": [
        "from ipywidgets import  interact, widget  \n",
        "from ipywidgets import  interact_manual\n",
        "#from ipywidgets  import TwoByTwoLayout, AppLayout, GridspecLayout\n",
        "from ipywidgets import interactive,interact, HBox, Layout,VBox\n",
        "\n",
        "from ipywidgets import IntSlider\n",
        "#size_subset = [0.2,0.25,0.3,0.35,0.4]\n",
        "#@interact\n",
        "@widgets.interact_manual(\n",
        "    color=['blue', 'red', 'green'], lw=(1., 10.))\n",
        " \n",
        "\n",
        "\n",
        "def echo(Save='Salvar archivo como...', size_subset=[0.3, 0.2, 0.35,0.35, 0.4],kernel=['linear','rbf'],C='0.11',penalty_=['l1', 'l2', 'elasticnet'],solver=['liblinear','lbfgs'],Save_model=False):\n",
        "\n",
        "  # hay que devolver X_std normalizado con el numero de caracteriscitcas reducidas usando reduce_features()\n",
        "  X_train, X_test, y_train, y_test = train_test_split(df_std,df_y, test_size=size_subset)\n",
        "  tree = LogisticRegression(C=1.0, class_weight=None, dual=False, fit_intercept=True,\n",
        "                   intercept_scaling=1, l1_ratio=None, max_iter=1000,\n",
        "                   multi_class='auto', n_jobs=None, penalty=penalty_,\n",
        "                   random_state=None, solver=solver, tol=0.0001, verbose=0,\n",
        "                   warm_start=False)\n",
        "  clf =tree.fit(X_train, y_train)\n",
        "  echo.widget.layout.flex_flow='row wrap'\n",
        "  # widget=interactive(echo,Save='Salvar archivo como...', size_subset=[0.2,0.25,0.3,0.35,0.4],loss=['entropy','gini'],split=100)\n",
        "  #controls = HBox(widget.children[:-1], layout = Layout(flex_flow='row wrap'))\n",
        "  #output = widget.children[-1]\n",
        "  #display(VBox([controls, output]))  \n",
        "\n",
        "\n",
        "  print(\"test score: \",tree.score(X_test, y_test))\n",
        "  print(\"train score: \",tree.score(X_train, y_train))\n",
        "  print('Cross validation score with std desv')\n",
        " \n",
        "  a,b=mf.Snippet_192(tree, X_test, y_test)\n",
        "  \n",
        "  print(\"Accuracy: %0.2f (+/- %0.2f)\" % (a , b*2) )\n",
        "  y_pred = tree.predict(X_test)\n",
        "  print(confusion_matrix(y_test, y_pred))\n",
        "  #plt.figure(figsize=(30,15))\n",
        "  #plt.suptitle(\"Decision surface of a decision tree using paired features\")\n",
        "  #plt.legend(loc='lower right', borderpad=0, handletextpad=0)\n",
        "  #plt.axis(\"tight\")\n",
        "  #arbol=plot_tree(clf, filled=True, feature_names=X.columns)\n",
        "  #tree\n",
        "  import pickle\n",
        " \n",
        "  model=tree\n",
        "  pkl_filename = \"/content/drive/My Drive/LR-pickle_model.pkl\"\n",
        "  with open(pkl_filename, 'wb') as file:\n",
        "         pickle.dump(model, file)\n",
        "\n",
        "  return tree\n",
        "  \n",
        "\n"
      ],
      "execution_count": 22,
      "outputs": [
        {
          "output_type": "display_data",
          "data": {
            "application/vnd.jupyter.widget-view+json": {
              "model_id": "67ee047d886f48d79b0b6013b2fe1ca4",
              "version_minor": 0,
              "version_major": 2
            },
            "text/plain": [
              "interactive(children=(Text(value='Salvar archivo como...', description='Save'), Dropdown(description='size_sub…"
            ]
          },
          "metadata": {
            "tags": []
          }
        }
      ]
    },
    {
      "cell_type": "code",
      "metadata": {
        "id": "YWd5J5Mtktng",
        "colab_type": "code",
        "outputId": "325f0a20-d90b-48a2-d6d8-b3b65ad0796b",
        "colab": {
          "base_uri": "https://localhost:8080/",
          "height": 104
        }
      },
      "source": [
        "\n",
        "import pickle\n",
        "from IPython.utils import io\n",
        "# Load from file\n",
        "pkl_filename = \"/content/drive/My Drive/LR-pickle_model.pkl\"\n",
        "with open(pkl_filename, 'rb') as file:\n",
        "    pickle_model = pickle.load(file)\n",
        "#df_UNK=pd.read_excel('/content/drive/My Drive/tree_UNK.xlsx')\n",
        "#Calculate the accuracy score and predict target values from recovered model\n",
        "X_train, X_test, y_train, y_test = train_test_split(X_std, y_, test_size=0.3)\n",
        "#suprimir salida en pantalla del entrenamiento\n",
        "print('Usando modelo recuperado sobre X_test')\n",
        "with io.capture_output() as captured: \n",
        "  score = pickle_model.score(X_test, y_test)\n",
        "print('ok')\n",
        "print(\"Test score: {0:.2f} %\".format(100 * score))\n",
        "print('Prediciendo escore con des est.')\n",
        "with io.capture_output() as captured:    \n",
        "  a,b=mf.Snippet_192(pickle_model, X_test, y_test)\n",
        "print(\"Accuracy: %0.2f (+/- %0.2f)\" % (a , b*2) )\n"
      ],
      "execution_count": 11,
      "outputs": [
        {
          "output_type": "stream",
          "text": [
            "Usando modelo recuperado sobre X_test\n",
            "ok\n",
            "Test score: 86.75 %\n",
            "Prediciendo escore con des est.\n",
            "Accuracy: 0.86 (+/- 0.18)\n"
          ],
          "name": "stdout"
        }
      ]
    },
    {
      "cell_type": "code",
      "metadata": {
        "id": "TyKjd8iQktqv",
        "colab_type": "code",
        "outputId": "4a4d7d76-faca-4886-ab42-27e6a6d2df3b",
        "colab": {
          "base_uri": "https://localhost:8080/",
          "height": 881
        }
      },
      "source": [
        "a,b=mf.Snippet_192(pickle_model, X_test, y_test)\n",
        "print(\"Accuracy: %0.2f (+/- %0.2f)\" % (a , b*2) )\n",
        "mf.Snippet_191(pickle_model, X_test, y_test)\n",
        "mf.Snippet_188(X_test, y_test,pickle_model)"
      ],
      "execution_count": 12,
      "outputs": [
        {
          "output_type": "stream",
          "text": [
            "Accuracy: 0.86 (+/- 0.18)\n",
            "Optimal number of features : 4\n"
          ],
          "name": "stdout"
        },
        {
          "output_type": "display_data",
          "data": {
            "image/png": "[encoded data removed]",
            "text/plain": [
              "<Figure size 864x432 with 1 Axes>"
            ]
          },
          "metadata": {
            "tags": [],
            "needs_background": "light"
          }
        },
        {
          "output_type": "stream",
          "text": [
            "LogisticRegression\n",
            "********************Hoe to evaluate model with learning curves********************\n"
          ],
          "name": "stdout"
        },
        {
          "output_type": "display_data",
          "data": {
            "image/png": "[encoded data removed]",
            "text/plain": [
              "<Figure size 432x432 with 1 Axes>"
            ]
          },
          "metadata": {
            "tags": []
          }
        }
      ]
    },
    {
      "cell_type": "code",
      "metadata": {
        "id": "hgzMcUiQlI85",
        "colab_type": "code",
        "outputId": "8555090e-26a3-4dc3-92aa-7e8498ddf9dd",
        "colab": {
          "base_uri": "https://localhost:8080/",
          "height": 413
        }
      },
      "source": [
        "mf.Snippet_190(pickle_model, X_test, y_test, 5)"
      ],
      "execution_count": 13,
      "outputs": [
        {
          "output_type": "stream",
          "text": [
            "*********************Hoe to visualise cross validation scores*********************\n",
            "0.8722409471955752\n"
          ],
          "name": "stdout"
        },
        {
          "output_type": "display_data",
          "data": {
            "image/png": "[encoded data removed]",
            "text/plain": [
              "<Figure size 1728x432 with 1 Axes>"
            ]
          },
          "metadata": {
            "tags": []
          }
        }
      ]
    },
    {
      "cell_type": "code",
      "metadata": {
        "id": "ksLkWgihlPDb",
        "colab_type": "code",
        "outputId": "82fb033a-b1cf-4d4b-d615-b44887fe487c",
        "colab": {
          "base_uri": "https://localhost:8080/",
          "height": 298
        }
      },
      "source": [
        "mf.ROC_(pickle_model, X_test,y_test )"
      ],
      "execution_count": 14,
      "outputs": [
        {
          "output_type": "display_data",
          "data": {
            "image/png": "[encoded data removed]",
            "text/plain": [
              "<Figure size 432x288 with 1 Axes>"
            ]
          },
          "metadata": {
            "tags": []
          }
        }
      ]
    },
    {
      "cell_type": "markdown",
      "metadata": {
        "id": "4f0VC1wLlScS",
        "colab_type": "text"
      },
      "source": [
        "#In order to rebuild a similar model with future versions of scikit-learn, additional metadata should be saved along the pickled model:\n",
        "The training data, e.g. a reference to an immutable snapshot\n",
        "\n",
        "The python source code used to generate the model\n",
        "\n",
        "The versions of scikit-learn and its dependencies\n",
        "\n",
        "The cross validation score obtained on the training data\n",
        "\n",
        "This should make it possible to check that the cross-validation score is in the same range as before."
      ]
    },
    {
      "cell_type": "code",
      "metadata": {
        "id": "w2Tq60iElI4a",
        "colab_type": "code",
        "outputId": "9b9accfb-7fba-4a99-cd9f-524661722292",
        "colab": {
          "base_uri": "https://localhost:8080/",
          "height": 397
        }
      },
      "source": [
        "import pickle\n",
        "\n",
        "#from google.colab import files\n",
        "#files.download('your typical text file or what ever.txt')\n",
        "# Create your model here (same as above)\n",
        "#\n",
        "\n",
        "# Save to file in the current working directory\n",
        "#model=tree\n",
        "#pkl_filename = \"/content/drive/My Drive/tree(3-1)-pickle_model.pkl\"\n",
        "#with open(pkl_filename, 'wb') as file:\n",
        "#    pickle.dump(model, file)\n",
        "#Ojo se queda convertido en cero\n",
        "df_UNK=pd.read_excel('/content/drive/My Drive/tree_UNK.xlsx')\n",
        "\n",
        "# Load from file\n",
        "pkl_filename = \"/content/drive/My Drive/LR-pickle_model.pkl\"\n",
        "with open(pkl_filename, 'rb') as file:\n",
        "    pickle_model = pickle.load(file)\n",
        "    \n",
        "#Calculate the accuracy score and predict target values from recovered model\n",
        "\n",
        "df_pre=df_UNK.copy()\n",
        "\n",
        "print(df_pre.shape)\n",
        "df_pre=df_pre[features_]\n",
        "df_pre.drop(['source_type'], axis=1, inplace=True)\n",
        "print(df_pre.shape)\n",
        "#normalizamos el dtaframe A PREDECIR\n",
        "sc = StandardScaler()\n",
        "sc.fit(df_pre)\n",
        "df_pre_std = sc.transform(df_pre)\n",
        "\n",
        "#X_train, X_test, y_train, y_test = train_test_split(X_std, y_, test_size=0.3)\n",
        "#score = pickle_model.score(X_test, y_test)\n",
        "#print(\"Test score: {0:.2f} %\".format(100 * score))\n",
        "#Snippet_192(pickle_model, X_test, y_test)\n",
        "\n",
        "df_pre.head(5)"
      ],
      "execution_count": 15,
      "outputs": [
        {
          "output_type": "stream",
          "text": [
            "(573, 58)\n"
          ],
          "name": "stdout"
        },
        {
          "output_type": "error",
          "ename": "KeyError",
          "evalue": "ignored",
          "traceback": [
            "\u001b[0;31m---------------------------------------------------------------------------\u001b[0m",
            "\u001b[0;31mKeyError\u001b[0m                                  Traceback (most recent call last)",
            "\u001b[0;32m<ipython-input-15-2eda87e3d532>\u001b[0m in \u001b[0;36m<module>\u001b[0;34m()\u001b[0m\n\u001b[1;32m     25\u001b[0m \u001b[0mprint\u001b[0m\u001b[0;34m(\u001b[0m\u001b[0mdf_pre\u001b[0m\u001b[0;34m.\u001b[0m\u001b[0mshape\u001b[0m\u001b[0;34m)\u001b[0m\u001b[0;34m\u001b[0m\u001b[0;34m\u001b[0m\u001b[0m\n\u001b[1;32m     26\u001b[0m \u001b[0mdf_pre\u001b[0m\u001b[0;34m=\u001b[0m\u001b[0mdf_pre\u001b[0m\u001b[0;34m[\u001b[0m\u001b[0mfeatures_\u001b[0m\u001b[0;34m]\u001b[0m\u001b[0;34m\u001b[0m\u001b[0;34m\u001b[0m\u001b[0m\n\u001b[0;32m---> 27\u001b[0;31m \u001b[0mdf_pre\u001b[0m\u001b[0;34m.\u001b[0m\u001b[0mdrop\u001b[0m\u001b[0;34m(\u001b[0m\u001b[0;34m[\u001b[0m\u001b[0;34m'source_type'\u001b[0m\u001b[0;34m]\u001b[0m\u001b[0;34m,\u001b[0m \u001b[0maxis\u001b[0m\u001b[0;34m=\u001b[0m\u001b[0;36m1\u001b[0m\u001b[0;34m,\u001b[0m \u001b[0minplace\u001b[0m\u001b[0;34m=\u001b[0m\u001b[0;32mTrue\u001b[0m\u001b[0;34m)\u001b[0m\u001b[0;34m\u001b[0m\u001b[0;34m\u001b[0m\u001b[0m\n\u001b[0m\u001b[1;32m     28\u001b[0m \u001b[0mprint\u001b[0m\u001b[0;34m(\u001b[0m\u001b[0mdf_pre\u001b[0m\u001b[0;34m.\u001b[0m\u001b[0mshape\u001b[0m\u001b[0;34m)\u001b[0m\u001b[0;34m\u001b[0m\u001b[0;34m\u001b[0m\u001b[0m\n\u001b[1;32m     29\u001b[0m \u001b[0;31m#normalizamos el dtaframe A PREDECIR\u001b[0m\u001b[0;34m\u001b[0m\u001b[0;34m\u001b[0m\u001b[0;34m\u001b[0m\u001b[0m\n",
            "\u001b[0;32m/usr/local/lib/python3.6/dist-packages/pandas/core/frame.py\u001b[0m in \u001b[0;36mdrop\u001b[0;34m(self, labels, axis, index, columns, level, inplace, errors)\u001b[0m\n\u001b[1;32m   3995\u001b[0m             \u001b[0mlevel\u001b[0m\u001b[0;34m=\u001b[0m\u001b[0mlevel\u001b[0m\u001b[0;34m,\u001b[0m\u001b[0;34m\u001b[0m\u001b[0;34m\u001b[0m\u001b[0m\n\u001b[1;32m   3996\u001b[0m             \u001b[0minplace\u001b[0m\u001b[0;34m=\u001b[0m\u001b[0minplace\u001b[0m\u001b[0;34m,\u001b[0m\u001b[0;34m\u001b[0m\u001b[0;34m\u001b[0m\u001b[0m\n\u001b[0;32m-> 3997\u001b[0;31m             \u001b[0merrors\u001b[0m\u001b[0;34m=\u001b[0m\u001b[0merrors\u001b[0m\u001b[0;34m,\u001b[0m\u001b[0;34m\u001b[0m\u001b[0;34m\u001b[0m\u001b[0m\n\u001b[0m\u001b[1;32m   3998\u001b[0m         )\n\u001b[1;32m   3999\u001b[0m \u001b[0;34m\u001b[0m\u001b[0m\n",
            "\u001b[0;32m/usr/local/lib/python3.6/dist-packages/pandas/core/generic.py\u001b[0m in \u001b[0;36mdrop\u001b[0;34m(self, labels, axis, index, columns, level, inplace, errors)\u001b[0m\n\u001b[1;32m   3934\u001b[0m         \u001b[0;32mfor\u001b[0m \u001b[0maxis\u001b[0m\u001b[0;34m,\u001b[0m \u001b[0mlabels\u001b[0m \u001b[0;32min\u001b[0m \u001b[0maxes\u001b[0m\u001b[0;34m.\u001b[0m\u001b[0mitems\u001b[0m\u001b[0;34m(\u001b[0m\u001b[0;34m)\u001b[0m\u001b[0;34m:\u001b[0m\u001b[0;34m\u001b[0m\u001b[0;34m\u001b[0m\u001b[0m\n\u001b[1;32m   3935\u001b[0m             \u001b[0;32mif\u001b[0m \u001b[0mlabels\u001b[0m \u001b[0;32mis\u001b[0m \u001b[0;32mnot\u001b[0m \u001b[0;32mNone\u001b[0m\u001b[0;34m:\u001b[0m\u001b[0;34m\u001b[0m\u001b[0;34m\u001b[0m\u001b[0m\n\u001b[0;32m-> 3936\u001b[0;31m                 \u001b[0mobj\u001b[0m \u001b[0;34m=\u001b[0m \u001b[0mobj\u001b[0m\u001b[0;34m.\u001b[0m\u001b[0m_drop_axis\u001b[0m\u001b[0;34m(\u001b[0m\u001b[0mlabels\u001b[0m\u001b[0;34m,\u001b[0m \u001b[0maxis\u001b[0m\u001b[0;34m,\u001b[0m \u001b[0mlevel\u001b[0m\u001b[0;34m=\u001b[0m\u001b[0mlevel\u001b[0m\u001b[0;34m,\u001b[0m \u001b[0merrors\u001b[0m\u001b[0;34m=\u001b[0m\u001b[0merrors\u001b[0m\u001b[0;34m)\u001b[0m\u001b[0;34m\u001b[0m\u001b[0;34m\u001b[0m\u001b[0m\n\u001b[0m\u001b[1;32m   3937\u001b[0m \u001b[0;34m\u001b[0m\u001b[0m\n\u001b[1;32m   3938\u001b[0m         \u001b[0;32mif\u001b[0m \u001b[0minplace\u001b[0m\u001b[0;34m:\u001b[0m\u001b[0;34m\u001b[0m\u001b[0;34m\u001b[0m\u001b[0m\n",
            "\u001b[0;32m/usr/local/lib/python3.6/dist-packages/pandas/core/generic.py\u001b[0m in \u001b[0;36m_drop_axis\u001b[0;34m(self, labels, axis, level, errors)\u001b[0m\n\u001b[1;32m   3968\u001b[0m                 \u001b[0mnew_axis\u001b[0m \u001b[0;34m=\u001b[0m \u001b[0maxis\u001b[0m\u001b[0;34m.\u001b[0m\u001b[0mdrop\u001b[0m\u001b[0;34m(\u001b[0m\u001b[0mlabels\u001b[0m\u001b[0;34m,\u001b[0m \u001b[0mlevel\u001b[0m\u001b[0;34m=\u001b[0m\u001b[0mlevel\u001b[0m\u001b[0;34m,\u001b[0m \u001b[0merrors\u001b[0m\u001b[0;34m=\u001b[0m\u001b[0merrors\u001b[0m\u001b[0;34m)\u001b[0m\u001b[0;34m\u001b[0m\u001b[0;34m\u001b[0m\u001b[0m\n\u001b[1;32m   3969\u001b[0m             \u001b[0;32melse\u001b[0m\u001b[0;34m:\u001b[0m\u001b[0;34m\u001b[0m\u001b[0;34m\u001b[0m\u001b[0m\n\u001b[0;32m-> 3970\u001b[0;31m                 \u001b[0mnew_axis\u001b[0m \u001b[0;34m=\u001b[0m \u001b[0maxis\u001b[0m\u001b[0;34m.\u001b[0m\u001b[0mdrop\u001b[0m\u001b[0;34m(\u001b[0m\u001b[0mlabels\u001b[0m\u001b[0;34m,\u001b[0m \u001b[0merrors\u001b[0m\u001b[0;34m=\u001b[0m\u001b[0merrors\u001b[0m\u001b[0;34m)\u001b[0m\u001b[0;34m\u001b[0m\u001b[0;34m\u001b[0m\u001b[0m\n\u001b[0m\u001b[1;32m   3971\u001b[0m             \u001b[0mresult\u001b[0m \u001b[0;34m=\u001b[0m \u001b[0mself\u001b[0m\u001b[0;34m.\u001b[0m\u001b[0mreindex\u001b[0m\u001b[0;34m(\u001b[0m\u001b[0;34m**\u001b[0m\u001b[0;34m{\u001b[0m\u001b[0maxis_name\u001b[0m\u001b[0;34m:\u001b[0m \u001b[0mnew_axis\u001b[0m\u001b[0;34m}\u001b[0m\u001b[0;34m)\u001b[0m\u001b[0;34m\u001b[0m\u001b[0;34m\u001b[0m\u001b[0m\n\u001b[1;32m   3972\u001b[0m \u001b[0;34m\u001b[0m\u001b[0m\n",
            "\u001b[0;32m/usr/local/lib/python3.6/dist-packages/pandas/core/indexes/base.py\u001b[0m in \u001b[0;36mdrop\u001b[0;34m(self, labels, errors)\u001b[0m\n\u001b[1;32m   5016\u001b[0m         \u001b[0;32mif\u001b[0m \u001b[0mmask\u001b[0m\u001b[0;34m.\u001b[0m\u001b[0many\u001b[0m\u001b[0;34m(\u001b[0m\u001b[0;34m)\u001b[0m\u001b[0;34m:\u001b[0m\u001b[0;34m\u001b[0m\u001b[0;34m\u001b[0m\u001b[0m\n\u001b[1;32m   5017\u001b[0m             \u001b[0;32mif\u001b[0m \u001b[0merrors\u001b[0m \u001b[0;34m!=\u001b[0m \u001b[0;34m\"ignore\"\u001b[0m\u001b[0;34m:\u001b[0m\u001b[0;34m\u001b[0m\u001b[0;34m\u001b[0m\u001b[0m\n\u001b[0;32m-> 5018\u001b[0;31m                 \u001b[0;32mraise\u001b[0m \u001b[0mKeyError\u001b[0m\u001b[0;34m(\u001b[0m\u001b[0;34mf\"{labels[mask]} not found in axis\"\u001b[0m\u001b[0;34m)\u001b[0m\u001b[0;34m\u001b[0m\u001b[0;34m\u001b[0m\u001b[0m\n\u001b[0m\u001b[1;32m   5019\u001b[0m             \u001b[0mindexer\u001b[0m \u001b[0;34m=\u001b[0m \u001b[0mindexer\u001b[0m\u001b[0;34m[\u001b[0m\u001b[0;34m~\u001b[0m\u001b[0mmask\u001b[0m\u001b[0;34m]\u001b[0m\u001b[0;34m\u001b[0m\u001b[0;34m\u001b[0m\u001b[0m\n\u001b[1;32m   5020\u001b[0m         \u001b[0;32mreturn\u001b[0m \u001b[0mself\u001b[0m\u001b[0;34m.\u001b[0m\u001b[0mdelete\u001b[0m\u001b[0;34m(\u001b[0m\u001b[0mindexer\u001b[0m\u001b[0;34m)\u001b[0m\u001b[0;34m\u001b[0m\u001b[0;34m\u001b[0m\u001b[0m\n",
            "\u001b[0;31mKeyError\u001b[0m: \"['source_type'] not found in axis\""
          ]
        }
      ]
    },
    {
      "cell_type": "markdown",
      "metadata": {
        "id": "BNBk6Bl3vcW8",
        "colab_type": "text"
      },
      "source": [
        "#PREDICCION USANDO EL MODELO SALVADO"
      ]
    },
    {
      "cell_type": "code",
      "metadata": {
        "id": "iJGkXNlwvcD8",
        "colab_type": "code",
        "colab": {}
      },
      "source": [
        "# REDECIMOS USANDO EL DATAFRAME INCOGNITA CON EL MODELO ENTRENADO, SALVADO Y VUELTO A CARGAR CON PICKLE_MODEL\n",
        "#-----------------------------------------------------------------#\n",
        "Ypredict = pickle_model.predict(df_pre_std)\n",
        "#-----------------------------------------------------------------#\n",
        "#Ypredict"
      ],
      "execution_count": 0,
      "outputs": []
    },
    {
      "cell_type": "code",
      "metadata": {
        "id": "Q4jv68T0JNur",
        "colab_type": "code",
        "colab": {}
      },
      "source": [
        "#df_UNK.head(20)\n",
        "#df_pre.head(5)\n",
        "#X_std.shape\n",
        "#COMPLETAMOS EL DATAFRAME DE LOS BLAZARS DESCONOCIDOS CON NUESTRA PREDICCIÓN \n",
        " #-----------------------------------------------------------------# \n",
        "df_UNK['source_type']=Ypredict\n",
        "df_UNK.head(5)\n",
        "#-----------------------------------------------------------------#\n"
      ],
      "execution_count": 0,
      "outputs": []
    },
    {
      "cell_type": "code",
      "metadata": {
        "id": "k7ismsLtxHsv",
        "colab_type": "code",
        "colab": {}
      },
      "source": [
        "# RECUENTO DE CLASIFICACION\n",
        "print ('Bl Lac = 1 -- FSRQ = 0')\n",
        "df_UNK['source_type'].apply(pd.Series).stack().value_counts()\n",
        "#Ypredict\n"
      ],
      "execution_count": 0,
      "outputs": []
    }
  ]
}