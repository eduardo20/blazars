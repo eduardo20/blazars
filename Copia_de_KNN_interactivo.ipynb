{
  "nbformat": 4,
  "nbformat_minor": 0,
  "metadata": {
    "colab": {
      "name": "Copia de KNN_interactivo.ipynb",
      "provenance": [],
      "collapsed_sections": [],
      "authorship_tag": "ABX9TyMOm9/0MITLYu1tBqdgJTl/",
      "include_colab_link": true
    },
    "kernelspec": {
      "name": "python3",
      "display_name": "Python 3"
    },
    "widgets": {
      "application/vnd.jupyter.widget-state+json": {
        "ff684fe8b45f440a88523dc0040ad05b": {
          "model_module": "@jupyter-widgets/controls",
          "model_name": "VBoxModel",
          "state": {
            "_view_name": "VBoxView",
            "_dom_classes": [
              "widget-interact"
            ],
            "_model_name": "VBoxModel",
            "_view_module": "@jupyter-widgets/controls",
            "_model_module_version": "1.5.0",
            "_view_count": null,
            "_view_module_version": "1.5.0",
            "box_style": "",
            "layout": "IPY_MODEL_ee265470c69f4cbf8a1ee19ef7a8e229",
            "_model_module": "@jupyter-widgets/controls",
            "children": [
              "IPY_MODEL_4c14090e52574cb38d2947db71b9eb2b",
              "IPY_MODEL_1fd43ec11d984168a00d6acbafeafa16",
              "IPY_MODEL_177e032723ab4f1488e11c2a1014cd2d",
              "IPY_MODEL_75150a93c78a4e32ad758a2071d5eb38",
              "IPY_MODEL_198f252355144ace9c085ffcbe9da0ff",
              "IPY_MODEL_8a5da20cc3874a24a9cebce9215cfcba"
            ]
          }
        },
        "ee265470c69f4cbf8a1ee19ef7a8e229": {
          "model_module": "@jupyter-widgets/base",
          "model_name": "LayoutModel",
          "state": {
            "_view_name": "LayoutView",
            "grid_template_rows": null,
            "right": null,
            "justify_content": null,
            "_view_module": "@jupyter-widgets/base",
            "overflow": null,
            "_model_module_version": "1.2.0",
            "_view_count": null,
            "flex_flow": "row wrap",
            "width": null,
            "min_width": null,
            "border": null,
            "align_items": null,
            "bottom": null,
            "_model_module": "@jupyter-widgets/base",
            "top": null,
            "grid_column": null,
            "overflow_y": null,
            "overflow_x": null,
            "grid_auto_flow": null,
            "grid_area": null,
            "grid_template_columns": null,
            "flex": null,
            "_model_name": "LayoutModel",
            "justify_items": null,
            "grid_row": null,
            "max_height": null,
            "align_content": null,
            "visibility": null,
            "align_self": null,
            "height": null,
            "min_height": null,
            "padding": null,
            "grid_auto_rows": null,
            "grid_gap": null,
            "max_width": null,
            "order": null,
            "_view_module_version": "1.2.0",
            "grid_template_areas": null,
            "object_position": null,
            "object_fit": null,
            "grid_auto_columns": null,
            "margin": null,
            "display": null,
            "left": null
          }
        },
        "4c14090e52574cb38d2947db71b9eb2b": {
          "model_module": "@jupyter-widgets/controls",
          "model_name": "TextModel",
          "state": {
            "_view_name": "TextView",
            "style": "IPY_MODEL_de9ab0d2cb184396b2dfe6a7af23fd6a",
            "_dom_classes": [],
            "description": "Save",
            "_model_name": "TextModel",
            "placeholder": "​",
            "_view_module": "@jupyter-widgets/controls",
            "_model_module_version": "1.5.0",
            "value": "Salvar archivo como...",
            "_view_count": null,
            "disabled": false,
            "_view_module_version": "1.5.0",
            "continuous_update": true,
            "description_tooltip": null,
            "_model_module": "@jupyter-widgets/controls",
            "layout": "IPY_MODEL_f66bff66b6864d20a4b36dc260605191"
          }
        },
        "1fd43ec11d984168a00d6acbafeafa16": {
          "model_module": "@jupyter-widgets/controls",
          "model_name": "DropdownModel",
          "state": {
            "_options_labels": [
              "0.3",
              "0.2",
              "0.25",
              "0.35",
              "0.4"
            ],
            "_view_name": "DropdownView",
            "style": "IPY_MODEL_fc10dd0b622944d8a1e0b628494d45ec",
            "_dom_classes": [],
            "description": "size_subset",
            "_model_name": "DropdownModel",
            "index": 0,
            "_view_module": "@jupyter-widgets/controls",
            "_model_module_version": "1.5.0",
            "_view_count": null,
            "disabled": false,
            "_view_module_version": "1.5.0",
            "description_tooltip": null,
            "_model_module": "@jupyter-widgets/controls",
            "layout": "IPY_MODEL_c357f4b388034ad4a6d3305403ca7866"
          }
        },
        "177e032723ab4f1488e11c2a1014cd2d": {
          "model_module": "@jupyter-widgets/controls",
          "model_name": "DropdownModel",
          "state": {
            "_options_labels": [
              "2",
              "3",
              "4",
              "5",
              "6",
              "7",
              "9",
              "10",
              "11"
            ],
            "_view_name": "DropdownView",
            "style": "IPY_MODEL_5a5d959e60b1409091587a1fdbbea640",
            "_dom_classes": [],
            "description": "Neighbors",
            "_model_name": "DropdownModel",
            "index": 8,
            "_view_module": "@jupyter-widgets/controls",
            "_model_module_version": "1.5.0",
            "_view_count": null,
            "disabled": false,
            "_view_module_version": "1.5.0",
            "description_tooltip": null,
            "_model_module": "@jupyter-widgets/controls",
            "layout": "IPY_MODEL_fba1d9e3da1348199141f697963cbfca"
          }
        },
        "75150a93c78a4e32ad758a2071d5eb38": {
          "model_module": "@jupyter-widgets/controls",
          "model_name": "CheckboxModel",
          "state": {
            "_view_name": "CheckboxView",
            "style": "IPY_MODEL_5af87280cc544523bc5a3b7b453f3baa",
            "_dom_classes": [],
            "description": "Save_model",
            "_model_name": "CheckboxModel",
            "_view_module": "@jupyter-widgets/controls",
            "_model_module_version": "1.5.0",
            "value": false,
            "_view_count": null,
            "disabled": false,
            "_view_module_version": "1.5.0",
            "indent": true,
            "description_tooltip": null,
            "_model_module": "@jupyter-widgets/controls",
            "layout": "IPY_MODEL_5d7bfacb71bc48429efbc02762a86dcb"
          }
        },
        "198f252355144ace9c085ffcbe9da0ff": {
          "model_module": "@jupyter-widgets/controls",
          "model_name": "ButtonModel",
          "state": {
            "_view_name": "ButtonView",
            "style": "IPY_MODEL_f115bf397f3c4d19b22831db912c5c6c",
            "_dom_classes": [],
            "description": "Run Interact",
            "_model_name": "ButtonModel",
            "button_style": "",
            "_view_module": "@jupyter-widgets/controls",
            "_model_module_version": "1.5.0",
            "tooltip": "",
            "_view_count": null,
            "disabled": false,
            "_view_module_version": "1.5.0",
            "layout": "IPY_MODEL_52b3a3d82e3e4a4387c5a5dc2ca6e03c",
            "_model_module": "@jupyter-widgets/controls",
            "icon": ""
          }
        },
        "8a5da20cc3874a24a9cebce9215cfcba": {
          "model_module": "@jupyter-widgets/output",
          "model_name": "OutputModel",
          "state": {
            "_view_name": "OutputView",
            "msg_id": "",
            "_dom_classes": [],
            "_model_name": "OutputModel",
            "outputs": [
              {
                "output_type": "stream",
                "metadata": {
                  "tags": []
                },
                "text": "test score:  0.8662790697674418\ntrain score:  0.90125\nCross validation score with std desv\n[[120  20]\n [ 26 178]]\n",
                "stream": "stdout"
              },
              {
                "output_type": "display_data",
                "metadata": {
                  "tags": []
                },
                "text/plain": "KNeighborsClassifier(algorithm='auto', leaf_size=30, metric='minkowski',\n                     metric_params=None, n_jobs=None, n_neighbors=11, p=2,\n                     weights='uniform')"
              }
            ],
            "_view_module": "@jupyter-widgets/output",
            "_model_module_version": "1.0.0",
            "_view_count": null,
            "_view_module_version": "1.0.0",
            "layout": "IPY_MODEL_ebb2b89cb0c74a5aa5097a60ecaef400",
            "_model_module": "@jupyter-widgets/output"
          }
        },
        "de9ab0d2cb184396b2dfe6a7af23fd6a": {
          "model_module": "@jupyter-widgets/controls",
          "model_name": "DescriptionStyleModel",
          "state": {
            "_view_name": "StyleView",
            "_model_name": "DescriptionStyleModel",
            "description_width": "",
            "_view_module": "@jupyter-widgets/base",
            "_model_module_version": "1.5.0",
            "_view_count": null,
            "_view_module_version": "1.2.0",
            "_model_module": "@jupyter-widgets/controls"
          }
        },
        "f66bff66b6864d20a4b36dc260605191": {
          "model_module": "@jupyter-widgets/base",
          "model_name": "LayoutModel",
          "state": {
            "_view_name": "LayoutView",
            "grid_template_rows": null,
            "right": null,
            "justify_content": null,
            "_view_module": "@jupyter-widgets/base",
            "overflow": null,
            "_model_module_version": "1.2.0",
            "_view_count": null,
            "flex_flow": null,
            "width": null,
            "min_width": null,
            "border": null,
            "align_items": null,
            "bottom": null,
            "_model_module": "@jupyter-widgets/base",
            "top": null,
            "grid_column": null,
            "overflow_y": null,
            "overflow_x": null,
            "grid_auto_flow": null,
            "grid_area": null,
            "grid_template_columns": null,
            "flex": null,
            "_model_name": "LayoutModel",
            "justify_items": null,
            "grid_row": null,
            "max_height": null,
            "align_content": null,
            "visibility": null,
            "align_self": null,
            "height": null,
            "min_height": null,
            "padding": null,
            "grid_auto_rows": null,
            "grid_gap": null,
            "max_width": null,
            "order": null,
            "_view_module_version": "1.2.0",
            "grid_template_areas": null,
            "object_position": null,
            "object_fit": null,
            "grid_auto_columns": null,
            "margin": null,
            "display": null,
            "left": null
          }
        },
        "fc10dd0b622944d8a1e0b628494d45ec": {
          "model_module": "@jupyter-widgets/controls",
          "model_name": "DescriptionStyleModel",
          "state": {
            "_view_name": "StyleView",
            "_model_name": "DescriptionStyleModel",
            "description_width": "",
            "_view_module": "@jupyter-widgets/base",
            "_model_module_version": "1.5.0",
            "_view_count": null,
            "_view_module_version": "1.2.0",
            "_model_module": "@jupyter-widgets/controls"
          }
        },
        "c357f4b388034ad4a6d3305403ca7866": {
          "model_module": "@jupyter-widgets/base",
          "model_name": "LayoutModel",
          "state": {
            "_view_name": "LayoutView",
            "grid_template_rows": null,
            "right": null,
            "justify_content": null,
            "_view_module": "@jupyter-widgets/base",
            "overflow": null,
            "_model_module_version": "1.2.0",
            "_view_count": null,
            "flex_flow": null,
            "width": null,
            "min_width": null,
            "border": null,
            "align_items": null,
            "bottom": null,
            "_model_module": "@jupyter-widgets/base",
            "top": null,
            "grid_column": null,
            "overflow_y": null,
            "overflow_x": null,
            "grid_auto_flow": null,
            "grid_area": null,
            "grid_template_columns": null,
            "flex": null,
            "_model_name": "LayoutModel",
            "justify_items": null,
            "grid_row": null,
            "max_height": null,
            "align_content": null,
            "visibility": null,
            "align_self": null,
            "height": null,
            "min_height": null,
            "padding": null,
            "grid_auto_rows": null,
            "grid_gap": null,
            "max_width": null,
            "order": null,
            "_view_module_version": "1.2.0",
            "grid_template_areas": null,
            "object_position": null,
            "object_fit": null,
            "grid_auto_columns": null,
            "margin": null,
            "display": null,
            "left": null
          }
        },
        "5a5d959e60b1409091587a1fdbbea640": {
          "model_module": "@jupyter-widgets/controls",
          "model_name": "DescriptionStyleModel",
          "state": {
            "_view_name": "StyleView",
            "_model_name": "DescriptionStyleModel",
            "description_width": "",
            "_view_module": "@jupyter-widgets/base",
            "_model_module_version": "1.5.0",
            "_view_count": null,
            "_view_module_version": "1.2.0",
            "_model_module": "@jupyter-widgets/controls"
          }
        },
        "fba1d9e3da1348199141f697963cbfca": {
          "model_module": "@jupyter-widgets/base",
          "model_name": "LayoutModel",
          "state": {
            "_view_name": "LayoutView",
            "grid_template_rows": null,
            "right": null,
            "justify_content": null,
            "_view_module": "@jupyter-widgets/base",
            "overflow": null,
            "_model_module_version": "1.2.0",
            "_view_count": null,
            "flex_flow": null,
            "width": null,
            "min_width": null,
            "border": null,
            "align_items": null,
            "bottom": null,
            "_model_module": "@jupyter-widgets/base",
            "top": null,
            "grid_column": null,
            "overflow_y": null,
            "overflow_x": null,
            "grid_auto_flow": null,
            "grid_area": null,
            "grid_template_columns": null,
            "flex": null,
            "_model_name": "LayoutModel",
            "justify_items": null,
            "grid_row": null,
            "max_height": null,
            "align_content": null,
            "visibility": null,
            "align_self": null,
            "height": null,
            "min_height": null,
            "padding": null,
            "grid_auto_rows": null,
            "grid_gap": null,
            "max_width": null,
            "order": null,
            "_view_module_version": "1.2.0",
            "grid_template_areas": null,
            "object_position": null,
            "object_fit": null,
            "grid_auto_columns": null,
            "margin": null,
            "display": null,
            "left": null
          }
        },
        "5af87280cc544523bc5a3b7b453f3baa": {
          "model_module": "@jupyter-widgets/controls",
          "model_name": "DescriptionStyleModel",
          "state": {
            "_view_name": "StyleView",
            "_model_name": "DescriptionStyleModel",
            "description_width": "",
            "_view_module": "@jupyter-widgets/base",
            "_model_module_version": "1.5.0",
            "_view_count": null,
            "_view_module_version": "1.2.0",
            "_model_module": "@jupyter-widgets/controls"
          }
        },
        "5d7bfacb71bc48429efbc02762a86dcb": {
          "model_module": "@jupyter-widgets/base",
          "model_name": "LayoutModel",
          "state": {
            "_view_name": "LayoutView",
            "grid_template_rows": null,
            "right": null,
            "justify_content": null,
            "_view_module": "@jupyter-widgets/base",
            "overflow": null,
            "_model_module_version": "1.2.0",
            "_view_count": null,
            "flex_flow": null,
            "width": null,
            "min_width": null,
            "border": null,
            "align_items": null,
            "bottom": null,
            "_model_module": "@jupyter-widgets/base",
            "top": null,
            "grid_column": null,
            "overflow_y": null,
            "overflow_x": null,
            "grid_auto_flow": null,
            "grid_area": null,
            "grid_template_columns": null,
            "flex": null,
            "_model_name": "LayoutModel",
            "justify_items": null,
            "grid_row": null,
            "max_height": null,
            "align_content": null,
            "visibility": null,
            "align_self": null,
            "height": null,
            "min_height": null,
            "padding": null,
            "grid_auto_rows": null,
            "grid_gap": null,
            "max_width": null,
            "order": null,
            "_view_module_version": "1.2.0",
            "grid_template_areas": null,
            "object_position": null,
            "object_fit": null,
            "grid_auto_columns": null,
            "margin": null,
            "display": null,
            "left": null
          }
        },
        "f115bf397f3c4d19b22831db912c5c6c": {
          "model_module": "@jupyter-widgets/controls",
          "model_name": "ButtonStyleModel",
          "state": {
            "_view_name": "StyleView",
            "_model_name": "ButtonStyleModel",
            "_view_module": "@jupyter-widgets/base",
            "_model_module_version": "1.5.0",
            "_view_count": null,
            "button_color": null,
            "font_weight": "",
            "_view_module_version": "1.2.0",
            "_model_module": "@jupyter-widgets/controls"
          }
        },
        "52b3a3d82e3e4a4387c5a5dc2ca6e03c": {
          "model_module": "@jupyter-widgets/base",
          "model_name": "LayoutModel",
          "state": {
            "_view_name": "LayoutView",
            "grid_template_rows": null,
            "right": null,
            "justify_content": null,
            "_view_module": "@jupyter-widgets/base",
            "overflow": null,
            "_model_module_version": "1.2.0",
            "_view_count": null,
            "flex_flow": null,
            "width": null,
            "min_width": null,
            "border": null,
            "align_items": null,
            "bottom": null,
            "_model_module": "@jupyter-widgets/base",
            "top": null,
            "grid_column": null,
            "overflow_y": null,
            "overflow_x": null,
            "grid_auto_flow": null,
            "grid_area": null,
            "grid_template_columns": null,
            "flex": null,
            "_model_name": "LayoutModel",
            "justify_items": null,
            "grid_row": null,
            "max_height": null,
            "align_content": null,
            "visibility": null,
            "align_self": null,
            "height": null,
            "min_height": null,
            "padding": null,
            "grid_auto_rows": null,
            "grid_gap": null,
            "max_width": null,
            "order": null,
            "_view_module_version": "1.2.0",
            "grid_template_areas": null,
            "object_position": null,
            "object_fit": null,
            "grid_auto_columns": null,
            "margin": null,
            "display": null,
            "left": null
          }
        }
      }
    }
  },
  "cells": [
    {
      "cell_type": "markdown",
      "metadata": {
        "id": "view-in-github",
        "colab_type": "text"
      },
      "source": [
        "<a href=\"https://colab.research.google.com/github/eduardo20/blazars/blob/master/Copia_de_KNN_interactivo.ipynb\" target=\"_parent\"><img src=\"https://colab.research.google.com/assets/colab-badge.svg\" alt=\"Open In Colab\"/></a>"
      ]
    },
    {
      "cell_type": "code",
      "metadata": {
        "id": "j5ak0sgakinD",
        "colab_type": "code",
        "outputId": "8f80390f-2100-4630-de0c-a108bad66824",
        "colab": {
          "base_uri": "https://localhost:8080/",
          "height": 34
        }
      },
      "source": [
        "# Load the Drive helper and mount\n",
        "from google.colab import drive\n",
        "\n",
        "# This will prompt for authorization.\n",
        "drive.mount('/content/drive')"
      ],
      "execution_count": 0,
      "outputs": [
        {
          "output_type": "stream",
          "text": [
            "Drive already mounted at /content/drive; to attempt to forcibly remount, call drive.mount(\"/content/drive\", force_remount=True).\n"
          ],
          "name": "stdout"
        }
      ]
    },
    {
      "cell_type": "code",
      "metadata": {
        "id": "JgVM59piktcE",
        "colab_type": "code",
        "outputId": "7b297c84-ceb6-407f-8bcf-281092c1cfdc",
        "colab": {
          "base_uri": "https://localhost:8080/",
          "height": 34
        }
      },
      "source": [
        "#%%timeit\n",
        "from google.colab import files\n",
        "import sys\n",
        "sys.path.append('/content/drive/My Drive')\n",
        "import pandas as pd\n",
        "import numpy as np\n",
        "import matplotlib as plt\n",
        "from sklearn import datasets\n",
        "from sklearn.preprocessing import StandardScaler\n",
        "import matplotlib.pyplot as plt\n",
        "import seaborn as sns\n",
        "import warnings\n",
        "warnings.filterwarnings('ignore')\n",
        "!pip install ipynb\n",
        "from ipynb.fs.full.my_functions_c import Snippet_188, Snippet_191,Snippet_192,Snippet_190, ROC_\n",
        "from ipynb.fs.full.my_functions_c import load_clean\n",
        "from sklearn.metrics import confusion_matrix\n",
        "from sklearn.model_selection import cross_val_score\n",
        "from sklearn.model_selection import train_test_split\n",
        "from sklearn.metrics import confusion_matrix\n",
        "from sklearn.neighbors import KNeighborsClassifier\n",
        "from sklearn.tree import plot_tree\n",
        "from sklearn import tree as tr_\n",
        "import pydotplus\n",
        "import collections\n",
        "#!pip install ipywidgets==7.4\n",
        "import ipywidgets as widgets"
      ],
      "execution_count": 0,
      "outputs": [
        {
          "output_type": "stream",
          "text": [
            "Requirement already satisfied: ipynb in /usr/local/lib/python3.6/dist-packages (0.5.1)\n"
          ],
          "name": "stdout"
        }
      ]
    },
    {
      "cell_type": "markdown",
      "metadata": {
        "id": "Uq9fHtyaixLd",
        "colab_type": "text"
      },
      "source": [
        "# Lista de caracteristicas posibles del modelo, de entre ellas se prueban disitintas selecciones:\n",
        "features_=['ra', 'dec', 'flux_1_100_gev', 'spectral_index', 'spectral_index_error',\n",
        "          'detection_significance', 'lii', 'bii', 'pivot_energy', 'flux_density',\n",
        "          'flux_density_error', 'energy_flux', 'energy_flux_error',\n",
        "          'curve_significance', 'spectrum_type', 'powerlaw_index',\n",
        "          'flux_100_300_mev', 'flux_100_300_mev_pos_err',\n",
        "          'flux_100_300_mev_neg_err', 'nufnu_100_300_mev', 'sqrt_ts_100_300_mev',\n",
        "          'flux_0p3_1_gev', 'flux_0p3_1_gev_pos_err', 'flux_0p3_1_gev_neg_err',\n",
        "          'nufnu_0p3_1_gev', 'sqrt_ts_0p3_1_gev', 'flux_1_3_gev',\n",
        "          'flux_1_3_gev_pos_err', 'flux_1_3_gev_neg_err', 'nufnu_1_3_gev',\n",
        "          'sqrt_ts_1_3_gev', 'flux_3_10_gev', 'nufnu_3_10_gev',\n",
        "          'sqrt_ts_3_10_gev', 'flux_10_100_gev', 'nufnu_10_100_gev',\n",
        "          'sqrt_ts_10_100_gev', 'variability_index', 'significance_peak',\n",
        "          'flux_peak', 'flux_peak_error', 'time_peak', 'time_peak_interval',\n",
        "          'source_type', 'analysis_flags', 'HR12', 'HR23', 'HR34', 'hard_slope',\n",
        "          'soft_slope', 'P_E_lg', 'TS_', 'sig_', 'gamm_log', 'Ts_log', 'sig_log',\n",
        "          'F100_log']\n",
        "\n",
        "  \n"
      ]
    },
    {
      "cell_type": "markdown",
      "metadata": {
        "id": "SLFUQcsOkQRq",
        "colab_type": "text"
      },
      "source": [
        "# Trabajamos con 3 separciones poblacionales \n",
        "\n",
        "1.   pop1\n",
        "2.   pop2\n",
        "3.   full\n",
        "## La separación de estas poblaciones se puede encontrar en:\n",
        "https://colab.research.google.com/drive/1D4dCevS0IlVaqjwkLjBT4RaQilZmDatu#scrollTo=vuzPV4sqrstv\n"
      ]
    },
    {
      "cell_type": "code",
      "metadata": {
        "id": "u1XMpEdNkte8",
        "colab_type": "code",
        "outputId": "3dbad4b9-1d92-41d6-bff2-113cfbcc790d",
        "colab": {
          "base_uri": "https://localhost:8080/",
          "height": 69
        }
      },
      "source": [
        "features_=[ 'flux_1_100_gev', 'spectral_index', \n",
        "          'detection_significance', 'pivot_energy', 'flux_density',\n",
        "          'energy_flux',\n",
        "          'curve_significance', 'spectrum_type', 'powerlaw_index',\n",
        "          'flux_100_300_mev', 'nufnu_100_300_mev', 'sqrt_ts_100_300_mev',\n",
        "          'flux_0p3_1_gev', 'flux_0p3_1_gev_neg_err',\n",
        "          'nufnu_0p3_1_gev', 'sqrt_ts_0p3_1_gev', 'flux_1_3_gev',\n",
        "          'nufnu_1_3_gev','sqrt_ts_1_3_gev', 'flux_3_10_gev', 'nufnu_3_10_gev',\n",
        "          'sqrt_ts_3_10_gev', 'flux_10_100_gev', 'nufnu_10_100_gev',\n",
        "          'sqrt_ts_10_100_gev', 'variability_index', 'significance_peak',\n",
        "          'flux_peak', 'flux_peak_error', 'time_peak', 'time_peak_interval',\n",
        "          'source_type', 'analysis_flags', 'HR12', 'HR23', 'HR34', 'hard_slope',\n",
        "          'soft_slope', 'P_E_lg', 'TS_', 'sig_', 'gamm_log', 'Ts_log', 'sig_log',\n",
        "          'F100_log']\n",
        "     \n",
        "#----------------------------------------------------------------------#\n",
        "# Carga el dataframe de la poblacion, lo devuelve limpio, separadas las caracteristicas (X sin normalizar, X_std normalizadas) de las etiquetas (y_) más una copia completa del dataframe df0\n",
        "# Sintaxis:\n",
        "# X,y_,df0,X_std=load_clean(poblacion(int),features del modelo[lista]) \n",
        "X, y_, df0, X_std=load_clean(3,features_)\n",
        "#----------------------------------------------------------------------#\n",
        "\n",
        "print (\"nº de características del modelo :\",len(features_))"
      ],
      "execution_count": 0,
      "outputs": [
        {
          "output_type": "stream",
          "text": [
            "Cargando full\n",
            "(1717, 57)\n",
            "nº de características del modelo : 45\n"
          ],
          "name": "stdout"
        }
      ]
    },
    {
      "cell_type": "code",
      "metadata": {
        "id": "KYEO_uHo6mzq",
        "colab_type": "code",
        "colab": {}
      },
      "source": [
        "   \n",
        "def reduce_features (features_,df):\n",
        "  from sklearn.preprocessing import StandardScaler\n",
        "  new_df=df[features_]\n",
        "  #df.drop(['source_type'], axis=1, inplace=True)\n",
        "  sc = StandardScaler()\n",
        "  sc.fit(X)\n",
        "  #sc.fit(y)\n",
        "  X_std = sc.transform(X)\n",
        "  return new_df,X_std\n",
        "#X,X_std=reduce_features(features_,X) \n",
        "#df_UNK=pd.read_excel('/content/drive/My Drive/tree_UNK.xlsx')\n",
        "#df0.head(20)\n",
        "features_=[ 'HR12', 'HR23', 'HR34', 'P_E_lg', 'gamm_log', 'Ts_log',  'spectral_index']\n",
        "X=X[features_]\n",
        "X"
      ],
      "execution_count": 0,
      "outputs": []
    },
    {
      "cell_type": "code",
      "metadata": {
        "id": "ZC3fFn1jKr6C",
        "colab_type": "code",
        "outputId": "4fe7e3bd-333d-453f-f063-d88c6c422fca",
        "colab": {
          "base_uri": "https://localhost:8080/",
          "height": 156,
          "referenced_widgets": [
            "ff684fe8b45f440a88523dc0040ad05b",
            "ee265470c69f4cbf8a1ee19ef7a8e229",
            "4c14090e52574cb38d2947db71b9eb2b",
            "1fd43ec11d984168a00d6acbafeafa16",
            "177e032723ab4f1488e11c2a1014cd2d",
            "75150a93c78a4e32ad758a2071d5eb38",
            "198f252355144ace9c085ffcbe9da0ff",
            "8a5da20cc3874a24a9cebce9215cfcba",
            "de9ab0d2cb184396b2dfe6a7af23fd6a",
            "f66bff66b6864d20a4b36dc260605191",
            "fc10dd0b622944d8a1e0b628494d45ec",
            "c357f4b388034ad4a6d3305403ca7866",
            "5a5d959e60b1409091587a1fdbbea640",
            "fba1d9e3da1348199141f697963cbfca",
            "5af87280cc544523bc5a3b7b453f3baa",
            "5d7bfacb71bc48429efbc02762a86dcb",
            "f115bf397f3c4d19b22831db912c5c6c",
            "52b3a3d82e3e4a4387c5a5dc2ca6e03c",
            "ebb2b89cb0c74a5aa5097a60ecaef400"
          ]
        }
      },
      "source": [
        "from ipywidgets import  interact, widget  \n",
        "from ipywidgets import  interact_manual\n",
        "#from ipywidgets  import TwoByTwoLayout, AppLayout, GridspecLayout\n",
        "from ipywidgets import interactive,interact, HBox, Layout,VBox\n",
        "\n",
        "from ipywidgets import IntSlider\n",
        "#size_subset = [0.2,0.25,0.3,0.35,0.4]\n",
        "#@interact\n",
        "@widgets.interact_manual(\n",
        "    color=['blue', 'red', 'green'], lw=(1., 10.))\n",
        " \n",
        "\n",
        "\n",
        "def echo(Save='Salvar archivo como...', size_subset=[0.3, 0.2, 0.25,0.35, 0.4],Neighbors=[2,3,4,5,6,7,9,10,11],Save_model=False):\n",
        "\n",
        "  # hay que devolver X_std normalizado con el numero de caracteriscitcas reducidas usando reduce_features()\n",
        "  X_train, X_test, y_train, y_test = train_test_split(X_std, y_, test_size=size_subset)\n",
        "  tree =KNeighborsClassifier(n_neighbors=Neighbors)\n",
        "  clf =tree.fit(X_train, y_train)\n",
        "  echo.widget.layout.flex_flow='row wrap'\n",
        "  # widget=interactive(echo,Save='Salvar archivo como...', size_subset=[0.2,0.25,0.3,0.35,0.4],loss=['entropy','gini'],split=100)\n",
        "  #controls = HBox(widget.children[:-1], layout = Layout(flex_flow='row wrap'))\n",
        "  #output = widget.children[-1]\n",
        "  #display(VBox([controls, output]))  \n",
        "\n",
        "\n",
        "  print(\"test score: \",tree.score(X_test, y_test))\n",
        "  print(\"train score: \",tree.score(X_train, y_train))\n",
        "  print('Cross validation score with std desv')\n",
        " \n",
        "  Snippet_192(tree, X_test, y_test)\n",
        "  y_pred = tree.predict(X_test)\n",
        "  print(confusion_matrix(y_test, y_pred))\n",
        " \n",
        "  if Save_model == True :\n",
        "    print(' Salvando modelo')\n",
        "    import pickle\n",
        "\n",
        "      #from google.colab import files\n",
        "      #files.download('your typical text file or what ever.txt')\n",
        "      # Create your model here (same as above)\n",
        "      #\n",
        "\n",
        "      # Save to file in the current working directory\n",
        "    model=tree\n",
        "    pkl_filename = \"/content/drive/My Drive/KNN(2)-pickle_model.pkl\"\n",
        "    with open(pkl_filename, 'wb') as file:\n",
        "          pickle.dump(model, file)\n",
        "\n",
        "      # Load from file\n",
        "    with open(pkl_filename, 'rb') as file:\n",
        "        pickle_model = pickle.load(file)\n",
        "  return tree\n",
        "  \n",
        "\n"
      ],
      "execution_count": 0,
      "outputs": [
        {
          "output_type": "display_data",
          "data": {
            "application/vnd.jupyter.widget-view+json": {
              "model_id": "ff684fe8b45f440a88523dc0040ad05b",
              "version_minor": 0,
              "version_major": 2
            },
            "text/plain": [
              "interactive(children=(Text(value='Salvar archivo como...', description='Save'), Dropdown(description='size_sub…"
            ]
          },
          "metadata": {
            "tags": []
          }
        }
      ]
    },
    {
      "cell_type": "code",
      "metadata": {
        "id": "YWd5J5Mtktng",
        "colab_type": "code",
        "outputId": "5e58c568-ee5e-43a1-d914-8e2572e1383a",
        "colab": {
          "base_uri": "https://localhost:8080/",
          "height": 68
        }
      },
      "source": [
        "import pickle\n",
        "\n",
        "\n",
        "# Load from file\n",
        "pkl_filename = \"/content/drive/My Drive/KNN-pickle_model.pkl\"\n",
        "with open(pkl_filename, 'rb') as file:\n",
        "    pickle_model = pickle.load(file)\n",
        "#df_UNK=pd.read_excel('/content/drive/My Drive/tree_UNK.xlsx')\n",
        "#Calculate the accuracy score and predict target values from recovered model\n",
        "X_train, X_test, y_train, y_test = train_test_split(X_std, y_, test_size=0.3)\n",
        "score = pickle_model.score(X_test, y_test)\n",
        "print('ok')\n",
        "print(\"Test score: {0:.2f} %\".format(100 * score))\n",
        "Snippet_192(pickle_model, X_test, y_test)\n"
      ],
      "execution_count": 0,
      "outputs": [
        {
          "output_type": "stream",
          "text": [
            "ok\n",
            "Test score: 91.57 %\n",
            "Accuracy: 0.85 (+/- 0.09)\n"
          ],
          "name": "stdout"
        }
      ]
    },
    {
      "cell_type": "code",
      "metadata": {
        "id": "TyKjd8iQktqv",
        "colab_type": "code",
        "outputId": "51fa68bc-6cfd-4525-a0bf-f1bd3abfad9c",
        "colab": {
          "base_uri": "https://localhost:8080/",
          "height": 492
        }
      },
      "source": [
        "Snippet_192(pickle_model, X_test, y_test)\n",
        "#Snippet_191(tree, X_test, y_test)\n",
        "Snippet_188_a(X_test, y_test,pickle_model)"
      ],
      "execution_count": 0,
      "outputs": [
        {
          "output_type": "stream",
          "text": [
            "Accuracy: 0.85 (+/- 0.09)\n",
            "Clasificador :  KNeighborsClassifier\n",
            "**********************Hoe to evaluate  with learning curves***********************\n"
          ],
          "name": "stdout"
        },
        {
          "output_type": "display_data",
          "data": {
            "image/png": "[encoded data removed]",
            "text/plain": [
              "<Figure size 432x432 with 1 Axes>"
            ]
          },
          "metadata": {
            "tags": []
          }
        }
      ]
    },
    {
      "cell_type": "code",
      "metadata": {
        "id": "hgzMcUiQlI85",
        "colab_type": "code",
        "outputId": "617c93da-1ae8-4d05-8a66-aedf975d332e",
        "colab": {
          "base_uri": "https://localhost:8080/",
          "height": 412
        }
      },
      "source": [
        "Snippet_190(pickle_model, X_test, y_test, 5)"
      ],
      "execution_count": 0,
      "outputs": [
        {
          "output_type": "stream",
          "text": [
            "*********************Hoe to visualise cross validation scores*********************\n",
            "0.8328573884608368\n"
          ],
          "name": "stdout"
        },
        {
          "output_type": "display_data",
          "data": {
            "image/png": "[encoded data removed]",
            "text/plain": [
              "<Figure size 1728x432 with 1 Axes>"
            ]
          },
          "metadata": {
            "tags": []
          }
        }
      ]
    },
    {
      "cell_type": "code",
      "metadata": {
        "id": "ksLkWgihlPDb",
        "colab_type": "code",
        "outputId": "a0d7425e-5c90-4b13-8848-5ebf8187c0b1",
        "colab": {
          "base_uri": "https://localhost:8080/",
          "height": 299
        }
      },
      "source": [
        "ROC_(pickle_model, X_test,y_test )"
      ],
      "execution_count": 0,
      "outputs": [
        {
          "output_type": "display_data",
          "data": {
            "image/png": "[encoded data removed]",
            "text/plain": [
              "<Figure size 432x288 with 1 Axes>"
            ]
          },
          "metadata": {
            "tags": []
          }
        }
      ]
    },
    {
      "cell_type": "markdown",
      "metadata": {
        "id": "4f0VC1wLlScS",
        "colab_type": "text"
      },
      "source": [
        "#In order to rebuild a similar model with future versions of scikit-learn, additional metadata should be saved along the pickled model:\n",
        "The training data, e.g. a reference to an immutable snapshot\n",
        "\n",
        "The python source code used to generate the model\n",
        "\n",
        "The versions of scikit-learn and its dependencies\n",
        "\n",
        "The cross validation score obtained on the training data\n",
        "\n",
        "This should make it possible to check that the cross-validation score is in the same range as before."
      ]
    },
    {
      "cell_type": "code",
      "metadata": {
        "id": "w2Tq60iElI4a",
        "colab_type": "code",
        "outputId": "8e95d81f-834f-4ad3-f5e8-11030b415e21",
        "colab": {
          "base_uri": "https://localhost:8080/",
          "height": 34
        }
      },
      "source": [
        "import pickle\n",
        "\n",
        "#from google.colab import files\n",
        "#files.download('your typical text file or what ever.txt')\n",
        "# Create your model here (same as above)\n",
        "#\n",
        "\n",
        "# Save to file in the current working directory\n",
        "#model=tree\n",
        "pkl_filename = \"/content/drive/My Drive/KNN(3-1)-pickle_model.pkl\"\n",
        "with open(pkl_filename, 'wb') as file:\n",
        "    pickle.dump(model, file)\n",
        "#Ojo se queda convertido en cero\n",
        "df_UNK=pd.read_excel('/content/drive/My Drive/tree_UNK.xlsx')\n",
        "\n",
        "# Load from file\n",
        "pkl_filename = \"/content/drive/My Drive/KNN(3-1)-pickle_model.pkl\"\n",
        "with open(pkl_filename, 'rb') as file:\n",
        "    pickle_model = pickle.load(file)\n",
        "    \n",
        "#Calculate the accuracy score and predict target values from recovered model\n",
        "\n",
        "df_pre=df_UNK.copy()\n",
        "print(df_pre.shape)\n",
        "df_pre.drop(['source_type','Unnamed: 0'], axis=1, inplace=True)\n",
        "\n",
        "#normalizamos el dtaframe A PREDECIR\n",
        "sc = StandardScaler()\n",
        "sc.fit(df_pre)\n",
        "df_pre_std = sc.transform(df_pre)\n",
        "\n",
        "#X_train, X_test, y_train, y_test = train_test_split(X_std, y_, test_size=0.3)\n",
        "#score = pickle_model.score(X_test, y_test)\n",
        "#print(\"Test score: {0:.2f} %\".format(100 * score))\n",
        "#Snippet_192(pickle_model, X_test, y_test)\n",
        "\n"
      ],
      "execution_count": 0,
      "outputs": [
        {
          "output_type": "stream",
          "text": [
            "(573, 58)\n"
          ],
          "name": "stdout"
        }
      ]
    },
    {
      "cell_type": "markdown",
      "metadata": {
        "id": "BNBk6Bl3vcW8",
        "colab_type": "text"
      },
      "source": [
        "#PREDICCION USANDO EL MODELO SALVADO"
      ]
    },
    {
      "cell_type": "code",
      "metadata": {
        "id": "iJGkXNlwvcD8",
        "colab_type": "code",
        "colab": {}
      },
      "source": [
        "# REDECIMOS USANDO EL DATAFRAME INCOGNITA CON EL MODELO ENTRENADO, SALVADO Y VUELTO A CARGAR CON PICKLE_MODEL\n",
        "#-----------------------------------------------------------------#\n",
        "Ypredict = pickle_model.predict(df_pre_std)\n",
        "#-----------------------------------------------------------------#\n",
        "#Ypredict"
      ],
      "execution_count": 0,
      "outputs": []
    },
    {
      "cell_type": "code",
      "metadata": {
        "id": "Q4jv68T0JNur",
        "colab_type": "code",
        "colab": {}
      },
      "source": [
        "#df_UNK.head(20)\n",
        "#df_pre.head(5)\n",
        "#X_std.shape\n",
        "#COMPLETAMOS EL DATAFRAME DE LOS BLAZARS DESCONOCIDOS CON NUESTRA PREDICCIÓN \n",
        " #-----------------------------------------------------------------# \n",
        "df_UNK['source_type']=Ypredict\n",
        "df_UNK.head(5)\n",
        "#-----------------------------------------------------------------#\n"
      ],
      "execution_count": 0,
      "outputs": []
    },
    {
      "cell_type": "code",
      "metadata": {
        "id": "k7ismsLtxHsv",
        "colab_type": "code",
        "outputId": "3677b347-7855-414d-fbb5-e0911ff7be95",
        "colab": {
          "base_uri": "https://localhost:8080/",
          "height": 85
        }
      },
      "source": [
        "# RECUENTO DE CLASIFICACION\n",
        "print ('Bl Lac = 1 -- FSRQ = 0')\n",
        "df_UNK['source_type'].apply(pd.Series).stack().value_counts()\n",
        "#Ypredict\n"
      ],
      "execution_count": 0,
      "outputs": [
        {
          "output_type": "stream",
          "text": [
            "Bl Lac = 1 -- FSRQ = 0\n"
          ],
          "name": "stdout"
        },
        {
          "output_type": "execute_result",
          "data": {
            "text/plain": [
              "1.0    349\n",
              "0.0    224\n",
              "dtype: int64"
            ]
          },
          "metadata": {
            "tags": []
          },
          "execution_count": 15
        }
      ]
    }
  ]
}