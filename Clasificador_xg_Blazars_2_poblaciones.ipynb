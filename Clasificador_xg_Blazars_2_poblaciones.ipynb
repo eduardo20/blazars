{
  "nbformat": 4,
  "nbformat_minor": 0,
  "metadata": {
    "kernelspec": {
      "name": "python3",
      "display_name": "Python 3"
    },
    "language_info": {
      "codemirror_mode": {
        "name": "ipython",
        "version": 3
      },
      "file_extension": ".py",
      "mimetype": "text/x-python",
      "name": "python",
      "nbconvert_exporter": "python",
      "pygments_lexer": "ipython3",
      "version": "3.7.4"
    },
    "colab": {
      "name": "Clasificador_xg_Blazars_2_poblaciones.ipynb",
      "provenance": [],
      "collapsed_sections": [],
      "toc_visible": true,
      "include_colab_link": true
    },
    "accelerator": "GPU"
  },
  "cells": [
    {
      "cell_type": "markdown",
      "metadata": {
        "id": "view-in-github",
        "colab_type": "text"
      },
      "source": [
        "<a href=\"https://colab.research.google.com/github/eduardo20/blazars/blob/master/Clasificador_xg_Blazars_2_poblaciones.ipynb\" target=\"_parent\"><img src=\"https://colab.research.google.com/assets/colab-badge.svg\" alt=\"Open In Colab\"/></a>"
      ]
    },
    {
      "cell_type": "markdown",
      "metadata": {
        "id": "OrPx4nDi8l6O",
        "colab_type": "text"
      },
      "source": [
        "# CLASIFICACION DE BLAZARS\n",
        "## Con scikit-learn\n",
        "## Empezamos eliminando caracteristicas menos significativas"
      ]
    },
    {
      "cell_type": "code",
      "metadata": {
        "id": "QcRxpOC78psT",
        "colab_type": "code",
        "outputId": "f2e10b83-b301-4ff4-bbe7-b159a0fcff48",
        "colab": {
          "base_uri": "https://localhost:8080/",
          "height": 118
        }
      },
      "source": [
        "# Load the Drive helper and mount\n",
        "from google.colab import drive\n",
        "\n",
        "# This will prompt for authorization.\n",
        "drive.mount('/content/drive')\n"
      ],
      "execution_count": 0,
      "outputs": [
        {
          "output_type": "stream",
          "text": [
            "Go to this URL in a browser: https://accounts.google.com/o/oauth2/auth?client_id=947318989803-6bn6qk8qdgf4n4g3pfee6491hc0brc4i.apps.googleusercontent.com&redirect_uri=urn%3aietf%3awg%3aoauth%3a2.0%3aoob&response_type=code&scope=email%20https%3a%2f%2fwww.googleapis.com%2fauth%2fdocs.test%20https%3a%2f%2fwww.googleapis.com%2fauth%2fdrive%20https%3a%2f%2fwww.googleapis.com%2fauth%2fdrive.photos.readonly%20https%3a%2f%2fwww.googleapis.com%2fauth%2fpeopleapi.readonly\n",
            "\n",
            "Enter your authorization code:\n",
            "··········\n",
            "Mounted at /content/drive\n"
          ],
          "name": "stdout"
        }
      ]
    },
    {
      "cell_type": "code",
      "metadata": {
        "id": "dRvqq6tRn67p",
        "colab_type": "code",
        "colab": {}
      },
      "source": [
        "from google.colab import files\n",
        "import sys\n",
        "\n",
        "sys.path.append('/content/drive/My Drive')\n",
        "#files.upload()\n",
        "# choose the file on your computer to upload it then\n",
        "#import Snippet_188"
      ],
      "execution_count": 0,
      "outputs": []
    },
    {
      "cell_type": "markdown",
      "metadata": {
        "id": "VDIU1Awx8l6T",
        "colab_type": "text"
      },
      "source": [
        "### Cargamos las dependencias de módulos y librerías\n"
      ]
    },
    {
      "cell_type": "code",
      "metadata": {
        "id": "2c9WvbN-8l6U",
        "colab_type": "code",
        "colab": {}
      },
      "source": [
        "import pandas as pd\n",
        "import numpy as np\n",
        "import matplotlib as plt\n",
        "from sklearn import datasets\n",
        "from sklearn.preprocessing import StandardScaler\n",
        "import matplotlib.pyplot as plt\n",
        "import seaborn as sns\n",
        "import warnings\n",
        "warnings.filterwarnings('ignore')\n",
        "import sys\n",
        "\n",
        "sys.path.append('/content/drive/My Drive/')"
      ],
      "execution_count": 0,
      "outputs": []
    },
    {
      "cell_type": "code",
      "metadata": {
        "id": "FZpMfY4y8l6Y",
        "colab_type": "code",
        "outputId": "3b6a3102-c3b7-4415-806f-0a1d16e8e7f0",
        "colab": {
          "base_uri": "https://localhost:8080/",
          "height": 50
        }
      },
      "source": [
        "#!pip install ipynb\n",
        "!pwd\n",
        "!ls \"content/drive/My Drive\"\n",
        "\n"
      ],
      "execution_count": 0,
      "outputs": [
        {
          "output_type": "stream",
          "text": [
            "/content\n",
            "ls: cannot access 'content/drive/My Drive': No such file or directory\n"
          ],
          "name": "stdout"
        }
      ]
    },
    {
      "cell_type": "markdown",
      "metadata": {
        "id": "yV5uXZPR8l6g",
        "colab_type": "text"
      },
      "source": [
        "## Carga de datos\n",
        "### Cargamos los archivos correspondientes a las dos poblaciones segmentadas que contiene cada uno de ellos el conjunto conpleto de blazars "
      ]
    },
    {
      "cell_type": "code",
      "metadata": {
        "id": "3bSwyMyB8l6g",
        "colab_type": "code",
        "colab": {}
      },
      "source": [
        "#carasteristicas=gui_fname()\n",
        "features_=['ra', 'dec', 'flux_1_100_gev', 'spectral_index', 'spectral_index_error',\n",
        "          'detection_significance', 'lii', 'bii', 'pivot_energy', 'flux_density',\n",
        "          'flux_density_error', 'energy_flux', 'energy_flux_error',\n",
        "          'curve_significance', 'spectrum_type', 'powerlaw_index',\n",
        "          'flux_100_300_mev', 'flux_100_300_mev_pos_err',\n",
        "          'flux_100_300_mev_neg_err', 'nufnu_100_300_mev', 'sqrt_ts_100_300_mev',\n",
        "          'flux_0p3_1_gev', 'flux_0p3_1_gev_pos_err', 'flux_0p3_1_gev_neg_err',\n",
        "          'nufnu_0p3_1_gev', 'sqrt_ts_0p3_1_gev', 'flux_1_3_gev',\n",
        "          'flux_1_3_gev_pos_err', 'flux_1_3_gev_neg_err', 'nufnu_1_3_gev',\n",
        "          'sqrt_ts_1_3_gev', 'flux_3_10_gev', 'nufnu_3_10_gev',\n",
        "          'sqrt_ts_3_10_gev', 'flux_10_100_gev', 'nufnu_10_100_gev',\n",
        "          'sqrt_ts_10_100_gev', 'variability_index', 'significance_peak',\n",
        "          'flux_peak', 'flux_peak_error', 'time_peak', 'time_peak_interval',\n",
        "          'source_type', 'analysis_flags', 'HR12', 'HR23', 'HR34', 'hard_slope',\n",
        "          'soft_slope', 'P_E_lg', 'TS_', 'sig_', 'gamm_log', 'Ts_log', 'sig_log',\n",
        "          'F100_log']"
      ],
      "execution_count": 0,
      "outputs": []
    },
    {
      "cell_type": "code",
      "metadata": {
        "id": "KlkOpnVeG0UG",
        "colab_type": "code",
        "outputId": "49e6fbea-c038-46dd-f749-dc603e3f3982",
        "colab": {
          "base_uri": "https://localhost:8080/",
          "height": 50
        }
      },
      "source": [
        "  def load_clean(pop_,features_):\n",
        "    p1='/content/drive/My Drive/df_p1_3FG_raw.xlsx'\n",
        "    p2='/content/drive/My Drive/df_p2_3FG_raw.xlsx'\n",
        "    p3='/content/drive/My Drive/df_p3_3FG_raw.xlsx'\n",
        "    df0=pd.read_excel(p2)\n",
        "\n",
        "    pd.set_option(\"display.max_columns\", 80) # ver el numero de columnas en este caso 73\n",
        "    #pd.read_csv('Filename.csv').fillna(1e6).astype(np.float32)\n",
        "    if pop_ == 1 :\n",
        "      print('Cargando pop1')\n",
        "      df0=pd.read_excel(p1)\n",
        "    elif pop_ == 2 :\n",
        "      print('Cargando pop2')\n",
        "      df0=pd.read_excel(p2)\n",
        "    elif pop_ == 3 :\n",
        "      print('Cargando full')\n",
        "      df0=pd.read_excel(p3)  \n",
        "   \n",
        "    df=df0.copy()\n",
        "    df.drop(['name'], axis=1, inplace=True)\n",
        "    df=df.fillna(1e6).astype(np.float32)\n",
        "    df.head(3)\n",
        "    #eliminamos columnas que molestan\n",
        "    df.drop(['Unnamed: 0'], axis=1, inplace=True)\n",
        "    df.drop(['Unnamed: 0.1'], axis=1, inplace=True)\n",
        "    #y = pd.read_excel(etiquetas).fillna(1e6).astype(np.int32) \n",
        "    #df_BCU = pd.read_excel(BCU).fillna(1e6).astype(np.float32)\n",
        "    #print(X.shape,y.shape)\n",
        "    #y\n",
        "    \n",
        "    print (df.shape)\n",
        "    df.head(5)\n",
        "    df_bl=df[features_]\n",
        "    df['source_type'].apply(pd.Series).stack().value_counts()\n",
        "    clase='source_type'\n",
        "    df_bl = df_bl.loc[ (df[clase]== 1)  | (df[clase]== 0)]\n",
        "    df_UNK = df.loc[ (df[clase]== 2)   ]\n",
        "    df_bl['source_type'].apply(pd.Series).stack().value_counts()\n",
        "    df_bl.columns\n",
        "    y_ = df_bl['source_type']\n",
        "    y_\n",
        "    X=df_bl\n",
        "    X.drop(['source_type'], axis=1, inplace=True)\n",
        "    from sklearn.model_selection import train_test_split\n",
        "    sc = StandardScaler()\n",
        "    sc.fit(X)\n",
        "    #sc.fit(y)\n",
        "    X_std = sc.transform(X)\n",
        "    #df_BCU_std=sc.transform(df_BCU)\n",
        "    #y_std= sc.transform(y)\n",
        "    y_.head(5)\n",
        "    X_std\n",
        "    return X,y_,df0,X_std\n",
        "\n",
        "X,y_,df0,X_std=load_clean(3,features_)   "
      ],
      "execution_count": 0,
      "outputs": [
        {
          "output_type": "stream",
          "text": [
            "Cargando full\n",
            "(1717, 57)\n"
          ],
          "name": "stdout"
        }
      ]
    },
    {
      "cell_type": "code",
      "metadata": {
        "id": "yW0pWjTPM2lx",
        "colab_type": "code",
        "outputId": "a374b482-97b6-442e-831a-8bbe86914e39",
        "colab": {
          "base_uri": "https://localhost:8080/",
          "height": 228
        }
      },
      "source": [
        "X_std"
      ],
      "execution_count": 0,
      "outputs": [
        {
          "output_type": "execute_result",
          "data": {
            "text/plain": [
              "array([[-1.5255393e-01, -2.5805192e+00, -5.5694032e-02, ...,\n",
              "        -1.4137244e+00, -8.0810249e-01,  4.0193799e-01],\n",
              "       [-1.5915490e+00, -2.5430784e+00, -5.8723718e-01, ...,\n",
              "         6.6586608e-01,  1.3796927e-01, -1.0086211e+00],\n",
              "       [ 1.5752741e+00, -2.5252597e+00,  8.5392272e-01, ...,\n",
              "         1.5156270e+00,  8.6251390e-01,  1.3337048e+00],\n",
              "       ...,\n",
              "       [ 6.2614143e-01,  1.9181380e+00, -3.7154272e-01, ...,\n",
              "        -1.0319424e+00,  5.4452145e-01, -2.3115249e-01],\n",
              "       [ 2.8262359e-01,  1.9525707e+00, -3.9490181e-01, ...,\n",
              "         8.1786060e-01, -1.6906345e+00, -2.9463109e-01],\n",
              "       [-2.9200140e-01,  2.0329509e+00,  2.5070465e-01, ...,\n",
              "        -8.2208240e-01, -1.5665478e-03,  8.0250877e-01]], dtype=float32)"
            ]
          },
          "metadata": {
            "tags": []
          },
          "execution_count": 40
        }
      ]
    },
    {
      "cell_type": "markdown",
      "metadata": {
        "id": "q-bSdDe6FpRD",
        "colab_type": "text"
      },
      "source": [
        "# Cargamos los datos en un dataframe\n"
      ]
    },
    {
      "cell_type": "code",
      "metadata": {
        "id": "851tuCvEeLd6",
        "colab_type": "code",
        "outputId": "de312933-61d7-481f-ac2f-775ad5595a66",
        "colab": {
          "base_uri": "https://localhost:8080/",
          "height": 223
        }
      },
      "source": [
        "pd.set_option(\"display.max_columns\", 80) # ver el numero de columnas en este caso 73\n",
        "#pd.read_csv('Filename.csv').fillna(1e6).astype(np.float32)\n",
        "\n",
        "df0=pd.read_excel(p2)\n",
        "df=df0.copy()\n",
        "df.drop(['name'], axis=1, inplace=True)\n",
        "df=df.fillna(1e6).astype(np.float32)\n",
        "df.head(3)\n"
      ],
      "execution_count": 0,
      "outputs": [
        {
          "output_type": "error",
          "ename": "NameError",
          "evalue": "ignored",
          "traceback": [
            "\u001b[0;31m---------------------------------------------------------------------------\u001b[0m",
            "\u001b[0;31mNameError\u001b[0m                                 Traceback (most recent call last)",
            "\u001b[0;32m<ipython-input-3-ce3c7e587bfb>\u001b[0m in \u001b[0;36m<module>\u001b[0;34m()\u001b[0m\n\u001b[1;32m      2\u001b[0m \u001b[0;31m#pd.read_csv('Filename.csv').fillna(1e6).astype(np.float32)\u001b[0m\u001b[0;34m\u001b[0m\u001b[0;34m\u001b[0m\u001b[0;34m\u001b[0m\u001b[0m\n\u001b[1;32m      3\u001b[0m \u001b[0;34m\u001b[0m\u001b[0m\n\u001b[0;32m----> 4\u001b[0;31m \u001b[0mdf0\u001b[0m\u001b[0;34m=\u001b[0m\u001b[0mpd\u001b[0m\u001b[0;34m.\u001b[0m\u001b[0mread_excel\u001b[0m\u001b[0;34m(\u001b[0m\u001b[0mp2\u001b[0m\u001b[0;34m)\u001b[0m\u001b[0;34m\u001b[0m\u001b[0;34m\u001b[0m\u001b[0m\n\u001b[0m\u001b[1;32m      5\u001b[0m \u001b[0mdf\u001b[0m\u001b[0;34m=\u001b[0m\u001b[0mdf0\u001b[0m\u001b[0;34m.\u001b[0m\u001b[0mcopy\u001b[0m\u001b[0;34m(\u001b[0m\u001b[0;34m)\u001b[0m\u001b[0;34m\u001b[0m\u001b[0;34m\u001b[0m\u001b[0m\n\u001b[1;32m      6\u001b[0m \u001b[0mdf\u001b[0m\u001b[0;34m.\u001b[0m\u001b[0mdrop\u001b[0m\u001b[0;34m(\u001b[0m\u001b[0;34m[\u001b[0m\u001b[0;34m'name'\u001b[0m\u001b[0;34m]\u001b[0m\u001b[0;34m,\u001b[0m \u001b[0maxis\u001b[0m\u001b[0;34m=\u001b[0m\u001b[0;36m1\u001b[0m\u001b[0;34m,\u001b[0m \u001b[0minplace\u001b[0m\u001b[0;34m=\u001b[0m\u001b[0;32mTrue\u001b[0m\u001b[0;34m)\u001b[0m\u001b[0;34m\u001b[0m\u001b[0;34m\u001b[0m\u001b[0m\n",
            "\u001b[0;31mNameError\u001b[0m: name 'p2' is not defined"
          ]
        }
      ]
    },
    {
      "cell_type": "code",
      "metadata": {
        "id": "-yd0asNCeMYP",
        "colab_type": "code",
        "outputId": "021b96ed-a478-4aed-d6d9-de3bea77b0ec",
        "colab": {
          "base_uri": "https://localhost:8080/",
          "height": 328
        }
      },
      "source": [
        "df0.head(4)"
      ],
      "execution_count": 0,
      "outputs": [
        {
          "output_type": "execute_result",
          "data": {
            "text/html": [
              "<div>\n",
              "<style scoped>\n",
              "    .dataframe tbody tr th:only-of-type {\n",
              "        vertical-align: middle;\n",
              "    }\n",
              "\n",
              "    .dataframe tbody tr th {\n",
              "        vertical-align: top;\n",
              "    }\n",
              "\n",
              "    .dataframe thead th {\n",
              "        text-align: right;\n",
              "    }\n",
              "</style>\n",
              "<table border=\"1\" class=\"dataframe\">\n",
              "  <thead>\n",
              "    <tr style=\"text-align: right;\">\n",
              "      <th></th>\n",
              "      <th>Unnamed: 0</th>\n",
              "      <th>Unnamed: 0.1</th>\n",
              "      <th>name</th>\n",
              "      <th>ra</th>\n",
              "      <th>dec</th>\n",
              "      <th>flux_1_100_gev</th>\n",
              "      <th>spectral_index</th>\n",
              "      <th>spectral_index_error</th>\n",
              "      <th>detection_significance</th>\n",
              "      <th>lii</th>\n",
              "      <th>bii</th>\n",
              "      <th>pivot_energy</th>\n",
              "      <th>flux_density</th>\n",
              "      <th>flux_density_error</th>\n",
              "      <th>energy_flux</th>\n",
              "      <th>energy_flux_error</th>\n",
              "      <th>curve_significance</th>\n",
              "      <th>spectrum_type</th>\n",
              "      <th>powerlaw_index</th>\n",
              "      <th>flux_100_300_mev</th>\n",
              "      <th>flux_100_300_mev_pos_err</th>\n",
              "      <th>flux_100_300_mev_neg_err</th>\n",
              "      <th>nufnu_100_300_mev</th>\n",
              "      <th>sqrt_ts_100_300_mev</th>\n",
              "      <th>flux_0p3_1_gev</th>\n",
              "      <th>flux_0p3_1_gev_pos_err</th>\n",
              "      <th>flux_0p3_1_gev_neg_err</th>\n",
              "      <th>nufnu_0p3_1_gev</th>\n",
              "      <th>sqrt_ts_0p3_1_gev</th>\n",
              "      <th>flux_1_3_gev</th>\n",
              "      <th>flux_1_3_gev_pos_err</th>\n",
              "      <th>flux_1_3_gev_neg_err</th>\n",
              "      <th>nufnu_1_3_gev</th>\n",
              "      <th>sqrt_ts_1_3_gev</th>\n",
              "      <th>flux_3_10_gev</th>\n",
              "      <th>nufnu_3_10_gev</th>\n",
              "      <th>sqrt_ts_3_10_gev</th>\n",
              "      <th>flux_10_100_gev</th>\n",
              "      <th>nufnu_10_100_gev</th>\n",
              "      <th>sqrt_ts_10_100_gev</th>\n",
              "      <th>variability_index</th>\n",
              "      <th>significance_peak</th>\n",
              "      <th>flux_peak</th>\n",
              "      <th>flux_peak_error</th>\n",
              "      <th>time_peak</th>\n",
              "      <th>time_peak_interval</th>\n",
              "      <th>source_type</th>\n",
              "      <th>analysis_flags</th>\n",
              "      <th>HR12</th>\n",
              "      <th>HR23</th>\n",
              "      <th>HR34</th>\n",
              "      <th>hard_slope</th>\n",
              "      <th>soft_slope</th>\n",
              "      <th>P_E_lg</th>\n",
              "      <th>TS_</th>\n",
              "      <th>sig_</th>\n",
              "      <th>gamm_log</th>\n",
              "      <th>Ts_log</th>\n",
              "      <th>sig_log</th>\n",
              "      <th>F100_log</th>\n",
              "    </tr>\n",
              "  </thead>\n",
              "  <tbody>\n",
              "    <tr>\n",
              "      <th>0</th>\n",
              "      <td>0</td>\n",
              "      <td>0</td>\n",
              "      <td>3FGL J1026.4-8542</td>\n",
              "      <td>156.6050</td>\n",
              "      <td>-85.7152</td>\n",
              "      <td>9.074170e-10</td>\n",
              "      <td>2.01336</td>\n",
              "      <td>0.08438</td>\n",
              "      <td>13.433965</td>\n",
              "      <td>300.1673</td>\n",
              "      <td>-23.6462</td>\n",
              "      <td>2222.71</td>\n",
              "      <td>1.858600e-13</td>\n",
              "      <td>2.060600e-14</td>\n",
              "      <td>1.011740e-11</td>\n",
              "      <td>1.150420e-12</td>\n",
              "      <td>0.511</td>\n",
              "      <td>1</td>\n",
              "      <td>2.0134</td>\n",
              "      <td>1.008810e-08</td>\n",
              "      <td>3.018620e-09</td>\n",
              "      <td>-2.949990e-09</td>\n",
              "      <td>2.420950e-12</td>\n",
              "      <td>3.427</td>\n",
              "      <td>1.979730e-09</td>\n",
              "      <td>5.195480e-10</td>\n",
              "      <td>-5.032010e-10</td>\n",
              "      <td>1.357070e-12</td>\n",
              "      <td>4.173</td>\n",
              "      <td>5.411360e-10</td>\n",
              "      <td>1.170220e-10</td>\n",
              "      <td>-1.090790e-10</td>\n",
              "      <td>1.298620e-12</td>\n",
              "      <td>6.251</td>\n",
              "      <td>2.340260e-10</td>\n",
              "      <td>1.604210e-12</td>\n",
              "      <td>8.382</td>\n",
              "      <td>8.555690e-11</td>\n",
              "      <td>1.514590e-12</td>\n",
              "      <td>7.324</td>\n",
              "      <td>41.696239</td>\n",
              "      <td>NaN</td>\n",
              "      <td>NaN</td>\n",
              "      <td>NaN</td>\n",
              "      <td>NaN</td>\n",
              "      <td>NaN</td>\n",
              "      <td>1</td>\n",
              "      <td>0</td>\n",
              "      <td>-0.671900</td>\n",
              "      <td>-0.570675</td>\n",
              "      <td>-0.396188</td>\n",
              "      <td>-0.174486</td>\n",
              "      <td>-0.101225</td>\n",
              "      <td>3.346883</td>\n",
              "      <td>3.103793</td>\n",
              "      <td>0.038038</td>\n",
              "      <td>0.303921</td>\n",
              "      <td>0.491893</td>\n",
              "      <td>-1.419783</td>\n",
              "      <td>-9.042193</td>\n",
              "    </tr>\n",
              "    <tr>\n",
              "      <th>1</th>\n",
              "      <td>1</td>\n",
              "      <td>1</td>\n",
              "      <td>3FGL J0046.7-8419</td>\n",
              "      <td>11.6875</td>\n",
              "      <td>-84.3200</td>\n",
              "      <td>2.772770e-10</td>\n",
              "      <td>2.82062</td>\n",
              "      <td>0.13341</td>\n",
              "      <td>6.239794</td>\n",
              "      <td>303.0699</td>\n",
              "      <td>-32.8070</td>\n",
              "      <td>395.73</td>\n",
              "      <td>6.895600e-12</td>\n",
              "      <td>1.036500e-12</td>\n",
              "      <td>6.497270e-12</td>\n",
              "      <td>9.888820e-13</td>\n",
              "      <td>0.647</td>\n",
              "      <td>1</td>\n",
              "      <td>2.8206</td>\n",
              "      <td>1.121860e-08</td>\n",
              "      <td>4.038050e-09</td>\n",
              "      <td>-3.890830e-09</td>\n",
              "      <td>2.493400e-12</td>\n",
              "      <td>2.877</td>\n",
              "      <td>1.951180e-09</td>\n",
              "      <td>5.772040e-10</td>\n",
              "      <td>-5.338970e-10</td>\n",
              "      <td>1.220970e-12</td>\n",
              "      <td>3.740</td>\n",
              "      <td>3.592310e-10</td>\n",
              "      <td>1.122630e-10</td>\n",
              "      <td>-1.019240e-10</td>\n",
              "      <td>7.984120e-13</td>\n",
              "      <td>4.067</td>\n",
              "      <td>2.958340e-11</td>\n",
              "      <td>1.851210e-13</td>\n",
              "      <td>1.964</td>\n",
              "      <td>8.163080e-16</td>\n",
              "      <td>1.085870e-17</td>\n",
              "      <td>0.000</td>\n",
              "      <td>62.983513</td>\n",
              "      <td>NaN</td>\n",
              "      <td>NaN</td>\n",
              "      <td>NaN</td>\n",
              "      <td>NaN</td>\n",
              "      <td>NaN</td>\n",
              "      <td>0</td>\n",
              "      <td>0</td>\n",
              "      <td>-0.703688</td>\n",
              "      <td>-0.689033</td>\n",
              "      <td>-0.847828</td>\n",
              "      <td>0.158795</td>\n",
              "      <td>-0.014655</td>\n",
              "      <td>2.597399</td>\n",
              "      <td>10.093845</td>\n",
              "      <td>0.103689</td>\n",
              "      <td>0.450345</td>\n",
              "      <td>1.004057</td>\n",
              "      <td>-0.984266</td>\n",
              "      <td>-9.557086</td>\n",
              "    </tr>\n",
              "    <tr>\n",
              "      <th>2</th>\n",
              "      <td>2</td>\n",
              "      <td>2</td>\n",
              "      <td>3FGL J2202.4-8339</td>\n",
              "      <td>330.6101</td>\n",
              "      <td>-83.6560</td>\n",
              "      <td>1.985760e-09</td>\n",
              "      <td>2.42962</td>\n",
              "      <td>0.06724</td>\n",
              "      <td>23.074068</td>\n",
              "      <td>307.9433</td>\n",
              "      <td>-31.7347</td>\n",
              "      <td>757.27</td>\n",
              "      <td>6.903600e-12</td>\n",
              "      <td>4.258600e-13</td>\n",
              "      <td>2.310780e-11</td>\n",
              "      <td>1.767710e-12</td>\n",
              "      <td>5.157</td>\n",
              "      <td>2</td>\n",
              "      <td>2.4700</td>\n",
              "      <td>3.435640e-08</td>\n",
              "      <td>6.642110e-09</td>\n",
              "      <td>-6.582910e-09</td>\n",
              "      <td>8.378720e-12</td>\n",
              "      <td>5.745</td>\n",
              "      <td>9.672910e-09</td>\n",
              "      <td>8.147200e-10</td>\n",
              "      <td>-8.147200e-10</td>\n",
              "      <td>6.411070e-12</td>\n",
              "      <td>13.874</td>\n",
              "      <td>1.843210e-09</td>\n",
              "      <td>1.753410e-10</td>\n",
              "      <td>-1.753410e-10</td>\n",
              "      <td>4.121440e-12</td>\n",
              "      <td>15.423</td>\n",
              "      <td>2.393800e-10</td>\n",
              "      <td>1.439750e-12</td>\n",
              "      <td>8.077</td>\n",
              "      <td>2.484270e-12</td>\n",
              "      <td>2.610000e-14</td>\n",
              "      <td>0.213</td>\n",
              "      <td>377.103882</td>\n",
              "      <td>16.296301</td>\n",
              "      <td>2.664750e-07</td>\n",
              "      <td>2.336680e-08</td>\n",
              "      <td>55212.719977</td>\n",
              "      <td>2630000.0</td>\n",
              "      <td>0</td>\n",
              "      <td>0</td>\n",
              "      <td>-0.560615</td>\n",
              "      <td>-0.679890</td>\n",
              "      <td>-0.770113</td>\n",
              "      <td>0.090223</td>\n",
              "      <td>0.119275</td>\n",
              "      <td>2.879251</td>\n",
              "      <td>16.343190</td>\n",
              "      <td>0.223498</td>\n",
              "      <td>0.385538</td>\n",
              "      <td>1.213337</td>\n",
              "      <td>-0.650727</td>\n",
              "      <td>-8.702073</td>\n",
              "    </tr>\n",
              "    <tr>\n",
              "      <th>3</th>\n",
              "      <td>3</td>\n",
              "      <td>3</td>\n",
              "      <td>3FGL J0533.6-8323</td>\n",
              "      <td>83.4106</td>\n",
              "      <td>-83.3847</td>\n",
              "      <td>8.110600e-10</td>\n",
              "      <td>2.29598</td>\n",
              "      <td>0.07827</td>\n",
              "      <td>11.699274</td>\n",
              "      <td>295.7869</td>\n",
              "      <td>-29.1493</td>\n",
              "      <td>946.09</td>\n",
              "      <td>1.196400e-12</td>\n",
              "      <td>1.248500e-13</td>\n",
              "      <td>9.813590e-12</td>\n",
              "      <td>1.027190e-12</td>\n",
              "      <td>0.809</td>\n",
              "      <td>1</td>\n",
              "      <td>2.2960</td>\n",
              "      <td>7.750010e-09</td>\n",
              "      <td>2.872050e-09</td>\n",
              "      <td>-2.839320e-09</td>\n",
              "      <td>1.809270e-12</td>\n",
              "      <td>2.754</td>\n",
              "      <td>3.472950e-09</td>\n",
              "      <td>5.669210e-10</td>\n",
              "      <td>-5.520220e-10</td>\n",
              "      <td>2.303550e-12</td>\n",
              "      <td>6.847</td>\n",
              "      <td>6.923790e-10</td>\n",
              "      <td>1.332310e-10</td>\n",
              "      <td>-1.250930e-10</td>\n",
              "      <td>1.616390e-12</td>\n",
              "      <td>6.802</td>\n",
              "      <td>1.004000e-10</td>\n",
              "      <td>6.659350e-13</td>\n",
              "      <td>4.141</td>\n",
              "      <td>5.346040e-11</td>\n",
              "      <td>8.475950e-13</td>\n",
              "      <td>5.404</td>\n",
              "      <td>144.790558</td>\n",
              "      <td>7.860495</td>\n",
              "      <td>1.053960e-07</td>\n",
              "      <td>1.943020e-08</td>\n",
              "      <td>54695.242951</td>\n",
              "      <td>2630000.0</td>\n",
              "      <td>0</td>\n",
              "      <td>0</td>\n",
              "      <td>-0.381099</td>\n",
              "      <td>-0.667551</td>\n",
              "      <td>-0.746714</td>\n",
              "      <td>0.079162</td>\n",
              "      <td>0.286452</td>\n",
              "      <td>2.975932</td>\n",
              "      <td>12.376029</td>\n",
              "      <td>0.069150</td>\n",
              "      <td>0.360968</td>\n",
              "      <td>1.092581</td>\n",
              "      <td>-1.160210</td>\n",
              "      <td>-9.090947</td>\n",
              "    </tr>\n",
              "  </tbody>\n",
              "</table>\n",
              "</div>"
            ],
            "text/plain": [
              "   Unnamed: 0  Unnamed: 0.1               name        ra      dec  \\\n",
              "0           0             0  3FGL J1026.4-8542  156.6050 -85.7152   \n",
              "1           1             1  3FGL J0046.7-8419   11.6875 -84.3200   \n",
              "2           2             2  3FGL J2202.4-8339  330.6101 -83.6560   \n",
              "3           3             3  3FGL J0533.6-8323   83.4106 -83.3847   \n",
              "\n",
              "   flux_1_100_gev  spectral_index  spectral_index_error  \\\n",
              "0    9.074170e-10         2.01336               0.08438   \n",
              "1    2.772770e-10         2.82062               0.13341   \n",
              "2    1.985760e-09         2.42962               0.06724   \n",
              "3    8.110600e-10         2.29598               0.07827   \n",
              "\n",
              "   detection_significance       lii      bii  pivot_energy  flux_density  \\\n",
              "0               13.433965  300.1673 -23.6462       2222.71  1.858600e-13   \n",
              "1                6.239794  303.0699 -32.8070        395.73  6.895600e-12   \n",
              "2               23.074068  307.9433 -31.7347        757.27  6.903600e-12   \n",
              "3               11.699274  295.7869 -29.1493        946.09  1.196400e-12   \n",
              "\n",
              "   flux_density_error   energy_flux  energy_flux_error  curve_significance  \\\n",
              "0        2.060600e-14  1.011740e-11       1.150420e-12               0.511   \n",
              "1        1.036500e-12  6.497270e-12       9.888820e-13               0.647   \n",
              "2        4.258600e-13  2.310780e-11       1.767710e-12               5.157   \n",
              "3        1.248500e-13  9.813590e-12       1.027190e-12               0.809   \n",
              "\n",
              "   spectrum_type  powerlaw_index  flux_100_300_mev  flux_100_300_mev_pos_err  \\\n",
              "0              1          2.0134      1.008810e-08              3.018620e-09   \n",
              "1              1          2.8206      1.121860e-08              4.038050e-09   \n",
              "2              2          2.4700      3.435640e-08              6.642110e-09   \n",
              "3              1          2.2960      7.750010e-09              2.872050e-09   \n",
              "\n",
              "   flux_100_300_mev_neg_err  nufnu_100_300_mev  sqrt_ts_100_300_mev  \\\n",
              "0             -2.949990e-09       2.420950e-12                3.427   \n",
              "1             -3.890830e-09       2.493400e-12                2.877   \n",
              "2             -6.582910e-09       8.378720e-12                5.745   \n",
              "3             -2.839320e-09       1.809270e-12                2.754   \n",
              "\n",
              "   flux_0p3_1_gev  flux_0p3_1_gev_pos_err  flux_0p3_1_gev_neg_err  \\\n",
              "0    1.979730e-09            5.195480e-10           -5.032010e-10   \n",
              "1    1.951180e-09            5.772040e-10           -5.338970e-10   \n",
              "2    9.672910e-09            8.147200e-10           -8.147200e-10   \n",
              "3    3.472950e-09            5.669210e-10           -5.520220e-10   \n",
              "\n",
              "   nufnu_0p3_1_gev  sqrt_ts_0p3_1_gev  flux_1_3_gev  flux_1_3_gev_pos_err  \\\n",
              "0     1.357070e-12              4.173  5.411360e-10          1.170220e-10   \n",
              "1     1.220970e-12              3.740  3.592310e-10          1.122630e-10   \n",
              "2     6.411070e-12             13.874  1.843210e-09          1.753410e-10   \n",
              "3     2.303550e-12              6.847  6.923790e-10          1.332310e-10   \n",
              "\n",
              "   flux_1_3_gev_neg_err  nufnu_1_3_gev  sqrt_ts_1_3_gev  flux_3_10_gev  \\\n",
              "0         -1.090790e-10   1.298620e-12            6.251   2.340260e-10   \n",
              "1         -1.019240e-10   7.984120e-13            4.067   2.958340e-11   \n",
              "2         -1.753410e-10   4.121440e-12           15.423   2.393800e-10   \n",
              "3         -1.250930e-10   1.616390e-12            6.802   1.004000e-10   \n",
              "\n",
              "   nufnu_3_10_gev  sqrt_ts_3_10_gev  flux_10_100_gev  nufnu_10_100_gev  \\\n",
              "0    1.604210e-12             8.382     8.555690e-11      1.514590e-12   \n",
              "1    1.851210e-13             1.964     8.163080e-16      1.085870e-17   \n",
              "2    1.439750e-12             8.077     2.484270e-12      2.610000e-14   \n",
              "3    6.659350e-13             4.141     5.346040e-11      8.475950e-13   \n",
              "\n",
              "   sqrt_ts_10_100_gev  variability_index  significance_peak     flux_peak  \\\n",
              "0               7.324          41.696239                NaN           NaN   \n",
              "1               0.000          62.983513                NaN           NaN   \n",
              "2               0.213         377.103882          16.296301  2.664750e-07   \n",
              "3               5.404         144.790558           7.860495  1.053960e-07   \n",
              "\n",
              "   flux_peak_error     time_peak  time_peak_interval  source_type  \\\n",
              "0              NaN           NaN                 NaN            1   \n",
              "1              NaN           NaN                 NaN            0   \n",
              "2     2.336680e-08  55212.719977           2630000.0            0   \n",
              "3     1.943020e-08  54695.242951           2630000.0            0   \n",
              "\n",
              "   analysis_flags      HR12      HR23      HR34  hard_slope  soft_slope  \\\n",
              "0               0 -0.671900 -0.570675 -0.396188   -0.174486   -0.101225   \n",
              "1               0 -0.703688 -0.689033 -0.847828    0.158795   -0.014655   \n",
              "2               0 -0.560615 -0.679890 -0.770113    0.090223    0.119275   \n",
              "3               0 -0.381099 -0.667551 -0.746714    0.079162    0.286452   \n",
              "\n",
              "     P_E_lg        TS_      sig_  gamm_log    Ts_log   sig_log  F100_log  \n",
              "0  3.346883   3.103793  0.038038  0.303921  0.491893 -1.419783 -9.042193  \n",
              "1  2.597399  10.093845  0.103689  0.450345  1.004057 -0.984266 -9.557086  \n",
              "2  2.879251  16.343190  0.223498  0.385538  1.213337 -0.650727 -8.702073  \n",
              "3  2.975932  12.376029  0.069150  0.360968  1.092581 -1.160210 -9.090947  "
            ]
          },
          "metadata": {
            "tags": []
          },
          "execution_count": 7
        }
      ]
    },
    {
      "cell_type": "code",
      "metadata": {
        "id": "ZxkrzgMv8l6m",
        "colab_type": "code",
        "outputId": "2532429c-d92c-47c5-c3e8-e9dee4e89245",
        "colab": {
          "base_uri": "https://localhost:8080/",
          "height": 292
        }
      },
      "source": [
        "\n",
        "#eliminamos columnas que molestan\n",
        "df.drop(['Unnamed: 0'], axis=1, inplace=True)\n",
        "df.drop(['Unnamed: 0.1'], axis=1, inplace=True)\n",
        "#y = pd.read_excel(etiquetas).fillna(1e6).astype(np.int32) \n",
        "#df_BCU = pd.read_excel(BCU).fillna(1e6).astype(np.float32)\n",
        "#print(X.shape,y.shape)\n",
        "#y\n",
        "print (df.shape)\n",
        "df.head(5)"
      ],
      "execution_count": 0,
      "outputs": [
        {
          "output_type": "stream",
          "text": [
            "(1590, 57)\n"
          ],
          "name": "stdout"
        },
        {
          "output_type": "execute_result",
          "data": {
            "text/html": [
              "<div>\n",
              "<style scoped>\n",
              "    .dataframe tbody tr th:only-of-type {\n",
              "        vertical-align: middle;\n",
              "    }\n",
              "\n",
              "    .dataframe tbody tr th {\n",
              "        vertical-align: top;\n",
              "    }\n",
              "\n",
              "    .dataframe thead th {\n",
              "        text-align: right;\n",
              "    }\n",
              "</style>\n",
              "<table border=\"1\" class=\"dataframe\">\n",
              "  <thead>\n",
              "    <tr style=\"text-align: right;\">\n",
              "      <th></th>\n",
              "      <th>ra</th>\n",
              "      <th>dec</th>\n",
              "      <th>flux_1_100_gev</th>\n",
              "      <th>spectral_index</th>\n",
              "      <th>spectral_index_error</th>\n",
              "      <th>detection_significance</th>\n",
              "      <th>lii</th>\n",
              "      <th>bii</th>\n",
              "      <th>pivot_energy</th>\n",
              "      <th>flux_density</th>\n",
              "      <th>flux_density_error</th>\n",
              "      <th>energy_flux</th>\n",
              "      <th>energy_flux_error</th>\n",
              "      <th>curve_significance</th>\n",
              "      <th>spectrum_type</th>\n",
              "      <th>powerlaw_index</th>\n",
              "      <th>flux_100_300_mev</th>\n",
              "      <th>flux_100_300_mev_pos_err</th>\n",
              "      <th>flux_100_300_mev_neg_err</th>\n",
              "      <th>nufnu_100_300_mev</th>\n",
              "      <th>sqrt_ts_100_300_mev</th>\n",
              "      <th>flux_0p3_1_gev</th>\n",
              "      <th>flux_0p3_1_gev_pos_err</th>\n",
              "      <th>flux_0p3_1_gev_neg_err</th>\n",
              "      <th>nufnu_0p3_1_gev</th>\n",
              "      <th>sqrt_ts_0p3_1_gev</th>\n",
              "      <th>flux_1_3_gev</th>\n",
              "      <th>flux_1_3_gev_pos_err</th>\n",
              "      <th>flux_1_3_gev_neg_err</th>\n",
              "      <th>nufnu_1_3_gev</th>\n",
              "      <th>sqrt_ts_1_3_gev</th>\n",
              "      <th>flux_3_10_gev</th>\n",
              "      <th>nufnu_3_10_gev</th>\n",
              "      <th>sqrt_ts_3_10_gev</th>\n",
              "      <th>flux_10_100_gev</th>\n",
              "      <th>nufnu_10_100_gev</th>\n",
              "      <th>sqrt_ts_10_100_gev</th>\n",
              "      <th>variability_index</th>\n",
              "      <th>significance_peak</th>\n",
              "      <th>flux_peak</th>\n",
              "      <th>flux_peak_error</th>\n",
              "      <th>time_peak</th>\n",
              "      <th>time_peak_interval</th>\n",
              "      <th>source_type</th>\n",
              "      <th>analysis_flags</th>\n",
              "      <th>HR12</th>\n",
              "      <th>HR23</th>\n",
              "      <th>HR34</th>\n",
              "      <th>hard_slope</th>\n",
              "      <th>soft_slope</th>\n",
              "      <th>P_E_lg</th>\n",
              "      <th>TS_</th>\n",
              "      <th>sig_</th>\n",
              "      <th>gamm_log</th>\n",
              "      <th>Ts_log</th>\n",
              "      <th>sig_log</th>\n",
              "      <th>F100_log</th>\n",
              "    </tr>\n",
              "  </thead>\n",
              "  <tbody>\n",
              "    <tr>\n",
              "      <th>0</th>\n",
              "      <td>156.604996</td>\n",
              "      <td>-85.715202</td>\n",
              "      <td>9.074170e-10</td>\n",
              "      <td>2.01336</td>\n",
              "      <td>0.08438</td>\n",
              "      <td>13.433965</td>\n",
              "      <td>300.167297</td>\n",
              "      <td>-23.646200</td>\n",
              "      <td>2222.709961</td>\n",
              "      <td>1.858600e-13</td>\n",
              "      <td>2.060600e-14</td>\n",
              "      <td>1.011740e-11</td>\n",
              "      <td>1.150420e-12</td>\n",
              "      <td>0.511</td>\n",
              "      <td>1.0</td>\n",
              "      <td>2.0134</td>\n",
              "      <td>1.008810e-08</td>\n",
              "      <td>3.018620e-09</td>\n",
              "      <td>-2.949990e-09</td>\n",
              "      <td>2.420950e-12</td>\n",
              "      <td>3.427</td>\n",
              "      <td>1.979730e-09</td>\n",
              "      <td>5.195480e-10</td>\n",
              "      <td>-5.032010e-10</td>\n",
              "      <td>1.357070e-12</td>\n",
              "      <td>4.173</td>\n",
              "      <td>5.411360e-10</td>\n",
              "      <td>1.170220e-10</td>\n",
              "      <td>-1.090790e-10</td>\n",
              "      <td>1.298620e-12</td>\n",
              "      <td>6.251</td>\n",
              "      <td>2.340260e-10</td>\n",
              "      <td>1.604210e-12</td>\n",
              "      <td>8.382</td>\n",
              "      <td>8.555690e-11</td>\n",
              "      <td>1.514590e-12</td>\n",
              "      <td>7.324</td>\n",
              "      <td>41.696239</td>\n",
              "      <td>1000000.000000</td>\n",
              "      <td>1.000000e+06</td>\n",
              "      <td>1.000000e+06</td>\n",
              "      <td>1000000.000000</td>\n",
              "      <td>1000000.0</td>\n",
              "      <td>1.0</td>\n",
              "      <td>0.0</td>\n",
              "      <td>-0.671900</td>\n",
              "      <td>-0.570675</td>\n",
              "      <td>-0.396188</td>\n",
              "      <td>-0.174486</td>\n",
              "      <td>-0.101225</td>\n",
              "      <td>3.346883</td>\n",
              "      <td>3.103792</td>\n",
              "      <td>0.038038</td>\n",
              "      <td>0.303921</td>\n",
              "      <td>0.491893</td>\n",
              "      <td>-1.419783</td>\n",
              "      <td>-9.042193</td>\n",
              "    </tr>\n",
              "    <tr>\n",
              "      <th>1</th>\n",
              "      <td>11.687500</td>\n",
              "      <td>-84.320000</td>\n",
              "      <td>2.772770e-10</td>\n",
              "      <td>2.82062</td>\n",
              "      <td>0.13341</td>\n",
              "      <td>6.239794</td>\n",
              "      <td>303.069885</td>\n",
              "      <td>-32.806999</td>\n",
              "      <td>395.730011</td>\n",
              "      <td>6.895600e-12</td>\n",
              "      <td>1.036500e-12</td>\n",
              "      <td>6.497270e-12</td>\n",
              "      <td>9.888820e-13</td>\n",
              "      <td>0.647</td>\n",
              "      <td>1.0</td>\n",
              "      <td>2.8206</td>\n",
              "      <td>1.121860e-08</td>\n",
              "      <td>4.038050e-09</td>\n",
              "      <td>-3.890830e-09</td>\n",
              "      <td>2.493400e-12</td>\n",
              "      <td>2.877</td>\n",
              "      <td>1.951180e-09</td>\n",
              "      <td>5.772040e-10</td>\n",
              "      <td>-5.338970e-10</td>\n",
              "      <td>1.220970e-12</td>\n",
              "      <td>3.740</td>\n",
              "      <td>3.592310e-10</td>\n",
              "      <td>1.122630e-10</td>\n",
              "      <td>-1.019240e-10</td>\n",
              "      <td>7.984120e-13</td>\n",
              "      <td>4.067</td>\n",
              "      <td>2.958340e-11</td>\n",
              "      <td>1.851210e-13</td>\n",
              "      <td>1.964</td>\n",
              "      <td>8.163080e-16</td>\n",
              "      <td>1.085870e-17</td>\n",
              "      <td>0.000</td>\n",
              "      <td>62.983513</td>\n",
              "      <td>1000000.000000</td>\n",
              "      <td>1.000000e+06</td>\n",
              "      <td>1.000000e+06</td>\n",
              "      <td>1000000.000000</td>\n",
              "      <td>1000000.0</td>\n",
              "      <td>0.0</td>\n",
              "      <td>0.0</td>\n",
              "      <td>-0.703688</td>\n",
              "      <td>-0.689033</td>\n",
              "      <td>-0.847828</td>\n",
              "      <td>0.158795</td>\n",
              "      <td>-0.014655</td>\n",
              "      <td>2.597399</td>\n",
              "      <td>10.093845</td>\n",
              "      <td>0.103689</td>\n",
              "      <td>0.450345</td>\n",
              "      <td>1.004057</td>\n",
              "      <td>-0.984266</td>\n",
              "      <td>-9.557086</td>\n",
              "    </tr>\n",
              "    <tr>\n",
              "      <th>2</th>\n",
              "      <td>330.610107</td>\n",
              "      <td>-83.655998</td>\n",
              "      <td>1.985760e-09</td>\n",
              "      <td>2.42962</td>\n",
              "      <td>0.06724</td>\n",
              "      <td>23.074068</td>\n",
              "      <td>307.943298</td>\n",
              "      <td>-31.734699</td>\n",
              "      <td>757.270020</td>\n",
              "      <td>6.903600e-12</td>\n",
              "      <td>4.258600e-13</td>\n",
              "      <td>2.310780e-11</td>\n",
              "      <td>1.767710e-12</td>\n",
              "      <td>5.157</td>\n",
              "      <td>2.0</td>\n",
              "      <td>2.4700</td>\n",
              "      <td>3.435640e-08</td>\n",
              "      <td>6.642110e-09</td>\n",
              "      <td>-6.582910e-09</td>\n",
              "      <td>8.378720e-12</td>\n",
              "      <td>5.745</td>\n",
              "      <td>9.672910e-09</td>\n",
              "      <td>8.147200e-10</td>\n",
              "      <td>-8.147200e-10</td>\n",
              "      <td>6.411070e-12</td>\n",
              "      <td>13.874</td>\n",
              "      <td>1.843210e-09</td>\n",
              "      <td>1.753410e-10</td>\n",
              "      <td>-1.753410e-10</td>\n",
              "      <td>4.121440e-12</td>\n",
              "      <td>15.423</td>\n",
              "      <td>2.393800e-10</td>\n",
              "      <td>1.439750e-12</td>\n",
              "      <td>8.077</td>\n",
              "      <td>2.484270e-12</td>\n",
              "      <td>2.610000e-14</td>\n",
              "      <td>0.213</td>\n",
              "      <td>377.103882</td>\n",
              "      <td>16.296301</td>\n",
              "      <td>2.664750e-07</td>\n",
              "      <td>2.336680e-08</td>\n",
              "      <td>55212.718750</td>\n",
              "      <td>2630000.0</td>\n",
              "      <td>0.0</td>\n",
              "      <td>0.0</td>\n",
              "      <td>-0.560615</td>\n",
              "      <td>-0.679890</td>\n",
              "      <td>-0.770113</td>\n",
              "      <td>0.090223</td>\n",
              "      <td>0.119275</td>\n",
              "      <td>2.879251</td>\n",
              "      <td>16.343189</td>\n",
              "      <td>0.223498</td>\n",
              "      <td>0.385538</td>\n",
              "      <td>1.213337</td>\n",
              "      <td>-0.650727</td>\n",
              "      <td>-8.702073</td>\n",
              "    </tr>\n",
              "    <tr>\n",
              "      <th>3</th>\n",
              "      <td>83.410599</td>\n",
              "      <td>-83.384697</td>\n",
              "      <td>8.110600e-10</td>\n",
              "      <td>2.29598</td>\n",
              "      <td>0.07827</td>\n",
              "      <td>11.699274</td>\n",
              "      <td>295.786896</td>\n",
              "      <td>-29.149300</td>\n",
              "      <td>946.090027</td>\n",
              "      <td>1.196400e-12</td>\n",
              "      <td>1.248500e-13</td>\n",
              "      <td>9.813590e-12</td>\n",
              "      <td>1.027190e-12</td>\n",
              "      <td>0.809</td>\n",
              "      <td>1.0</td>\n",
              "      <td>2.2960</td>\n",
              "      <td>7.750010e-09</td>\n",
              "      <td>2.872050e-09</td>\n",
              "      <td>-2.839320e-09</td>\n",
              "      <td>1.809270e-12</td>\n",
              "      <td>2.754</td>\n",
              "      <td>3.472950e-09</td>\n",
              "      <td>5.669210e-10</td>\n",
              "      <td>-5.520220e-10</td>\n",
              "      <td>2.303550e-12</td>\n",
              "      <td>6.847</td>\n",
              "      <td>6.923790e-10</td>\n",
              "      <td>1.332310e-10</td>\n",
              "      <td>-1.250930e-10</td>\n",
              "      <td>1.616390e-12</td>\n",
              "      <td>6.802</td>\n",
              "      <td>1.004000e-10</td>\n",
              "      <td>6.659350e-13</td>\n",
              "      <td>4.141</td>\n",
              "      <td>5.346040e-11</td>\n",
              "      <td>8.475950e-13</td>\n",
              "      <td>5.404</td>\n",
              "      <td>144.790558</td>\n",
              "      <td>7.860495</td>\n",
              "      <td>1.053960e-07</td>\n",
              "      <td>1.943020e-08</td>\n",
              "      <td>54695.242188</td>\n",
              "      <td>2630000.0</td>\n",
              "      <td>0.0</td>\n",
              "      <td>0.0</td>\n",
              "      <td>-0.381099</td>\n",
              "      <td>-0.667551</td>\n",
              "      <td>-0.746714</td>\n",
              "      <td>0.079162</td>\n",
              "      <td>0.286452</td>\n",
              "      <td>2.975932</td>\n",
              "      <td>12.376029</td>\n",
              "      <td>0.069150</td>\n",
              "      <td>0.360968</td>\n",
              "      <td>1.092581</td>\n",
              "      <td>-1.160210</td>\n",
              "      <td>-9.090947</td>\n",
              "    </tr>\n",
              "    <tr>\n",
              "      <th>4</th>\n",
              "      <td>4.745400</td>\n",
              "      <td>-81.876900</td>\n",
              "      <td>6.529680e-10</td>\n",
              "      <td>2.07544</td>\n",
              "      <td>0.10204</td>\n",
              "      <td>10.650256</td>\n",
              "      <td>304.329803</td>\n",
              "      <td>-35.163101</td>\n",
              "      <td>2187.520020</td>\n",
              "      <td>1.392900e-13</td>\n",
              "      <td>1.858100e-14</td>\n",
              "      <td>7.255220e-12</td>\n",
              "      <td>9.692230e-13</td>\n",
              "      <td>0.310</td>\n",
              "      <td>1.0</td>\n",
              "      <td>2.0754</td>\n",
              "      <td>9.456800e-09</td>\n",
              "      <td>3.084540e-09</td>\n",
              "      <td>-2.976170e-09</td>\n",
              "      <td>2.255640e-12</td>\n",
              "      <td>3.206</td>\n",
              "      <td>1.945380e-09</td>\n",
              "      <td>5.028870e-10</td>\n",
              "      <td>-4.849710e-10</td>\n",
              "      <td>1.323820e-12</td>\n",
              "      <td>4.257</td>\n",
              "      <td>4.000200e-10</td>\n",
              "      <td>1.082130e-10</td>\n",
              "      <td>-1.006460e-10</td>\n",
              "      <td>9.541290e-13</td>\n",
              "      <td>4.752</td>\n",
              "      <td>1.268910e-10</td>\n",
              "      <td>8.634840e-13</td>\n",
              "      <td>5.924</td>\n",
              "      <td>7.248200e-11</td>\n",
              "      <td>1.251450e-12</td>\n",
              "      <td>6.454</td>\n",
              "      <td>85.652306</td>\n",
              "      <td>7.363566</td>\n",
              "      <td>4.243460e-08</td>\n",
              "      <td>1.054210e-08</td>\n",
              "      <td>55030.082031</td>\n",
              "      <td>2630000.0</td>\n",
              "      <td>1.0</td>\n",
              "      <td>0.0</td>\n",
              "      <td>-0.658771</td>\n",
              "      <td>-0.658890</td>\n",
              "      <td>-0.518359</td>\n",
              "      <td>-0.140531</td>\n",
              "      <td>0.000119</td>\n",
              "      <td>3.339952</td>\n",
              "      <td>8.042276</td>\n",
              "      <td>0.029107</td>\n",
              "      <td>0.317110</td>\n",
              "      <td>0.905379</td>\n",
              "      <td>-1.535998</td>\n",
              "      <td>-9.185108</td>\n",
              "    </tr>\n",
              "  </tbody>\n",
              "</table>\n",
              "</div>"
            ],
            "text/plain": [
              "           ra        dec  flux_1_100_gev  spectral_index  \\\n",
              "0  156.604996 -85.715202    9.074170e-10         2.01336   \n",
              "1   11.687500 -84.320000    2.772770e-10         2.82062   \n",
              "2  330.610107 -83.655998    1.985760e-09         2.42962   \n",
              "3   83.410599 -83.384697    8.110600e-10         2.29598   \n",
              "4    4.745400 -81.876900    6.529680e-10         2.07544   \n",
              "\n",
              "   spectral_index_error  detection_significance         lii        bii  \\\n",
              "0               0.08438               13.433965  300.167297 -23.646200   \n",
              "1               0.13341                6.239794  303.069885 -32.806999   \n",
              "2               0.06724               23.074068  307.943298 -31.734699   \n",
              "3               0.07827               11.699274  295.786896 -29.149300   \n",
              "4               0.10204               10.650256  304.329803 -35.163101   \n",
              "\n",
              "   pivot_energy  flux_density  flux_density_error   energy_flux  \\\n",
              "0   2222.709961  1.858600e-13        2.060600e-14  1.011740e-11   \n",
              "1    395.730011  6.895600e-12        1.036500e-12  6.497270e-12   \n",
              "2    757.270020  6.903600e-12        4.258600e-13  2.310780e-11   \n",
              "3    946.090027  1.196400e-12        1.248500e-13  9.813590e-12   \n",
              "4   2187.520020  1.392900e-13        1.858100e-14  7.255220e-12   \n",
              "\n",
              "   energy_flux_error  curve_significance  spectrum_type  powerlaw_index  \\\n",
              "0       1.150420e-12               0.511            1.0          2.0134   \n",
              "1       9.888820e-13               0.647            1.0          2.8206   \n",
              "2       1.767710e-12               5.157            2.0          2.4700   \n",
              "3       1.027190e-12               0.809            1.0          2.2960   \n",
              "4       9.692230e-13               0.310            1.0          2.0754   \n",
              "\n",
              "   flux_100_300_mev  flux_100_300_mev_pos_err  flux_100_300_mev_neg_err  \\\n",
              "0      1.008810e-08              3.018620e-09             -2.949990e-09   \n",
              "1      1.121860e-08              4.038050e-09             -3.890830e-09   \n",
              "2      3.435640e-08              6.642110e-09             -6.582910e-09   \n",
              "3      7.750010e-09              2.872050e-09             -2.839320e-09   \n",
              "4      9.456800e-09              3.084540e-09             -2.976170e-09   \n",
              "\n",
              "   nufnu_100_300_mev  sqrt_ts_100_300_mev  flux_0p3_1_gev  \\\n",
              "0       2.420950e-12                3.427    1.979730e-09   \n",
              "1       2.493400e-12                2.877    1.951180e-09   \n",
              "2       8.378720e-12                5.745    9.672910e-09   \n",
              "3       1.809270e-12                2.754    3.472950e-09   \n",
              "4       2.255640e-12                3.206    1.945380e-09   \n",
              "\n",
              "   flux_0p3_1_gev_pos_err  flux_0p3_1_gev_neg_err  nufnu_0p3_1_gev  \\\n",
              "0            5.195480e-10           -5.032010e-10     1.357070e-12   \n",
              "1            5.772040e-10           -5.338970e-10     1.220970e-12   \n",
              "2            8.147200e-10           -8.147200e-10     6.411070e-12   \n",
              "3            5.669210e-10           -5.520220e-10     2.303550e-12   \n",
              "4            5.028870e-10           -4.849710e-10     1.323820e-12   \n",
              "\n",
              "   sqrt_ts_0p3_1_gev  flux_1_3_gev  flux_1_3_gev_pos_err  \\\n",
              "0              4.173  5.411360e-10          1.170220e-10   \n",
              "1              3.740  3.592310e-10          1.122630e-10   \n",
              "2             13.874  1.843210e-09          1.753410e-10   \n",
              "3              6.847  6.923790e-10          1.332310e-10   \n",
              "4              4.257  4.000200e-10          1.082130e-10   \n",
              "\n",
              "   flux_1_3_gev_neg_err  nufnu_1_3_gev  sqrt_ts_1_3_gev  flux_3_10_gev  \\\n",
              "0         -1.090790e-10   1.298620e-12            6.251   2.340260e-10   \n",
              "1         -1.019240e-10   7.984120e-13            4.067   2.958340e-11   \n",
              "2         -1.753410e-10   4.121440e-12           15.423   2.393800e-10   \n",
              "3         -1.250930e-10   1.616390e-12            6.802   1.004000e-10   \n",
              "4         -1.006460e-10   9.541290e-13            4.752   1.268910e-10   \n",
              "\n",
              "   nufnu_3_10_gev  sqrt_ts_3_10_gev  flux_10_100_gev  nufnu_10_100_gev  \\\n",
              "0    1.604210e-12             8.382     8.555690e-11      1.514590e-12   \n",
              "1    1.851210e-13             1.964     8.163080e-16      1.085870e-17   \n",
              "2    1.439750e-12             8.077     2.484270e-12      2.610000e-14   \n",
              "3    6.659350e-13             4.141     5.346040e-11      8.475950e-13   \n",
              "4    8.634840e-13             5.924     7.248200e-11      1.251450e-12   \n",
              "\n",
              "   sqrt_ts_10_100_gev  variability_index  significance_peak     flux_peak  \\\n",
              "0               7.324          41.696239     1000000.000000  1.000000e+06   \n",
              "1               0.000          62.983513     1000000.000000  1.000000e+06   \n",
              "2               0.213         377.103882          16.296301  2.664750e-07   \n",
              "3               5.404         144.790558           7.860495  1.053960e-07   \n",
              "4               6.454          85.652306           7.363566  4.243460e-08   \n",
              "\n",
              "   flux_peak_error       time_peak  time_peak_interval  source_type  \\\n",
              "0     1.000000e+06  1000000.000000           1000000.0          1.0   \n",
              "1     1.000000e+06  1000000.000000           1000000.0          0.0   \n",
              "2     2.336680e-08    55212.718750           2630000.0          0.0   \n",
              "3     1.943020e-08    54695.242188           2630000.0          0.0   \n",
              "4     1.054210e-08    55030.082031           2630000.0          1.0   \n",
              "\n",
              "   analysis_flags      HR12      HR23      HR34  hard_slope  soft_slope  \\\n",
              "0             0.0 -0.671900 -0.570675 -0.396188   -0.174486   -0.101225   \n",
              "1             0.0 -0.703688 -0.689033 -0.847828    0.158795   -0.014655   \n",
              "2             0.0 -0.560615 -0.679890 -0.770113    0.090223    0.119275   \n",
              "3             0.0 -0.381099 -0.667551 -0.746714    0.079162    0.286452   \n",
              "4             0.0 -0.658771 -0.658890 -0.518359   -0.140531    0.000119   \n",
              "\n",
              "     P_E_lg        TS_      sig_  gamm_log    Ts_log   sig_log  F100_log  \n",
              "0  3.346883   3.103792  0.038038  0.303921  0.491893 -1.419783 -9.042193  \n",
              "1  2.597399  10.093845  0.103689  0.450345  1.004057 -0.984266 -9.557086  \n",
              "2  2.879251  16.343189  0.223498  0.385538  1.213337 -0.650727 -8.702073  \n",
              "3  2.975932  12.376029  0.069150  0.360968  1.092581 -1.160210 -9.090947  \n",
              "4  3.339952   8.042276  0.029107  0.317110  0.905379 -1.535998 -9.185108  "
            ]
          },
          "metadata": {
            "tags": []
          },
          "execution_count": 8
        }
      ]
    },
    {
      "cell_type": "markdown",
      "metadata": {
        "id": "If0PmKUZbOWh",
        "colab_type": "text"
      },
      "source": [
        "# Caracteristicas\n",
        "\n",
        "1.  Listamos las features\n",
        "2.  Creamos un array que las contiene desde el cual iremos restando en principio las que aportan 0% al modelo\n",
        "\n"
      ]
    },
    {
      "cell_type": "code",
      "metadata": {
        "id": "JTDfNq9IbyzP",
        "colab_type": "code",
        "outputId": "373a24df-b859-4431-f7da-1f4d3ab86891",
        "colab": {
          "base_uri": "https://localhost:8080/",
          "height": 293
        }
      },
      "source": [
        "df.columns"
      ],
      "execution_count": 0,
      "outputs": [
        {
          "output_type": "execute_result",
          "data": {
            "text/plain": [
              "Index(['ra', 'dec', 'flux_1_100_gev', 'spectral_index', 'spectral_index_error',\n",
              "       'detection_significance', 'lii', 'bii', 'pivot_energy', 'flux_density',\n",
              "       'flux_density_error', 'energy_flux', 'energy_flux_error',\n",
              "       'curve_significance', 'spectrum_type', 'powerlaw_index',\n",
              "       'flux_100_300_mev', 'flux_100_300_mev_pos_err',\n",
              "       'flux_100_300_mev_neg_err', 'nufnu_100_300_mev', 'sqrt_ts_100_300_mev',\n",
              "       'flux_0p3_1_gev', 'flux_0p3_1_gev_pos_err', 'flux_0p3_1_gev_neg_err',\n",
              "       'nufnu_0p3_1_gev', 'sqrt_ts_0p3_1_gev', 'flux_1_3_gev',\n",
              "       'flux_1_3_gev_pos_err', 'flux_1_3_gev_neg_err', 'nufnu_1_3_gev',\n",
              "       'sqrt_ts_1_3_gev', 'flux_3_10_gev', 'nufnu_3_10_gev',\n",
              "       'sqrt_ts_3_10_gev', 'flux_10_100_gev', 'nufnu_10_100_gev',\n",
              "       'sqrt_ts_10_100_gev', 'variability_index', 'significance_peak',\n",
              "       'flux_peak', 'flux_peak_error', 'time_peak', 'time_peak_interval',\n",
              "       'source_type', 'analysis_flags', 'HR12', 'HR23', 'HR34', 'hard_slope',\n",
              "       'soft_slope', 'P_E_lg', 'TS_', 'sig_', 'gamm_log', 'Ts_log', 'sig_log',\n",
              "       'F100_log'],\n",
              "      dtype='object')"
            ]
          },
          "metadata": {
            "tags": []
          },
          "execution_count": 9
        }
      ]
    },
    {
      "cell_type": "code",
      "metadata": {
        "id": "XxMNg5eNCGsS",
        "colab_type": "code",
        "colab": {}
      },
      "source": [
        "features_=['ra', 'dec', 'flux_1_100_gev', 'spectral_index', 'spectral_index_error',\n",
        "       'detection_significance', 'lii', 'bii', 'pivot_energy', 'flux_density',\n",
        "       'flux_density_error', 'energy_flux', 'energy_flux_error',\n",
        "       'curve_significance', 'spectrum_type', 'powerlaw_index',\n",
        "       'flux_100_300_mev', 'flux_100_300_mev_pos_err',\n",
        "       'flux_100_300_mev_neg_err', 'nufnu_100_300_mev', 'sqrt_ts_100_300_mev',\n",
        "       'flux_0p3_1_gev', 'flux_0p3_1_gev_pos_err', 'flux_0p3_1_gev_neg_err',\n",
        "       'nufnu_0p3_1_gev', 'sqrt_ts_0p3_1_gev', 'flux_1_3_gev',\n",
        "       'flux_1_3_gev_pos_err', 'flux_1_3_gev_neg_err', 'nufnu_1_3_gev',\n",
        "       'sqrt_ts_1_3_gev', 'flux_3_10_gev', 'nufnu_3_10_gev',\n",
        "       'sqrt_ts_3_10_gev', 'flux_10_100_gev', 'nufnu_10_100_gev',\n",
        "       'sqrt_ts_10_100_gev', 'variability_index', 'significance_peak',\n",
        "       'flux_peak', 'flux_peak_error', 'time_peak', 'time_peak_interval',\n",
        "       'source_type', 'analysis_flags', 'HR12', 'HR23', 'HR34', 'hard_slope',\n",
        "       'soft_slope', 'P_E_lg', 'TS_', 'sig_', 'gamm_log', 'Ts_log', 'sig_log',\n",
        "       'F100_log']"
      ],
      "execution_count": 0,
      "outputs": []
    },
    {
      "cell_type": "markdown",
      "metadata": {
        "id": "JnOPSNz3GfX5",
        "colab_type": "text"
      },
      "source": [
        "# Creamos un dataframe con las nuevas características reducidas :\n",
        "\n",
        "1.   df dataframe con todas las caracteristicas\n",
        "2.   df_bl dataframe con caracteristicas reducidas\n",
        "\n"
      ]
    },
    {
      "cell_type": "code",
      "metadata": {
        "id": "Liv2kdWQ8l6r",
        "colab_type": "code",
        "outputId": "81fa9ed5-a469-4b24-d48c-c4c14fe9dc09",
        "colab": {
          "base_uri": "https://localhost:8080/",
          "height": 82
        }
      },
      "source": [
        "#sns.pairplot(X)\n",
        "#y.reset_index(drop=True , inplace = True)\n",
        "#y.drop(['Unnamed: 0'], axis=1)\n",
        "#y.drop(['Unnamed: 0'], axis=1, inplace=True)\n",
        "#y_ = y['source_type']\n",
        "#type(y_)\n",
        "#y_\n",
        "df_bl=df[features_]\n",
        "df['source_type'].apply(pd.Series).stack().value_counts()"
      ],
      "execution_count": 0,
      "outputs": [
        {
          "output_type": "execute_result",
          "data": {
            "text/plain": [
              "1.0    626\n",
              "2.0    563\n",
              "0.0    401\n",
              "dtype: int64"
            ]
          },
          "metadata": {
            "tags": []
          },
          "execution_count": 11
        }
      ]
    },
    {
      "cell_type": "code",
      "metadata": {
        "id": "WVpA_2mkdq47",
        "colab_type": "code",
        "outputId": "5cc7a7c7-93ce-4ff2-93ec-7aa885d16a01",
        "colab": {
          "base_uri": "https://localhost:8080/",
          "height": 186
        }
      },
      "source": [
        "df_bl.head(3)"
      ],
      "execution_count": 0,
      "outputs": [
        {
          "output_type": "execute_result",
          "data": {
            "text/html": [
              "<div>\n",
              "<style scoped>\n",
              "    .dataframe tbody tr th:only-of-type {\n",
              "        vertical-align: middle;\n",
              "    }\n",
              "\n",
              "    .dataframe tbody tr th {\n",
              "        vertical-align: top;\n",
              "    }\n",
              "\n",
              "    .dataframe thead th {\n",
              "        text-align: right;\n",
              "    }\n",
              "</style>\n",
              "<table border=\"1\" class=\"dataframe\">\n",
              "  <thead>\n",
              "    <tr style=\"text-align: right;\">\n",
              "      <th></th>\n",
              "      <th>ra</th>\n",
              "      <th>dec</th>\n",
              "      <th>flux_1_100_gev</th>\n",
              "      <th>spectral_index</th>\n",
              "      <th>spectral_index_error</th>\n",
              "      <th>detection_significance</th>\n",
              "      <th>lii</th>\n",
              "      <th>bii</th>\n",
              "      <th>pivot_energy</th>\n",
              "      <th>flux_density</th>\n",
              "      <th>flux_density_error</th>\n",
              "      <th>energy_flux</th>\n",
              "      <th>energy_flux_error</th>\n",
              "      <th>curve_significance</th>\n",
              "      <th>spectrum_type</th>\n",
              "      <th>powerlaw_index</th>\n",
              "      <th>flux_100_300_mev</th>\n",
              "      <th>flux_100_300_mev_pos_err</th>\n",
              "      <th>flux_100_300_mev_neg_err</th>\n",
              "      <th>nufnu_100_300_mev</th>\n",
              "      <th>sqrt_ts_100_300_mev</th>\n",
              "      <th>flux_0p3_1_gev</th>\n",
              "      <th>flux_0p3_1_gev_pos_err</th>\n",
              "      <th>flux_0p3_1_gev_neg_err</th>\n",
              "      <th>nufnu_0p3_1_gev</th>\n",
              "      <th>sqrt_ts_0p3_1_gev</th>\n",
              "      <th>flux_1_3_gev</th>\n",
              "      <th>flux_1_3_gev_pos_err</th>\n",
              "      <th>flux_1_3_gev_neg_err</th>\n",
              "      <th>nufnu_1_3_gev</th>\n",
              "      <th>sqrt_ts_1_3_gev</th>\n",
              "      <th>flux_3_10_gev</th>\n",
              "      <th>nufnu_3_10_gev</th>\n",
              "      <th>sqrt_ts_3_10_gev</th>\n",
              "      <th>flux_10_100_gev</th>\n",
              "      <th>nufnu_10_100_gev</th>\n",
              "      <th>sqrt_ts_10_100_gev</th>\n",
              "      <th>variability_index</th>\n",
              "      <th>significance_peak</th>\n",
              "      <th>flux_peak</th>\n",
              "      <th>flux_peak_error</th>\n",
              "      <th>time_peak</th>\n",
              "      <th>time_peak_interval</th>\n",
              "      <th>source_type</th>\n",
              "      <th>analysis_flags</th>\n",
              "      <th>HR12</th>\n",
              "      <th>HR23</th>\n",
              "      <th>HR34</th>\n",
              "      <th>hard_slope</th>\n",
              "      <th>soft_slope</th>\n",
              "      <th>P_E_lg</th>\n",
              "      <th>TS_</th>\n",
              "      <th>sig_</th>\n",
              "      <th>gamm_log</th>\n",
              "      <th>Ts_log</th>\n",
              "      <th>sig_log</th>\n",
              "      <th>F100_log</th>\n",
              "    </tr>\n",
              "  </thead>\n",
              "  <tbody>\n",
              "    <tr>\n",
              "      <th>0</th>\n",
              "      <td>156.604996</td>\n",
              "      <td>-85.715202</td>\n",
              "      <td>9.074170e-10</td>\n",
              "      <td>2.01336</td>\n",
              "      <td>0.08438</td>\n",
              "      <td>13.433965</td>\n",
              "      <td>300.167297</td>\n",
              "      <td>-23.646200</td>\n",
              "      <td>2222.709961</td>\n",
              "      <td>1.858600e-13</td>\n",
              "      <td>2.060600e-14</td>\n",
              "      <td>1.011740e-11</td>\n",
              "      <td>1.150420e-12</td>\n",
              "      <td>0.511</td>\n",
              "      <td>1.0</td>\n",
              "      <td>2.0134</td>\n",
              "      <td>1.008810e-08</td>\n",
              "      <td>3.018620e-09</td>\n",
              "      <td>-2.949990e-09</td>\n",
              "      <td>2.420950e-12</td>\n",
              "      <td>3.427</td>\n",
              "      <td>1.979730e-09</td>\n",
              "      <td>5.195480e-10</td>\n",
              "      <td>-5.032010e-10</td>\n",
              "      <td>1.357070e-12</td>\n",
              "      <td>4.173</td>\n",
              "      <td>5.411360e-10</td>\n",
              "      <td>1.170220e-10</td>\n",
              "      <td>-1.090790e-10</td>\n",
              "      <td>1.298620e-12</td>\n",
              "      <td>6.251</td>\n",
              "      <td>2.340260e-10</td>\n",
              "      <td>1.604210e-12</td>\n",
              "      <td>8.382</td>\n",
              "      <td>8.555690e-11</td>\n",
              "      <td>1.514590e-12</td>\n",
              "      <td>7.324</td>\n",
              "      <td>41.696239</td>\n",
              "      <td>1000000.000000</td>\n",
              "      <td>1.000000e+06</td>\n",
              "      <td>1.000000e+06</td>\n",
              "      <td>1000000.00000</td>\n",
              "      <td>1000000.0</td>\n",
              "      <td>1.0</td>\n",
              "      <td>0.0</td>\n",
              "      <td>-0.671900</td>\n",
              "      <td>-0.570675</td>\n",
              "      <td>-0.396188</td>\n",
              "      <td>-0.174486</td>\n",
              "      <td>-0.101225</td>\n",
              "      <td>3.346883</td>\n",
              "      <td>3.103792</td>\n",
              "      <td>0.038038</td>\n",
              "      <td>0.303921</td>\n",
              "      <td>0.491893</td>\n",
              "      <td>-1.419783</td>\n",
              "      <td>-9.042193</td>\n",
              "    </tr>\n",
              "    <tr>\n",
              "      <th>1</th>\n",
              "      <td>11.687500</td>\n",
              "      <td>-84.320000</td>\n",
              "      <td>2.772770e-10</td>\n",
              "      <td>2.82062</td>\n",
              "      <td>0.13341</td>\n",
              "      <td>6.239794</td>\n",
              "      <td>303.069885</td>\n",
              "      <td>-32.806999</td>\n",
              "      <td>395.730011</td>\n",
              "      <td>6.895600e-12</td>\n",
              "      <td>1.036500e-12</td>\n",
              "      <td>6.497270e-12</td>\n",
              "      <td>9.888820e-13</td>\n",
              "      <td>0.647</td>\n",
              "      <td>1.0</td>\n",
              "      <td>2.8206</td>\n",
              "      <td>1.121860e-08</td>\n",
              "      <td>4.038050e-09</td>\n",
              "      <td>-3.890830e-09</td>\n",
              "      <td>2.493400e-12</td>\n",
              "      <td>2.877</td>\n",
              "      <td>1.951180e-09</td>\n",
              "      <td>5.772040e-10</td>\n",
              "      <td>-5.338970e-10</td>\n",
              "      <td>1.220970e-12</td>\n",
              "      <td>3.740</td>\n",
              "      <td>3.592310e-10</td>\n",
              "      <td>1.122630e-10</td>\n",
              "      <td>-1.019240e-10</td>\n",
              "      <td>7.984120e-13</td>\n",
              "      <td>4.067</td>\n",
              "      <td>2.958340e-11</td>\n",
              "      <td>1.851210e-13</td>\n",
              "      <td>1.964</td>\n",
              "      <td>8.163080e-16</td>\n",
              "      <td>1.085870e-17</td>\n",
              "      <td>0.000</td>\n",
              "      <td>62.983513</td>\n",
              "      <td>1000000.000000</td>\n",
              "      <td>1.000000e+06</td>\n",
              "      <td>1.000000e+06</td>\n",
              "      <td>1000000.00000</td>\n",
              "      <td>1000000.0</td>\n",
              "      <td>0.0</td>\n",
              "      <td>0.0</td>\n",
              "      <td>-0.703688</td>\n",
              "      <td>-0.689033</td>\n",
              "      <td>-0.847828</td>\n",
              "      <td>0.158795</td>\n",
              "      <td>-0.014655</td>\n",
              "      <td>2.597399</td>\n",
              "      <td>10.093845</td>\n",
              "      <td>0.103689</td>\n",
              "      <td>0.450345</td>\n",
              "      <td>1.004057</td>\n",
              "      <td>-0.984266</td>\n",
              "      <td>-9.557086</td>\n",
              "    </tr>\n",
              "    <tr>\n",
              "      <th>2</th>\n",
              "      <td>330.610107</td>\n",
              "      <td>-83.655998</td>\n",
              "      <td>1.985760e-09</td>\n",
              "      <td>2.42962</td>\n",
              "      <td>0.06724</td>\n",
              "      <td>23.074068</td>\n",
              "      <td>307.943298</td>\n",
              "      <td>-31.734699</td>\n",
              "      <td>757.270020</td>\n",
              "      <td>6.903600e-12</td>\n",
              "      <td>4.258600e-13</td>\n",
              "      <td>2.310780e-11</td>\n",
              "      <td>1.767710e-12</td>\n",
              "      <td>5.157</td>\n",
              "      <td>2.0</td>\n",
              "      <td>2.4700</td>\n",
              "      <td>3.435640e-08</td>\n",
              "      <td>6.642110e-09</td>\n",
              "      <td>-6.582910e-09</td>\n",
              "      <td>8.378720e-12</td>\n",
              "      <td>5.745</td>\n",
              "      <td>9.672910e-09</td>\n",
              "      <td>8.147200e-10</td>\n",
              "      <td>-8.147200e-10</td>\n",
              "      <td>6.411070e-12</td>\n",
              "      <td>13.874</td>\n",
              "      <td>1.843210e-09</td>\n",
              "      <td>1.753410e-10</td>\n",
              "      <td>-1.753410e-10</td>\n",
              "      <td>4.121440e-12</td>\n",
              "      <td>15.423</td>\n",
              "      <td>2.393800e-10</td>\n",
              "      <td>1.439750e-12</td>\n",
              "      <td>8.077</td>\n",
              "      <td>2.484270e-12</td>\n",
              "      <td>2.610000e-14</td>\n",
              "      <td>0.213</td>\n",
              "      <td>377.103882</td>\n",
              "      <td>16.296301</td>\n",
              "      <td>2.664750e-07</td>\n",
              "      <td>2.336680e-08</td>\n",
              "      <td>55212.71875</td>\n",
              "      <td>2630000.0</td>\n",
              "      <td>0.0</td>\n",
              "      <td>0.0</td>\n",
              "      <td>-0.560615</td>\n",
              "      <td>-0.679890</td>\n",
              "      <td>-0.770113</td>\n",
              "      <td>0.090223</td>\n",
              "      <td>0.119275</td>\n",
              "      <td>2.879251</td>\n",
              "      <td>16.343189</td>\n",
              "      <td>0.223498</td>\n",
              "      <td>0.385538</td>\n",
              "      <td>1.213337</td>\n",
              "      <td>-0.650727</td>\n",
              "      <td>-8.702073</td>\n",
              "    </tr>\n",
              "  </tbody>\n",
              "</table>\n",
              "</div>"
            ],
            "text/plain": [
              "           ra        dec  flux_1_100_gev  spectral_index  \\\n",
              "0  156.604996 -85.715202    9.074170e-10         2.01336   \n",
              "1   11.687500 -84.320000    2.772770e-10         2.82062   \n",
              "2  330.610107 -83.655998    1.985760e-09         2.42962   \n",
              "\n",
              "   spectral_index_error  detection_significance         lii        bii  \\\n",
              "0               0.08438               13.433965  300.167297 -23.646200   \n",
              "1               0.13341                6.239794  303.069885 -32.806999   \n",
              "2               0.06724               23.074068  307.943298 -31.734699   \n",
              "\n",
              "   pivot_energy  flux_density  flux_density_error   energy_flux  \\\n",
              "0   2222.709961  1.858600e-13        2.060600e-14  1.011740e-11   \n",
              "1    395.730011  6.895600e-12        1.036500e-12  6.497270e-12   \n",
              "2    757.270020  6.903600e-12        4.258600e-13  2.310780e-11   \n",
              "\n",
              "   energy_flux_error  curve_significance  spectrum_type  powerlaw_index  \\\n",
              "0       1.150420e-12               0.511            1.0          2.0134   \n",
              "1       9.888820e-13               0.647            1.0          2.8206   \n",
              "2       1.767710e-12               5.157            2.0          2.4700   \n",
              "\n",
              "   flux_100_300_mev  flux_100_300_mev_pos_err  flux_100_300_mev_neg_err  \\\n",
              "0      1.008810e-08              3.018620e-09             -2.949990e-09   \n",
              "1      1.121860e-08              4.038050e-09             -3.890830e-09   \n",
              "2      3.435640e-08              6.642110e-09             -6.582910e-09   \n",
              "\n",
              "   nufnu_100_300_mev  sqrt_ts_100_300_mev  flux_0p3_1_gev  \\\n",
              "0       2.420950e-12                3.427    1.979730e-09   \n",
              "1       2.493400e-12                2.877    1.951180e-09   \n",
              "2       8.378720e-12                5.745    9.672910e-09   \n",
              "\n",
              "   flux_0p3_1_gev_pos_err  flux_0p3_1_gev_neg_err  nufnu_0p3_1_gev  \\\n",
              "0            5.195480e-10           -5.032010e-10     1.357070e-12   \n",
              "1            5.772040e-10           -5.338970e-10     1.220970e-12   \n",
              "2            8.147200e-10           -8.147200e-10     6.411070e-12   \n",
              "\n",
              "   sqrt_ts_0p3_1_gev  flux_1_3_gev  flux_1_3_gev_pos_err  \\\n",
              "0              4.173  5.411360e-10          1.170220e-10   \n",
              "1              3.740  3.592310e-10          1.122630e-10   \n",
              "2             13.874  1.843210e-09          1.753410e-10   \n",
              "\n",
              "   flux_1_3_gev_neg_err  nufnu_1_3_gev  sqrt_ts_1_3_gev  flux_3_10_gev  \\\n",
              "0         -1.090790e-10   1.298620e-12            6.251   2.340260e-10   \n",
              "1         -1.019240e-10   7.984120e-13            4.067   2.958340e-11   \n",
              "2         -1.753410e-10   4.121440e-12           15.423   2.393800e-10   \n",
              "\n",
              "   nufnu_3_10_gev  sqrt_ts_3_10_gev  flux_10_100_gev  nufnu_10_100_gev  \\\n",
              "0    1.604210e-12             8.382     8.555690e-11      1.514590e-12   \n",
              "1    1.851210e-13             1.964     8.163080e-16      1.085870e-17   \n",
              "2    1.439750e-12             8.077     2.484270e-12      2.610000e-14   \n",
              "\n",
              "   sqrt_ts_10_100_gev  variability_index  significance_peak     flux_peak  \\\n",
              "0               7.324          41.696239     1000000.000000  1.000000e+06   \n",
              "1               0.000          62.983513     1000000.000000  1.000000e+06   \n",
              "2               0.213         377.103882          16.296301  2.664750e-07   \n",
              "\n",
              "   flux_peak_error      time_peak  time_peak_interval  source_type  \\\n",
              "0     1.000000e+06  1000000.00000           1000000.0          1.0   \n",
              "1     1.000000e+06  1000000.00000           1000000.0          0.0   \n",
              "2     2.336680e-08    55212.71875           2630000.0          0.0   \n",
              "\n",
              "   analysis_flags      HR12      HR23      HR34  hard_slope  soft_slope  \\\n",
              "0             0.0 -0.671900 -0.570675 -0.396188   -0.174486   -0.101225   \n",
              "1             0.0 -0.703688 -0.689033 -0.847828    0.158795   -0.014655   \n",
              "2             0.0 -0.560615 -0.679890 -0.770113    0.090223    0.119275   \n",
              "\n",
              "     P_E_lg        TS_      sig_  gamm_log    Ts_log   sig_log  F100_log  \n",
              "0  3.346883   3.103792  0.038038  0.303921  0.491893 -1.419783 -9.042193  \n",
              "1  2.597399  10.093845  0.103689  0.450345  1.004057 -0.984266 -9.557086  \n",
              "2  2.879251  16.343189  0.223498  0.385538  1.213337 -0.650727 -8.702073  "
            ]
          },
          "metadata": {
            "tags": []
          },
          "execution_count": 12
        }
      ]
    },
    {
      "cell_type": "code",
      "metadata": {
        "id": "Zb9TJYop8l6w",
        "colab_type": "code",
        "outputId": "8286a7b3-1d1e-4aa1-dde5-a827cb96ace4",
        "colab": {
          "base_uri": "https://localhost:8080/",
          "height": 50
        }
      },
      "source": [
        "clase='source_type'\n",
        "df_bl = df_bl.loc[ (df[clase]== 1)  | (df[clase]== 0)]\n",
        "df_UNK = df.loc[ (df[clase]== 2)   ]\n",
        "df_UNK['source_type'].apply(pd.Series).stack().value_counts()\n",
        "#y_.shape\n",
        "#y.info()"
      ],
      "execution_count": 0,
      "outputs": [
        {
          "output_type": "execute_result",
          "data": {
            "text/plain": [
              "2.0    563\n",
              "dtype: int64"
            ]
          },
          "metadata": {
            "tags": []
          },
          "execution_count": 13
        }
      ]
    },
    {
      "cell_type": "markdown",
      "metadata": {
        "id": "64R0J4GbeCRU",
        "colab_type": "text"
      },
      "source": [
        "# OJO df_UNK todavia no se han reducido las características. Cuando se aplique la predicción habra que modificarlo como se hizo con el dataframe df"
      ]
    },
    {
      "cell_type": "code",
      "metadata": {
        "id": "gupcCg3B8l6z",
        "colab_type": "code",
        "outputId": "d38229f8-e8da-49de-9593-d9b3c84c3d7e",
        "colab": {
          "base_uri": "https://localhost:8080/",
          "height": 292
        }
      },
      "source": [
        "df_UNK.head(5)"
      ],
      "execution_count": 0,
      "outputs": [
        {
          "output_type": "execute_result",
          "data": {
            "text/html": [
              "<div>\n",
              "<style scoped>\n",
              "    .dataframe tbody tr th:only-of-type {\n",
              "        vertical-align: middle;\n",
              "    }\n",
              "\n",
              "    .dataframe tbody tr th {\n",
              "        vertical-align: top;\n",
              "    }\n",
              "\n",
              "    .dataframe thead th {\n",
              "        text-align: right;\n",
              "    }\n",
              "</style>\n",
              "<table border=\"1\" class=\"dataframe\">\n",
              "  <thead>\n",
              "    <tr style=\"text-align: right;\">\n",
              "      <th></th>\n",
              "      <th>ra</th>\n",
              "      <th>dec</th>\n",
              "      <th>flux_1_100_gev</th>\n",
              "      <th>spectral_index</th>\n",
              "      <th>spectral_index_error</th>\n",
              "      <th>detection_significance</th>\n",
              "      <th>lii</th>\n",
              "      <th>bii</th>\n",
              "      <th>pivot_energy</th>\n",
              "      <th>flux_density</th>\n",
              "      <th>flux_density_error</th>\n",
              "      <th>energy_flux</th>\n",
              "      <th>energy_flux_error</th>\n",
              "      <th>curve_significance</th>\n",
              "      <th>spectrum_type</th>\n",
              "      <th>powerlaw_index</th>\n",
              "      <th>flux_100_300_mev</th>\n",
              "      <th>flux_100_300_mev_pos_err</th>\n",
              "      <th>flux_100_300_mev_neg_err</th>\n",
              "      <th>nufnu_100_300_mev</th>\n",
              "      <th>sqrt_ts_100_300_mev</th>\n",
              "      <th>flux_0p3_1_gev</th>\n",
              "      <th>flux_0p3_1_gev_pos_err</th>\n",
              "      <th>flux_0p3_1_gev_neg_err</th>\n",
              "      <th>nufnu_0p3_1_gev</th>\n",
              "      <th>sqrt_ts_0p3_1_gev</th>\n",
              "      <th>flux_1_3_gev</th>\n",
              "      <th>flux_1_3_gev_pos_err</th>\n",
              "      <th>flux_1_3_gev_neg_err</th>\n",
              "      <th>nufnu_1_3_gev</th>\n",
              "      <th>sqrt_ts_1_3_gev</th>\n",
              "      <th>flux_3_10_gev</th>\n",
              "      <th>nufnu_3_10_gev</th>\n",
              "      <th>sqrt_ts_3_10_gev</th>\n",
              "      <th>flux_10_100_gev</th>\n",
              "      <th>nufnu_10_100_gev</th>\n",
              "      <th>sqrt_ts_10_100_gev</th>\n",
              "      <th>variability_index</th>\n",
              "      <th>significance_peak</th>\n",
              "      <th>flux_peak</th>\n",
              "      <th>flux_peak_error</th>\n",
              "      <th>time_peak</th>\n",
              "      <th>time_peak_interval</th>\n",
              "      <th>source_type</th>\n",
              "      <th>analysis_flags</th>\n",
              "      <th>HR12</th>\n",
              "      <th>HR23</th>\n",
              "      <th>HR34</th>\n",
              "      <th>hard_slope</th>\n",
              "      <th>soft_slope</th>\n",
              "      <th>P_E_lg</th>\n",
              "      <th>TS_</th>\n",
              "      <th>sig_</th>\n",
              "      <th>gamm_log</th>\n",
              "      <th>Ts_log</th>\n",
              "      <th>sig_log</th>\n",
              "      <th>F100_log</th>\n",
              "    </tr>\n",
              "  </thead>\n",
              "  <tbody>\n",
              "    <tr>\n",
              "      <th>1027</th>\n",
              "      <td>85.560303</td>\n",
              "      <td>-87.618500</td>\n",
              "      <td>4.170300e-10</td>\n",
              "      <td>2.03895</td>\n",
              "      <td>0.14339</td>\n",
              "      <td>6.431914</td>\n",
              "      <td>300.360992</td>\n",
              "      <td>-27.813000</td>\n",
              "      <td>2499.959961</td>\n",
              "      <td>6.744600e-14</td>\n",
              "      <td>1.332100e-14</td>\n",
              "      <td>4.636140e-12</td>\n",
              "      <td>9.172090e-13</td>\n",
              "      <td>0.308</td>\n",
              "      <td>1.0</td>\n",
              "      <td>2.0389</td>\n",
              "      <td>5.856320e-09</td>\n",
              "      <td>2.706810e-09</td>\n",
              "      <td>-2.661290e-09</td>\n",
              "      <td>1.401870e-12</td>\n",
              "      <td>2.210</td>\n",
              "      <td>3.402460e-10</td>\n",
              "      <td>4.098260e-10</td>\n",
              "      <td>1.000000e+06</td>\n",
              "      <td>2.325300e-13</td>\n",
              "      <td>0.782</td>\n",
              "      <td>2.440210e-10</td>\n",
              "      <td>1.023570e-10</td>\n",
              "      <td>-9.301360e-11</td>\n",
              "      <td>5.841320e-13</td>\n",
              "      <td>2.924</td>\n",
              "      <td>1.601190e-10</td>\n",
              "      <td>1.094290e-12</td>\n",
              "      <td>5.529</td>\n",
              "      <td>2.434160e-11</td>\n",
              "      <td>4.264750e-13</td>\n",
              "      <td>3.656</td>\n",
              "      <td>50.015041</td>\n",
              "      <td>1000000.0</td>\n",
              "      <td>1000000.0</td>\n",
              "      <td>1000000.0</td>\n",
              "      <td>1000000.0</td>\n",
              "      <td>1000000.0</td>\n",
              "      <td>2.0</td>\n",
              "      <td>256.0</td>\n",
              "      <td>-0.890182</td>\n",
              "      <td>-0.164694</td>\n",
              "      <td>-0.207606</td>\n",
              "      <td>0.042913</td>\n",
              "      <td>-0.725489</td>\n",
              "      <td>3.397933</td>\n",
              "      <td>7.776074</td>\n",
              "      <td>0.047886</td>\n",
              "      <td>0.309407</td>\n",
              "      <td>0.890760</td>\n",
              "      <td>-1.319790</td>\n",
              "      <td>-9.379832</td>\n",
              "    </tr>\n",
              "    <tr>\n",
              "      <th>1028</th>\n",
              "      <td>317.163086</td>\n",
              "      <td>-86.317596</td>\n",
              "      <td>1.974810e-10</td>\n",
              "      <td>1.74000</td>\n",
              "      <td>0.26993</td>\n",
              "      <td>4.728537</td>\n",
              "      <td>306.415100</td>\n",
              "      <td>-29.160400</td>\n",
              "      <td>8678.959961</td>\n",
              "      <td>3.518900e-15</td>\n",
              "      <td>1.118300e-15</td>\n",
              "      <td>2.571730e-12</td>\n",
              "      <td>8.174750e-13</td>\n",
              "      <td>0.417</td>\n",
              "      <td>1.0</td>\n",
              "      <td>1.7400</td>\n",
              "      <td>1.034170e-09</td>\n",
              "      <td>2.552510e-09</td>\n",
              "      <td>1.000000e+06</td>\n",
              "      <td>2.550060e-13</td>\n",
              "      <td>0.438</td>\n",
              "      <td>4.628000e-10</td>\n",
              "      <td>4.352200e-10</td>\n",
              "      <td>-4.140330e-10</td>\n",
              "      <td>3.277170e-13</td>\n",
              "      <td>1.067</td>\n",
              "      <td>6.058490e-11</td>\n",
              "      <td>8.389500e-11</td>\n",
              "      <td>1.000000e+06</td>\n",
              "      <td>1.493900e-13</td>\n",
              "      <td>0.841</td>\n",
              "      <td>2.303760e-12</td>\n",
              "      <td>1.631330e-14</td>\n",
              "      <td>0.138</td>\n",
              "      <td>5.805490e-11</td>\n",
              "      <td>1.151920e-12</td>\n",
              "      <td>5.852</td>\n",
              "      <td>35.195969</td>\n",
              "      <td>1000000.0</td>\n",
              "      <td>1000000.0</td>\n",
              "      <td>1000000.0</td>\n",
              "      <td>1000000.0</td>\n",
              "      <td>1000000.0</td>\n",
              "      <td>2.0</td>\n",
              "      <td>4.0</td>\n",
              "      <td>-0.381684</td>\n",
              "      <td>-0.768488</td>\n",
              "      <td>-0.926735</td>\n",
              "      <td>0.158247</td>\n",
              "      <td>0.386804</td>\n",
              "      <td>3.938468</td>\n",
              "      <td>7.443311</td>\n",
              "      <td>0.088188</td>\n",
              "      <td>0.240549</td>\n",
              "      <td>0.871766</td>\n",
              "      <td>-1.054591</td>\n",
              "      <td>-9.704474</td>\n",
              "    </tr>\n",
              "    <tr>\n",
              "      <th>1029</th>\n",
              "      <td>186.165298</td>\n",
              "      <td>-83.209297</td>\n",
              "      <td>4.487580e-10</td>\n",
              "      <td>2.69452</td>\n",
              "      <td>0.10959</td>\n",
              "      <td>7.470914</td>\n",
              "      <td>302.089386</td>\n",
              "      <td>-20.381399</td>\n",
              "      <td>488.019989</td>\n",
              "      <td>5.254500e-12</td>\n",
              "      <td>6.981400e-13</td>\n",
              "      <td>8.609830e-12</td>\n",
              "      <td>1.159620e-12</td>\n",
              "      <td>1.103</td>\n",
              "      <td>1.0</td>\n",
              "      <td>2.6945</td>\n",
              "      <td>1.585340e-08</td>\n",
              "      <td>4.358800e-09</td>\n",
              "      <td>-4.375290e-09</td>\n",
              "      <td>3.564340e-12</td>\n",
              "      <td>3.692</td>\n",
              "      <td>3.458890e-09</td>\n",
              "      <td>6.843420e-10</td>\n",
              "      <td>-6.694150e-10</td>\n",
              "      <td>2.194040e-12</td>\n",
              "      <td>5.447</td>\n",
              "      <td>3.306700e-10</td>\n",
              "      <td>1.205140e-10</td>\n",
              "      <td>-1.117190e-10</td>\n",
              "      <td>7.434510e-13</td>\n",
              "      <td>3.296</td>\n",
              "      <td>7.640900e-11</td>\n",
              "      <td>4.846760e-13</td>\n",
              "      <td>3.325</td>\n",
              "      <td>3.678400e-12</td>\n",
              "      <td>5.084610e-14</td>\n",
              "      <td>0.469</td>\n",
              "      <td>56.541351</td>\n",
              "      <td>1000000.0</td>\n",
              "      <td>1000000.0</td>\n",
              "      <td>1000000.0</td>\n",
              "      <td>1000000.0</td>\n",
              "      <td>1000000.0</td>\n",
              "      <td>2.0</td>\n",
              "      <td>0.0</td>\n",
              "      <td>-0.641794</td>\n",
              "      <td>-0.825484</td>\n",
              "      <td>-0.624599</td>\n",
              "      <td>-0.200885</td>\n",
              "      <td>0.183690</td>\n",
              "      <td>2.688438</td>\n",
              "      <td>7.568197</td>\n",
              "      <td>0.147639</td>\n",
              "      <td>0.430481</td>\n",
              "      <td>0.878992</td>\n",
              "      <td>-0.830798</td>\n",
              "      <td>-9.347988</td>\n",
              "    </tr>\n",
              "    <tr>\n",
              "      <th>1030</th>\n",
              "      <td>344.541290</td>\n",
              "      <td>-82.805603</td>\n",
              "      <td>7.053620e-10</td>\n",
              "      <td>2.19382</td>\n",
              "      <td>0.11050</td>\n",
              "      <td>8.783147</td>\n",
              "      <td>307.012695</td>\n",
              "      <td>-33.402302</td>\n",
              "      <td>1878.079956</td>\n",
              "      <td>2.121000e-13</td>\n",
              "      <td>3.074500e-14</td>\n",
              "      <td>8.055360e-12</td>\n",
              "      <td>1.185090e-12</td>\n",
              "      <td>1.339</td>\n",
              "      <td>1.0</td>\n",
              "      <td>2.1938</td>\n",
              "      <td>2.145630e-09</td>\n",
              "      <td>5.739860e-09</td>\n",
              "      <td>1.000000e+06</td>\n",
              "      <td>5.058890e-13</td>\n",
              "      <td>0.329</td>\n",
              "      <td>1.988640e-09</td>\n",
              "      <td>6.748210e-10</td>\n",
              "      <td>-6.505440e-10</td>\n",
              "      <td>1.334690e-12</td>\n",
              "      <td>3.162</td>\n",
              "      <td>5.644010e-10</td>\n",
              "      <td>1.349750e-10</td>\n",
              "      <td>-1.231120e-10</td>\n",
              "      <td>1.330720e-12</td>\n",
              "      <td>5.472</td>\n",
              "      <td>1.857650e-10</td>\n",
              "      <td>1.246770e-12</td>\n",
              "      <td>6.455</td>\n",
              "      <td>2.528040e-11</td>\n",
              "      <td>4.166490e-13</td>\n",
              "      <td>3.273</td>\n",
              "      <td>54.801598</td>\n",
              "      <td>1000000.0</td>\n",
              "      <td>1000000.0</td>\n",
              "      <td>1000000.0</td>\n",
              "      <td>1000000.0</td>\n",
              "      <td>1000000.0</td>\n",
              "      <td>2.0</td>\n",
              "      <td>0.0</td>\n",
              "      <td>-0.037973</td>\n",
              "      <td>-0.557860</td>\n",
              "      <td>-0.504736</td>\n",
              "      <td>-0.053124</td>\n",
              "      <td>0.519887</td>\n",
              "      <td>3.273714</td>\n",
              "      <td>6.239404</td>\n",
              "      <td>0.152451</td>\n",
              "      <td>0.341201</td>\n",
              "      <td>0.795143</td>\n",
              "      <td>-0.816870</td>\n",
              "      <td>-9.151587</td>\n",
              "    </tr>\n",
              "    <tr>\n",
              "      <th>1031</th>\n",
              "      <td>226.141693</td>\n",
              "      <td>-82.709503</td>\n",
              "      <td>3.001340e-10</td>\n",
              "      <td>2.29785</td>\n",
              "      <td>0.16781</td>\n",
              "      <td>4.106724</td>\n",
              "      <td>307.208893</td>\n",
              "      <td>-20.970200</td>\n",
              "      <td>1438.089966</td>\n",
              "      <td>1.694100e-13</td>\n",
              "      <td>4.180000e-14</td>\n",
              "      <td>3.636390e-12</td>\n",
              "      <td>9.182700e-13</td>\n",
              "      <td>0.459</td>\n",
              "      <td>1.0</td>\n",
              "      <td>2.2979</td>\n",
              "      <td>1.112970e-08</td>\n",
              "      <td>3.201060e-09</td>\n",
              "      <td>-3.148340e-09</td>\n",
              "      <td>2.597810e-12</td>\n",
              "      <td>3.585</td>\n",
              "      <td>1.214770e-09</td>\n",
              "      <td>5.359770e-10</td>\n",
              "      <td>-5.216660e-10</td>\n",
              "      <td>8.055620e-13</td>\n",
              "      <td>2.391</td>\n",
              "      <td>2.399310e-10</td>\n",
              "      <td>1.127720e-10</td>\n",
              "      <td>-1.033030e-10</td>\n",
              "      <td>5.600270e-13</td>\n",
              "      <td>2.511</td>\n",
              "      <td>5.106580e-11</td>\n",
              "      <td>3.386380e-13</td>\n",
              "      <td>2.471</td>\n",
              "      <td>1.038210e-11</td>\n",
              "      <td>1.644900e-13</td>\n",
              "      <td>1.937</td>\n",
              "      <td>45.303288</td>\n",
              "      <td>1000000.0</td>\n",
              "      <td>1000000.0</td>\n",
              "      <td>1000000.0</td>\n",
              "      <td>1000000.0</td>\n",
              "      <td>1000000.0</td>\n",
              "      <td>2.0</td>\n",
              "      <td>8.0</td>\n",
              "      <td>-0.803188</td>\n",
              "      <td>-0.670130</td>\n",
              "      <td>-0.649028</td>\n",
              "      <td>-0.021102</td>\n",
              "      <td>-0.133058</td>\n",
              "      <td>3.157786</td>\n",
              "      <td>11.031491</td>\n",
              "      <td>0.111768</td>\n",
              "      <td>0.361322</td>\n",
              "      <td>1.042634</td>\n",
              "      <td>-0.951683</td>\n",
              "      <td>-9.522685</td>\n",
              "    </tr>\n",
              "  </tbody>\n",
              "</table>\n",
              "</div>"
            ],
            "text/plain": [
              "              ra        dec  flux_1_100_gev  spectral_index  \\\n",
              "1027   85.560303 -87.618500    4.170300e-10         2.03895   \n",
              "1028  317.163086 -86.317596    1.974810e-10         1.74000   \n",
              "1029  186.165298 -83.209297    4.487580e-10         2.69452   \n",
              "1030  344.541290 -82.805603    7.053620e-10         2.19382   \n",
              "1031  226.141693 -82.709503    3.001340e-10         2.29785   \n",
              "\n",
              "      spectral_index_error  detection_significance         lii        bii  \\\n",
              "1027               0.14339                6.431914  300.360992 -27.813000   \n",
              "1028               0.26993                4.728537  306.415100 -29.160400   \n",
              "1029               0.10959                7.470914  302.089386 -20.381399   \n",
              "1030               0.11050                8.783147  307.012695 -33.402302   \n",
              "1031               0.16781                4.106724  307.208893 -20.970200   \n",
              "\n",
              "      pivot_energy  flux_density  flux_density_error   energy_flux  \\\n",
              "1027   2499.959961  6.744600e-14        1.332100e-14  4.636140e-12   \n",
              "1028   8678.959961  3.518900e-15        1.118300e-15  2.571730e-12   \n",
              "1029    488.019989  5.254500e-12        6.981400e-13  8.609830e-12   \n",
              "1030   1878.079956  2.121000e-13        3.074500e-14  8.055360e-12   \n",
              "1031   1438.089966  1.694100e-13        4.180000e-14  3.636390e-12   \n",
              "\n",
              "      energy_flux_error  curve_significance  spectrum_type  powerlaw_index  \\\n",
              "1027       9.172090e-13               0.308            1.0          2.0389   \n",
              "1028       8.174750e-13               0.417            1.0          1.7400   \n",
              "1029       1.159620e-12               1.103            1.0          2.6945   \n",
              "1030       1.185090e-12               1.339            1.0          2.1938   \n",
              "1031       9.182700e-13               0.459            1.0          2.2979   \n",
              "\n",
              "      flux_100_300_mev  flux_100_300_mev_pos_err  flux_100_300_mev_neg_err  \\\n",
              "1027      5.856320e-09              2.706810e-09             -2.661290e-09   \n",
              "1028      1.034170e-09              2.552510e-09              1.000000e+06   \n",
              "1029      1.585340e-08              4.358800e-09             -4.375290e-09   \n",
              "1030      2.145630e-09              5.739860e-09              1.000000e+06   \n",
              "1031      1.112970e-08              3.201060e-09             -3.148340e-09   \n",
              "\n",
              "      nufnu_100_300_mev  sqrt_ts_100_300_mev  flux_0p3_1_gev  \\\n",
              "1027       1.401870e-12                2.210    3.402460e-10   \n",
              "1028       2.550060e-13                0.438    4.628000e-10   \n",
              "1029       3.564340e-12                3.692    3.458890e-09   \n",
              "1030       5.058890e-13                0.329    1.988640e-09   \n",
              "1031       2.597810e-12                3.585    1.214770e-09   \n",
              "\n",
              "      flux_0p3_1_gev_pos_err  flux_0p3_1_gev_neg_err  nufnu_0p3_1_gev  \\\n",
              "1027            4.098260e-10            1.000000e+06     2.325300e-13   \n",
              "1028            4.352200e-10           -4.140330e-10     3.277170e-13   \n",
              "1029            6.843420e-10           -6.694150e-10     2.194040e-12   \n",
              "1030            6.748210e-10           -6.505440e-10     1.334690e-12   \n",
              "1031            5.359770e-10           -5.216660e-10     8.055620e-13   \n",
              "\n",
              "      sqrt_ts_0p3_1_gev  flux_1_3_gev  flux_1_3_gev_pos_err  \\\n",
              "1027              0.782  2.440210e-10          1.023570e-10   \n",
              "1028              1.067  6.058490e-11          8.389500e-11   \n",
              "1029              5.447  3.306700e-10          1.205140e-10   \n",
              "1030              3.162  5.644010e-10          1.349750e-10   \n",
              "1031              2.391  2.399310e-10          1.127720e-10   \n",
              "\n",
              "      flux_1_3_gev_neg_err  nufnu_1_3_gev  sqrt_ts_1_3_gev  flux_3_10_gev  \\\n",
              "1027         -9.301360e-11   5.841320e-13            2.924   1.601190e-10   \n",
              "1028          1.000000e+06   1.493900e-13            0.841   2.303760e-12   \n",
              "1029         -1.117190e-10   7.434510e-13            3.296   7.640900e-11   \n",
              "1030         -1.231120e-10   1.330720e-12            5.472   1.857650e-10   \n",
              "1031         -1.033030e-10   5.600270e-13            2.511   5.106580e-11   \n",
              "\n",
              "      nufnu_3_10_gev  sqrt_ts_3_10_gev  flux_10_100_gev  nufnu_10_100_gev  \\\n",
              "1027    1.094290e-12             5.529     2.434160e-11      4.264750e-13   \n",
              "1028    1.631330e-14             0.138     5.805490e-11      1.151920e-12   \n",
              "1029    4.846760e-13             3.325     3.678400e-12      5.084610e-14   \n",
              "1030    1.246770e-12             6.455     2.528040e-11      4.166490e-13   \n",
              "1031    3.386380e-13             2.471     1.038210e-11      1.644900e-13   \n",
              "\n",
              "      sqrt_ts_10_100_gev  variability_index  significance_peak  flux_peak  \\\n",
              "1027               3.656          50.015041          1000000.0  1000000.0   \n",
              "1028               5.852          35.195969          1000000.0  1000000.0   \n",
              "1029               0.469          56.541351          1000000.0  1000000.0   \n",
              "1030               3.273          54.801598          1000000.0  1000000.0   \n",
              "1031               1.937          45.303288          1000000.0  1000000.0   \n",
              "\n",
              "      flux_peak_error  time_peak  time_peak_interval  source_type  \\\n",
              "1027        1000000.0  1000000.0           1000000.0          2.0   \n",
              "1028        1000000.0  1000000.0           1000000.0          2.0   \n",
              "1029        1000000.0  1000000.0           1000000.0          2.0   \n",
              "1030        1000000.0  1000000.0           1000000.0          2.0   \n",
              "1031        1000000.0  1000000.0           1000000.0          2.0   \n",
              "\n",
              "      analysis_flags      HR12      HR23      HR34  hard_slope  soft_slope  \\\n",
              "1027           256.0 -0.890182 -0.164694 -0.207606    0.042913   -0.725489   \n",
              "1028             4.0 -0.381684 -0.768488 -0.926735    0.158247    0.386804   \n",
              "1029             0.0 -0.641794 -0.825484 -0.624599   -0.200885    0.183690   \n",
              "1030             0.0 -0.037973 -0.557860 -0.504736   -0.053124    0.519887   \n",
              "1031             8.0 -0.803188 -0.670130 -0.649028   -0.021102   -0.133058   \n",
              "\n",
              "        P_E_lg        TS_      sig_  gamm_log    Ts_log   sig_log  F100_log  \n",
              "1027  3.397933   7.776074  0.047886  0.309407  0.890760 -1.319790 -9.379832  \n",
              "1028  3.938468   7.443311  0.088188  0.240549  0.871766 -1.054591 -9.704474  \n",
              "1029  2.688438   7.568197  0.147639  0.430481  0.878992 -0.830798 -9.347988  \n",
              "1030  3.273714   6.239404  0.152451  0.341201  0.795143 -0.816870 -9.151587  \n",
              "1031  3.157786  11.031491  0.111768  0.361322  1.042634 -0.951683 -9.522685  "
            ]
          },
          "metadata": {
            "tags": []
          },
          "execution_count": 14
        }
      ]
    },
    {
      "cell_type": "code",
      "metadata": {
        "id": "yi9z1lcf8l62",
        "colab_type": "code",
        "colab": {}
      },
      "source": [
        "#X.where(np.isnan(X))\n",
        "#X.drop('Unnamed: 0', axis=1, inplace=True) # borro la columna sin reasignar un nuevo dataframe\n",
        "\n"
      ],
      "execution_count": 0,
      "outputs": []
    },
    {
      "cell_type": "code",
      "metadata": {
        "id": "udszbfpEq1w1",
        "colab_type": "code",
        "outputId": "30645785-cb96-488f-a3ef-968f550938fc",
        "colab": {
          "base_uri": "https://localhost:8080/",
          "height": 212
        }
      },
      "source": [
        "#df_BCU.drop('Unnamed: 0', axis=1, inplace=True) # borro la columna sin reasignar un nuevo dataframe\n",
        "#df_BCU.drop('source_type', axis=1, inplace=True)\n",
        "df_bl.columns\n",
        "y_ = df_bl['source_type']\n",
        "y_\n",
        "#df_bl.head(2)"
      ],
      "execution_count": 0,
      "outputs": [
        {
          "output_type": "execute_result",
          "data": {
            "text/plain": [
              "0       1.0\n",
              "1       0.0\n",
              "2       0.0\n",
              "3       0.0\n",
              "4       1.0\n",
              "       ... \n",
              "1022    0.0\n",
              "1023    0.0\n",
              "1024    1.0\n",
              "1025    0.0\n",
              "1026    1.0\n",
              "Name: source_type, Length: 1027, dtype: float32"
            ]
          },
          "metadata": {
            "tags": []
          },
          "execution_count": 15
        }
      ]
    },
    {
      "cell_type": "code",
      "metadata": {
        "id": "3nmjsVw0JYRv",
        "colab_type": "code",
        "colab": {}
      },
      "source": [
        "X=df_bl\n",
        "X.drop(['source_type'], axis=1, inplace=True)\n"
      ],
      "execution_count": 0,
      "outputs": []
    },
    {
      "cell_type": "code",
      "metadata": {
        "id": "JTxZ4qqb8l67",
        "colab_type": "code",
        "outputId": "2b3830f8-e79f-4059-960c-73624cd0813b",
        "colab": {
          "base_uri": "https://localhost:8080/",
          "height": 277
        }
      },
      "source": [
        "caracteristicas_=df_bl.columns\n",
        "#X.head(3)\n",
        "caracteristicas_\n",
        "#type(caracteristicas_)"
      ],
      "execution_count": 0,
      "outputs": [
        {
          "output_type": "execute_result",
          "data": {
            "text/plain": [
              "Index(['ra', 'dec', 'flux_1_100_gev', 'spectral_index', 'spectral_index_error',\n",
              "       'detection_significance', 'lii', 'bii', 'pivot_energy', 'flux_density',\n",
              "       'flux_density_error', 'energy_flux', 'energy_flux_error',\n",
              "       'curve_significance', 'spectrum_type', 'powerlaw_index',\n",
              "       'flux_100_300_mev', 'flux_100_300_mev_pos_err',\n",
              "       'flux_100_300_mev_neg_err', 'nufnu_100_300_mev', 'sqrt_ts_100_300_mev',\n",
              "       'flux_0p3_1_gev', 'flux_0p3_1_gev_pos_err', 'flux_0p3_1_gev_neg_err',\n",
              "       'nufnu_0p3_1_gev', 'sqrt_ts_0p3_1_gev', 'flux_1_3_gev',\n",
              "       'flux_1_3_gev_pos_err', 'flux_1_3_gev_neg_err', 'nufnu_1_3_gev',\n",
              "       'sqrt_ts_1_3_gev', 'flux_3_10_gev', 'nufnu_3_10_gev',\n",
              "       'sqrt_ts_3_10_gev', 'flux_10_100_gev', 'nufnu_10_100_gev',\n",
              "       'sqrt_ts_10_100_gev', 'variability_index', 'significance_peak',\n",
              "       'flux_peak', 'flux_peak_error', 'time_peak', 'time_peak_interval',\n",
              "       'analysis_flags', 'HR12', 'HR23', 'HR34', 'hard_slope', 'soft_slope',\n",
              "       'P_E_lg', 'TS_', 'sig_', 'gamm_log', 'Ts_log', 'sig_log', 'F100_log'],\n",
              "      dtype='object')"
            ]
          },
          "metadata": {
            "tags": []
          },
          "execution_count": 17
        }
      ]
    },
    {
      "cell_type": "code",
      "metadata": {
        "id": "C-XTB7Kn8l6_",
        "colab_type": "code",
        "outputId": "54775e3e-8636-4c07-a0e6-3bcb5fcd1846",
        "colab": {
          "base_uri": "https://localhost:8080/",
          "height": 368
        }
      },
      "source": [
        "import matplotlib.pyplot as plt\n",
        "plt.rcParams['figure.figsize'] = (5,5)\n",
        "plt.hist(y_, bins=2)"
      ],
      "execution_count": 0,
      "outputs": [
        {
          "output_type": "execute_result",
          "data": {
            "text/plain": [
              "(array([401., 626.]),\n",
              " array([0. , 0.5, 1. ], dtype=float32),\n",
              " <a list of 2 Patch objects>)"
            ]
          },
          "metadata": {
            "tags": []
          },
          "execution_count": 18
        },
        {
          "output_type": "display_data",
          "data": {
            "image/png": "[encoded data removed]",
            "text/plain": [
              "<Figure size 360x360 with 1 Axes>"
            ]
          },
          "metadata": {
            "tags": []
          }
        }
      ]
    },
    {
      "cell_type": "code",
      "metadata": {
        "id": "M3a6X84x8l7D",
        "colab_type": "code",
        "outputId": "4a08b6d7-0dae-43bd-fb9b-64713db1c898",
        "colab": {
          "base_uri": "https://localhost:8080/",
          "height": 33
        }
      },
      "source": [
        "1- 401/(401+626)\n",
        "\n",
        "#y_"
      ],
      "execution_count": 0,
      "outputs": [
        {
          "output_type": "execute_result",
          "data": {
            "text/plain": [
              "0.6095423563777994"
            ]
          },
          "metadata": {
            "tags": []
          },
          "execution_count": 19
        }
      ]
    },
    {
      "cell_type": "markdown",
      "metadata": {
        "id": "jjCsR-MP8l7H",
        "colab_type": "text"
      },
      "source": [
        "### Normalización de los datos"
      ]
    },
    {
      "cell_type": "code",
      "metadata": {
        "id": "aCo9G9cV8l7I",
        "colab_type": "code",
        "outputId": "52a519e7-ebcf-4696-c5b1-6ccd31c715f8",
        "colab": {
          "base_uri": "https://localhost:8080/",
          "height": 115
        }
      },
      "source": [
        "from sklearn.model_selection import train_test_split\n",
        "sc = StandardScaler()\n",
        "sc.fit(X)\n",
        "#sc.fit(y)\n",
        "X_std = sc.transform(X)\n",
        "#df_BCU_std=sc.transform(df_BCU)\n",
        "#y_std= sc.transform(y)\n",
        "y_.head(5)"
      ],
      "execution_count": 0,
      "outputs": [
        {
          "output_type": "execute_result",
          "data": {
            "text/plain": [
              "0    1.0\n",
              "1    0.0\n",
              "2    0.0\n",
              "3    0.0\n",
              "4    1.0\n",
              "Name: source_type, dtype: float32"
            ]
          },
          "metadata": {
            "tags": []
          },
          "execution_count": 20
        }
      ]
    },
    {
      "cell_type": "markdown",
      "metadata": {
        "id": "9sjOdBp78l7K",
        "colab_type": "text"
      },
      "source": [
        "### División de datos en dos conjuntos: X_train, y_train, conjunto de entrenamiento. X_test, y_test conjunto de test"
      ]
    },
    {
      "cell_type": "code",
      "metadata": {
        "id": "yeo4uHMC8l7L",
        "colab_type": "code",
        "colab": {}
      },
      "source": [
        "X_train, X_test, y_train, y_test = train_test_split(X_std, y_, test_size=0.4)"
      ],
      "execution_count": 0,
      "outputs": []
    },
    {
      "cell_type": "code",
      "metadata": {
        "id": "kwlbPQIP8l7N",
        "colab_type": "code",
        "colab": {}
      },
      "source": [
        "from sklearn.metrics import confusion_matrix\n",
        "from sklearn.model_selection import cross_val_score"
      ],
      "execution_count": 0,
      "outputs": []
    },
    {
      "cell_type": "markdown",
      "metadata": {
        "id": "DWW5viz98l7Q",
        "colab_type": "text"
      },
      "source": [
        "# APLICACIÓN DE CLASIFICADORES"
      ]
    },
    {
      "cell_type": "markdown",
      "metadata": {
        "id": "XLJiRWaJ0HXZ",
        "colab_type": "text"
      },
      "source": [
        "## Estudiamos los datos con un mapa de calor"
      ]
    },
    {
      "cell_type": "code",
      "metadata": {
        "id": "8gXDC18x0MQi",
        "colab_type": "code",
        "colab": {}
      },
      "source": [
        "#plt.figure(figsize=(35,30))\n",
        "#cor = X.corr()\n",
        "#g=sns.heatmap(cor, annot=True, cmap=plt.cm.Reds)\n",
        "#plt.show()"
      ],
      "execution_count": 0,
      "outputs": []
    },
    {
      "cell_type": "code",
      "metadata": {
        "id": "OgzzoaWn1w-t",
        "colab_type": "code",
        "colab": {}
      },
      "source": [
        "#savefig(\"/content/drive/My Drive/poblacion_2.png\")\n",
        "#Correlation with output variable\n",
        "#cor_target = abs(cor[\"spectral_index\"])\n",
        "#Selecting highly correlated features\n",
        "#relevant_features = cor_target[cor_target>0.85]\n",
        "#relevant_features"
      ],
      "execution_count": 0,
      "outputs": []
    },
    {
      "cell_type": "markdown",
      "metadata": {
        "id": "Vh9SgVKs33s9",
        "colab_type": "text"
      },
      "source": [
        "#Eliminación recursiva de características"
      ]
    },
    {
      "cell_type": "code",
      "metadata": {
        "id": "BBlRa08mCmFO",
        "colab_type": "code",
        "colab": {}
      },
      "source": [
        "#from sklearn.feature_selection import RFECV\n",
        "#from sklearn.svm import SVR\n",
        "#X, y = make_friedman1(n_samples=50, n_features=10, random_state=0)\n",
        "#estimator = SVR(kernel=\"linear\")\n",
        "#selector = RFECV(estimator, step=1, cv=5)\n",
        "#selector = selector.fit(X_std, y_)\n",
        "#selector.support_\n"
      ],
      "execution_count": 0,
      "outputs": []
    },
    {
      "cell_type": "markdown",
      "metadata": {
        "id": "AEQsMHZR3-1l",
        "colab_type": "text"
      },
      "source": [
        "# Número optimo de caracteristicas para el clasificador"
      ]
    },
    {
      "cell_type": "code",
      "metadata": {
        "id": "Ja0984qy8l7p",
        "colab_type": "code",
        "colab": {}
      },
      "source": [
        "X_train, X_test, y_train, y_test = train_test_split(X_std, y_, test_size=0.25)"
      ],
      "execution_count": 0,
      "outputs": []
    },
    {
      "cell_type": "markdown",
      "metadata": {
        "id": "-tTw-v678l78",
        "colab_type": "text"
      },
      "source": [
        "## Con xgboost"
      ]
    },
    {
      "cell_type": "code",
      "metadata": {
        "id": "OqOWJtdy8l78",
        "colab_type": "code",
        "colab": {}
      },
      "source": [
        "#!pip install xgboost"
      ],
      "execution_count": 0,
      "outputs": []
    },
    {
      "cell_type": "code",
      "metadata": {
        "id": "wJe3rJpO8l8A",
        "colab_type": "code",
        "colab": {}
      },
      "source": [
        "from xgboost.plotting import plot_importance\n",
        "import xgboost as xgb"
      ],
      "execution_count": 0,
      "outputs": []
    },
    {
      "cell_type": "code",
      "metadata": {
        "id": "FAngD82b8l8E",
        "colab_type": "code",
        "colab": {}
      },
      "source": [
        "import xgboost as xgb\n",
        "xg = xgb.XGBClassifier(objective ='binary:logistic',\n",
        "             colsample_bytree = 0.3,\n",
        "             learning_rate = 0.21,\n",
        "             max_depth = 6, \n",
        "             alpha = 10,\n",
        "             n_estimators = 1000,\n",
        "             feature_names=caracteristicas_ )\n",
        "#,\n",
        "#            feature_names=caracteristicas_"
      ],
      "execution_count": 0,
      "outputs": []
    },
    {
      "cell_type": "code",
      "metadata": {
        "id": "ySPZeNEc8l8H",
        "colab_type": "code",
        "outputId": "8c438fac-5825-498b-ac24-b4e519023589",
        "colab": {
          "base_uri": "https://localhost:8080/",
          "height": 33
        }
      },
      "source": [
        "%%timeit \n",
        "xg.fit(X_train,y_train)"
      ],
      "execution_count": 0,
      "outputs": [
        {
          "output_type": "stream",
          "text": [
            "1 loop, best of 3: 798 ms per loop\n"
          ],
          "name": "stdout"
        }
      ]
    },
    {
      "cell_type": "code",
      "metadata": {
        "id": "HtyH5BgB8l8K",
        "colab_type": "code",
        "outputId": "08cd50a9-de18-453c-e38b-8f61ff1389cf",
        "colab": {
          "base_uri": "https://localhost:8080/",
          "height": 33
        }
      },
      "source": [
        "xg.score(X_test, y_test)"
      ],
      "execution_count": 0,
      "outputs": [
        {
          "output_type": "execute_result",
          "data": {
            "text/plain": [
              "0.8949416342412452"
            ]
          },
          "metadata": {
            "tags": []
          },
          "execution_count": 30
        }
      ]
    },
    {
      "cell_type": "code",
      "metadata": {
        "id": "ZRjAwU9E8l8M",
        "colab_type": "code",
        "outputId": "e7b7437d-844b-4a95-fc97-8c385895a241",
        "colab": {
          "base_uri": "https://localhost:8080/",
          "height": 50
        }
      },
      "source": [
        "confusion_matrix(y_test, xg.predict(X_test))"
      ],
      "execution_count": 0,
      "outputs": [
        {
          "output_type": "execute_result",
          "data": {
            "text/plain": [
              "array([[ 94,  14],\n",
              "       [ 13, 136]])"
            ]
          },
          "metadata": {
            "tags": []
          },
          "execution_count": 31
        }
      ]
    },
    {
      "cell_type": "code",
      "metadata": {
        "id": "9aezEwtQ8l8P",
        "colab_type": "code",
        "outputId": "6341c0e8-ffbb-4415-9d76-8165e9f6fe1e",
        "colab": {
          "base_uri": "https://localhost:8080/",
          "height": 653
        }
      },
      "source": [
        "importances = xg.feature_importances_\n",
        "#importances\n",
        "plt.rcParams['figure.figsize'] = (10,10)\n",
        "plt.figure()\n",
        "plot_importance(xg)"
      ],
      "execution_count": 0,
      "outputs": [
        {
          "output_type": "execute_result",
          "data": {
            "text/plain": [
              "<matplotlib.axes._subplots.AxesSubplot at 0x7f08749d0978>"
            ]
          },
          "metadata": {
            "tags": []
          },
          "execution_count": 32
        },
        {
          "output_type": "display_data",
          "data": {
            "text/plain": [
              "<Figure size 720x720 with 0 Axes>"
            ]
          },
          "metadata": {
            "tags": []
          }
        },
        {
          "output_type": "display_data",
          "data": {
            "image/png": "[encoded data removed]",
            "text/plain": [
              "<Figure size 720x720 with 1 Axes>"
            ]
          },
          "metadata": {
            "tags": []
          }
        }
      ]
    },
    {
      "cell_type": "code",
      "metadata": {
        "id": "c9_HWrNlPEmu",
        "colab_type": "code",
        "outputId": "be9171fe-877a-4b2d-a54a-ffca8d5614ab",
        "colab": {
          "base_uri": "https://localhost:8080/",
          "height": 175
        }
      },
      "source": [
        "Snippet_190(xg, X_std, y_, 100)\n",
        "xg.score"
      ],
      "execution_count": 0,
      "outputs": [
        {
          "output_type": "error",
          "ename": "NameError",
          "evalue": "ignored",
          "traceback": [
            "\u001b[0;31m---------------------------------------------------------------------------\u001b[0m",
            "\u001b[0;31mNameError\u001b[0m                                 Traceback (most recent call last)",
            "\u001b[0;32m<ipython-input-45-ece02f5b480c>\u001b[0m in \u001b[0;36m<module>\u001b[0;34m()\u001b[0m\n\u001b[0;32m----> 1\u001b[0;31m \u001b[0mSnippet_190\u001b[0m\u001b[0;34m(\u001b[0m\u001b[0mxg\u001b[0m\u001b[0;34m,\u001b[0m \u001b[0mX_std\u001b[0m\u001b[0;34m,\u001b[0m \u001b[0my_\u001b[0m\u001b[0;34m,\u001b[0m \u001b[0;36m100\u001b[0m\u001b[0;34m)\u001b[0m\u001b[0;34m\u001b[0m\u001b[0;34m\u001b[0m\u001b[0m\n\u001b[0m\u001b[1;32m      2\u001b[0m \u001b[0mxg\u001b[0m\u001b[0;34m.\u001b[0m\u001b[0mscore\u001b[0m\u001b[0;34m\u001b[0m\u001b[0;34m\u001b[0m\u001b[0m\n",
            "\u001b[0;31mNameError\u001b[0m: name 'Snippet_190' is not defined"
          ]
        }
      ]
    },
    {
      "cell_type": "markdown",
      "metadata": {
        "id": "UMYH49SxELHY",
        "colab_type": "text"
      },
      "source": [
        "###Identificamos cada una de las features (feature importance) con su columna en el dataframe"
      ]
    },
    {
      "cell_type": "markdown",
      "metadata": {
        "id": "VUC9T9QaDSZa",
        "colab_type": "text"
      },
      "source": [
        "## Snipetts para calcular y mostrar las curvas de aprendizaje"
      ]
    },
    {
      "cell_type": "code",
      "metadata": {
        "id": "jzNVKVD_8l8V",
        "colab_type": "code",
        "colab": {}
      },
      "source": [
        "#!pip install ipynb\n",
        "\n",
        "from ipynb.fs.full.my_functions import Snippet_188_a, Snippet_191,Snippet_192\n",
        "#Snippet_192(xg, X_std, y_)\n",
        "#Snippet_191(xg, X_std, y_)\n",
        "#Snippet_188_a(X_std, y_,xg)"
      ],
      "execution_count": 0,
      "outputs": []
    },
    {
      "cell_type": "code",
      "metadata": {
        "id": "2Z7Eq_qIr3Ed",
        "colab_type": "code",
        "colab": {}
      },
      "source": [
        "#Snippet_188_a(X_std, y_,xg)"
      ],
      "execution_count": 0,
      "outputs": []
    },
    {
      "cell_type": "code",
      "metadata": {
        "id": "k0TRm0Xt8l8Z",
        "colab_type": "code",
        "colab": {}
      },
      "source": [
        "from ipynb.fs.full.my_functions import Snippet_189\n",
        "#Snippet_189(X_std, y_,xg)"
      ],
      "execution_count": 0,
      "outputs": []
    },
    {
      "cell_type": "code",
      "metadata": {
        "id": "xJ7Kr0G72fEg",
        "colab_type": "code",
        "colab": {}
      },
      "source": [
        ""
      ],
      "execution_count": 0,
      "outputs": []
    },
    {
      "cell_type": "code",
      "metadata": {
        "id": "0nLyy5XTNOJG",
        "colab_type": "code",
        "colab": {}
      },
      "source": [
        "%load /content/drive/My Drive/my_functions.ipynb\n",
        "#from ipynb.fs.full.my_functions import Snippet_188_a\n",
        "#Snippet_191(gbc, X_std, y_)\n",
        "#%lsmagic\n",
        "\n"
      ],
      "execution_count": 0,
      "outputs": []
    },
    {
      "cell_type": "code",
      "metadata": {
        "id": "KkFJ7cOa8l82",
        "colab_type": "code",
        "outputId": "b6356814-351c-4543-d72f-1caf29803f85",
        "colab": {
          "base_uri": "https://localhost:8080/",
          "height": 50
        }
      },
      "source": [
        "from sklearn.metrics import confusion_matrix\n",
        "confusion_matrix(y_test, xg.predict(X_test))"
      ],
      "execution_count": 0,
      "outputs": [
        {
          "output_type": "execute_result",
          "data": {
            "text/plain": [
              "array([[ 94,  14],\n",
              "       [ 13, 136]])"
            ]
          },
          "metadata": {
            "tags": []
          },
          "execution_count": 38
        }
      ]
    },
    {
      "cell_type": "code",
      "metadata": {
        "id": "wBs3TVz-8l-R",
        "colab_type": "code",
        "outputId": "f9970b7b-7c8d-478f-9c0d-a2788510b8bc",
        "colab": {
          "base_uri": "https://localhost:8080/",
          "height": 621
        }
      },
      "source": [
        "features = X.columns\n",
        "importances = xg.feature_importances_\n",
        "indices = np.argsort(importances)\n",
        "\n",
        "plt.title('Feature Importances')\n",
        "plt.barh(range(len(indices)), importances[indices], color='b', align='center')\n",
        "plt.yticks(range(len(indices)), [features[i] for i in indices])\n",
        "plt.xlabel('Relative Importance')\n",
        "plt.show()"
      ],
      "execution_count": 0,
      "outputs": [
        {
          "output_type": "display_data",
          "data": {
            "image/png": "[encoded data removed]",
            "text/plain": [
              "<Figure size 720x720 with 1 Axes>"
            ]
          },
          "metadata": {
            "tags": []
          }
        }
      ]
    },
    {
      "cell_type": "code",
      "metadata": {
        "id": "elKDDEvV8l-T",
        "colab_type": "code",
        "colab": {}
      },
      "source": [
        "#X_test=X_test.values\n",
        "#xg.feature_importances_\n",
        "#def guarda_importancias (clf, archivo, salvar) :\n",
        "#  #cargamos el archivo donde guadaremos las importancias\n",
        "#  try:\n",
        "#     n_df=pd.read_excel(archivo)\n",
        "#  except IOError:\n",
        "#   print ('El archivo no existe lo creamos')\n",
        "#  #n_df=pd.read_excel(archivo)\n",
        "#  row_=clf.feature_importances_\n",
        "#  np.prod(row_.shape)\n",
        "#  n_df=pd.DataFrame(columns=df_bl.columns)\n",
        "#  n_df.loc[-1] = row_  # adding a row\n",
        "#  n_df.index = n_df.index + 1  # shifting index\n",
        "#  n_df = n_df.sort_index()  # sorting by index\n",
        "#  archivo ='/content/drive/My Drive/' + archivo\n",
        "#  if salvar =='s':\n",
        "#    print(n_df.shape)\n",
        "#    print(archivo)\n",
        "#    print (type(n_df))\n",
        "#    n_df.to_excel(archivo) \n",
        "  "
      ],
      "execution_count": 0,
      "outputs": []
    },
    {
      "cell_type": "code",
      "metadata": {
        "id": "3oRz0e9OoWPS",
        "colab_type": "code",
        "outputId": "09f90ffb-451a-4a44-985c-a1475aac67df",
        "colab": {
          "base_uri": "https://localhost:8080/",
          "height": 261
        }
      },
      "source": [
        "from ipynb.fs.full.my_functions import guarda_importancias\n",
        "import pandas as pd\n",
        "#'/content/drive/My Drive/' +arc\n",
        "#df_p2.to_excel('/content/drive/My Drive/df_p2_3FG_raw.xlsx') \n",
        "guarda_importancias (xg,df_bl,\"xg.xlsx\", \"n\")\n",
        "!ls '/content/drive/My Drive/'"
      ],
      "execution_count": 0,
      "outputs": [
        {
          "output_type": "stream",
          "text": [
            "El archivo no existe lo creamos\n",
            "'1 INTRODUCCIÓN.gdoc'\t\t\t     etiquetas3FG_raw.xlsx\n",
            " AUC_1.png\t\t\t\t     FERMI3FGL4Y_old.xls\n",
            " backup\t\t\t\t\t     FERMI3FGL4Y_short_old.xls\n",
            " BCU_raw.xlsx\t\t\t\t     FERMI3FGL4Y_short.xls\n",
            "' Blazars_2_poblaciones.ipynb'\t\t     Imagen1.png\n",
            " BLZARS_FULL_POPULATION_raw.xlsx\t     Imagen2.png\n",
            " Caracteristicas3FG_raw.xlsx\t\t     Imagen3.png\n",
            "'Colab Notebooks'\t\t\t     Mitty\n",
            "'Copia_de_Blazars_2_poblaciones (1).ipynb'   my_functions.ipynb\n",
            " df_p1_3FG_raw.xlsx\t\t\t     pickle_model.pkl\n",
            " df_p2_3FG_raw.xlsx\t\t\t     poblacion_2.png\n",
            " Discriminantes_pappers.png\t\t     tanteo-1.png\n",
            "'Documento de eduardorodriguez rioja'\t    'TFM-lay out.gdoc'\n",
            "'Documento de eduardorodriguez rioja (1)'    Untitled0.ipynb\n"
          ],
          "name": "stdout"
        }
      ]
    },
    {
      "cell_type": "code",
      "metadata": {
        "id": "3r89ebZdP9WV",
        "colab_type": "code",
        "colab": {}
      },
      "source": [
        "#Snippet_190(forest, X_std, y_, 100)\n",
        "#cont=0\n",
        "#for feat, importance in zip(X.columns, gbc.feature_importances_):\n",
        "#    cont=1+cont\n",
        "#    if importance >= 0:\n",
        "#        print(f' f({cont}) -> {feat} : {importance}')"
      ],
      "execution_count": 0,
      "outputs": []
    },
    {
      "cell_type": "markdown",
      "metadata": {
        "id": "gv3utvNfCmPs",
        "colab_type": "text"
      },
      "source": [
        "#Plots rendimiento comparado clasificadores"
      ]
    },
    {
      "cell_type": "markdown",
      "metadata": {
        "id": "ZcShLbekCw7o",
        "colab_type": "text"
      },
      "source": [
        ""
      ]
    },
    {
      "cell_type": "code",
      "metadata": {
        "id": "VH74l72O8l-V",
        "colab_type": "code",
        "outputId": "0b3fcd51-4c53-4c85-f98f-5114b945d0b3",
        "colab": {
          "base_uri": "https://localhost:8080/",
          "height": 621
        }
      },
      "source": [
        "import sklearn.metrics as metrics\n",
        "import matplotlib.pyplot as plt\n",
        "#clasificadores =[xg,forest, kn, tree, kn2, gbc, svm]\n",
        "clasificadores =[xg]\n",
        "#clasificadores =[xg, forest, kn, tree, kn2, gbc]\n",
        "plt.title('Receiver Operating Characteristic')\n",
        "for clf in clasificadores:\n",
        "    # calculate the fpr and tpr for all thresholds of the classification\n",
        "    \n",
        "    probs = clf.predict_proba(X_test)\n",
        "    preds = probs[:,1]\n",
        "    fpr, tpr, threshold = metrics.roc_curve(y_test, preds)\n",
        "    roc_auc = metrics.auc(fpr, tpr)\n",
        "    roc_auc='%.2f' % roc_auc\n",
        "    name =clf.__class__.__name__\n",
        "    score_=clf.score(X_test, y_test)\n",
        "    score_1='%.2f' % score_\n",
        "    #print (score_1)\n",
        "    # method I: plt\n",
        " \n",
        "\n",
        "    \n",
        "    plt.plot(fpr, tpr ,label = f'{name} AUC ={roc_auc}  η = {score_1}%')\n",
        "    plt.legend(loc = 'lower right')\n",
        "plt.plot([0, 1], [0, 1],'r--')    \n",
        "plt.xlim([0, 1])\n",
        "plt.ylim([0, 1])\n",
        "plt.ylabel('True Positive Rate')\n",
        "plt.xlabel('False Positive Rate')\n",
        "plt.savefig(\"/content/drive/My Drive/xg-AUC_1.png\")\n",
        "plt.show()\n",
        "\n",
        "# method II: ggplot\n",
        "#from ggplot import *\n",
        "#df = pd.DataFrame(dict(fpr = fpr, tpr = tpr))\n",
        "#ggplot(df, aes(x = 'fpr', y = 'tpr')) + geom_line() + geom_abline(linetype = 'dashed')"
      ],
      "execution_count": 0,
      "outputs": [
        {
          "output_type": "display_data",
          "data": {
            "image/png": "[encoded data removed]",
            "text/plain": [
              "<Figure size 720x720 with 1 Axes>"
            ]
          },
          "metadata": {
            "tags": []
          }
        }
      ]
    },
    {
      "cell_type": "markdown",
      "metadata": {
        "id": "4s0xxiFRt7BX",
        "colab_type": "text"
      },
      "source": [
        "# Salvar y cargar modelo"
      ]
    },
    {
      "cell_type": "code",
      "metadata": {
        "id": "KGnViIu50xPd",
        "colab_type": "code",
        "outputId": "d4981d11-6e1a-4319-f734-1f9f8aacda97",
        "colab": {
          "base_uri": "https://localhost:8080/",
          "height": 50
        }
      },
      "source": [
        "import pickle\n",
        "\n",
        "#from google.colab import files\n",
        "#files.download('your typical text file or what ever.txt')\n",
        "# Create your model here (same as above)\n",
        "#\n",
        "\n",
        "# Save to file in the current working directory\n",
        "#model=xg\n",
        "pkl_filename = \"/content/drive/My Drive/pickle_model.pkl\"\n",
        "#with open(pkl_filename, 'wb') as file:\n",
        "#    pickle.dump(model, file)\n",
        "\n",
        "# Load from file\n",
        "with open(pkl_filename, 'rb') as file:\n",
        "    pickle_model = pickle.load(file)\n",
        "    \n",
        "#Calculate the accuracy score and predict target values\n",
        "score = pickle_model.score(X_test, y_test)\n",
        "print(\"Test score: {0:.2f} %\".format(100 * score))\n",
        "Ypredict = pickle_model.predict(X_test)\n",
        "Snippet_192(pickle_model, X_test, y_test)"
      ],
      "execution_count": 0,
      "outputs": [
        {
          "output_type": "stream",
          "text": [
            "Test score: 97.28 %\n",
            "Accuracy: 0.86 (+/- 0.09)\n"
          ],
          "name": "stdout"
        }
      ]
    }
  ]
}