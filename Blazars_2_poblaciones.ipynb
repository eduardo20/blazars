{
  "nbformat": 4,
  "nbformat_minor": 0,
  "metadata": {
    "kernelspec": {
      "name": "python3",
      "display_name": "Python 3"
    },
    "language_info": {
      "codemirror_mode": {
        "name": "ipython",
        "version": 3
      },
      "file_extension": ".py",
      "mimetype": "text/x-python",
      "name": "python",
      "nbconvert_exporter": "python",
      "pygments_lexer": "ipython3",
      "version": "3.7.4"
    },
    "colab": {
      "name": " Blazars_2_poblaciones.ipynb",
      "provenance": [],
      "collapsed_sections": [
        "VUC9T9QaDSZa"
      ],
      "include_colab_link": true
    },
    "accelerator": "GPU"
  },
  "cells": [
    {
      "cell_type": "markdown",
      "metadata": {
        "id": "view-in-github",
        "colab_type": "text"
      },
      "source": [
        "<a href=\"https://colab.research.google.com/github/eduardo20/blazars/blob/master/Blazars_2_poblaciones.ipynb\" target=\"_parent\"><img src=\"https://colab.research.google.com/assets/colab-badge.svg\" alt=\"Open In Colab\"/></a>"
      ]
    },
    {
      "cell_type": "markdown",
      "metadata": {
        "id": "OrPx4nDi8l6O",
        "colab_type": "text"
      },
      "source": [
        "# CLASIFICACION DE BLAZARS\n",
        "## Con scikit-learn\n"
      ]
    },
    {
      "cell_type": "code",
      "metadata": {
        "id": "QcRxpOC78psT",
        "colab_type": "code",
        "outputId": "c6b85a46-e377-4ead-bb35-6996cc9b01e3",
        "colab": {
          "base_uri": "https://localhost:8080/",
          "height": 33
        }
      },
      "source": [
        "# Load the Drive helper and mount\n",
        "from google.colab import drive\n",
        "\n",
        "# This will prompt for authorization.\n",
        "drive.mount('/content/drive')\n"
      ],
      "execution_count": 0,
      "outputs": [
        {
          "output_type": "stream",
          "text": [
            "Drive already mounted at /content/drive; to attempt to forcibly remount, call drive.mount(\"/content/drive\", force_remount=True).\n"
          ],
          "name": "stdout"
        }
      ]
    },
    {
      "cell_type": "code",
      "metadata": {
        "id": "dRvqq6tRn67p",
        "colab_type": "code",
        "colab": {}
      },
      "source": [
        "from google.colab import files\n",
        "#files.upload()\n",
        "# choose the file on your computer to upload it then\n",
        "#import Snippet_188"
      ],
      "execution_count": 0,
      "outputs": []
    },
    {
      "cell_type": "code",
      "metadata": {
        "id": "_dy5ZtBNpDLY",
        "colab_type": "code",
        "outputId": "687a0ac0-77c8-4004-930c-387c46fd07bb",
        "colab": {
          "base_uri": "https://localhost:8080/",
          "height": 33
        }
      },
      "source": [
        "pip install ipynb"
      ],
      "execution_count": 0,
      "outputs": [
        {
          "output_type": "stream",
          "text": [
            "Requirement already satisfied: ipynb in /usr/local/lib/python3.6/dist-packages (0.5.1)\n"
          ],
          "name": "stdout"
        }
      ]
    },
    {
      "cell_type": "markdown",
      "metadata": {
        "id": "VDIU1Awx8l6T",
        "colab_type": "text"
      },
      "source": [
        "### Cargamos las dependencias de módulos y librerías\n"
      ]
    },
    {
      "cell_type": "code",
      "metadata": {
        "id": "2c9WvbN-8l6U",
        "colab_type": "code",
        "colab": {}
      },
      "source": [
        "import pandas as pd\n",
        "import numpy as np\n",
        "from sklearn import datasets\n",
        "from sklearn.preprocessing import StandardScaler\n",
        "import matplotlib.pyplot as plt\n",
        "import seaborn as sns\n",
        "import warnings\n",
        "warnings.filterwarnings('ignore')"
      ],
      "execution_count": 0,
      "outputs": []
    },
    {
      "cell_type": "code",
      "metadata": {
        "id": "FZpMfY4y8l6Y",
        "colab_type": "code",
        "outputId": "4369dd1e-ec1d-49a4-c1e8-eae081090733",
        "colab": {
          "base_uri": "https://localhost:8080/",
          "height": 245
        }
      },
      "source": [
        "#pip install ipynb\n",
        "!pwd\n",
        "!ls \"/content/drive/My Drive\"\n",
        "\n"
      ],
      "execution_count": 0,
      "outputs": [
        {
          "output_type": "stream",
          "text": [
            "/content\n",
            "'1 INTRODUCCIÓN.gdoc'\t\t\t    etiquetas3FG_raw.xlsx\n",
            " AUC_1.png\t\t\t\t    FERMI3FGL4Y_short.xls\n",
            " backup\t\t\t\t\t    FERMI3FGL4Y.xls\n",
            " BCU_raw.xlsx\t\t\t\t    Imagen1.png\n",
            "' Blazars_2_poblaciones.ipynb'\t\t    Imagen2.png\n",
            " BLZARS_FULL_POPULATION_raw.xlsx\t    Imagen3.png\n",
            " Caracteristicas3FG_raw.xlsx\t\t    Mitty\n",
            "'Colab Notebooks'\t\t\t    my_functions.ipynb\n",
            " df_p1_3FG_raw.xlsx\t\t\t    poblacion_2.png\n",
            " df_p2_3FG_raw.xlsx\t\t\t    tanteo-1.png\n",
            " Discriminantes_pappers.png\t\t   'TFM-lay out.gdoc'\n",
            "'Documento de eduardorodriguez rioja'\t    Untitled0.ipynb\n",
            "'Documento de eduardorodriguez rioja (1)'\n"
          ],
          "name": "stdout"
        }
      ]
    },
    {
      "cell_type": "markdown",
      "metadata": {
        "id": "yV5uXZPR8l6g",
        "colab_type": "text"
      },
      "source": [
        "## Carga de datos\n",
        "### Cargamos los archivos correspondientes a las dos poblaciones segmentadas que contiene cada uno de ellos el conjunto conpleto de blazars "
      ]
    },
    {
      "cell_type": "code",
      "metadata": {
        "id": "3bSwyMyB8l6g",
        "colab_type": "code",
        "colab": {}
      },
      "source": [
        "#carasteristicas=gui_fname()\n",
        "p1='/content/drive/My Drive/df_p1_3FG_raw.xlsx'\n",
        "p2='/content/drive/My Drive/df_p2_3FG_raw.xlsx'\n"
      ],
      "execution_count": 0,
      "outputs": []
    },
    {
      "cell_type": "markdown",
      "metadata": {
        "id": "q-bSdDe6FpRD",
        "colab_type": "text"
      },
      "source": [
        "# Empezamos intentando clasificar la población 2 que es la más numerosa"
      ]
    },
    {
      "cell_type": "code",
      "metadata": {
        "id": "ZxkrzgMv8l6m",
        "colab_type": "code",
        "outputId": "ae73ce49-a6a1-4a98-cb81-3002581149b0",
        "colab": {
          "base_uri": "https://localhost:8080/",
          "height": 292
        }
      },
      "source": [
        "pd.set_option(\"display.max_columns\", 80) # ver el numero de columnas en este caso 73\n",
        "#pd.read_csv('Filename.csv').fillna(1e6).astype(np.float32)\n",
        "\n",
        "df = pd.read_excel(p2).fillna(1e6).astype(np.float32)\n",
        "#eliminamos columnas que molestan\n",
        "df.drop(['Unnamed: 0'], axis=1, inplace=True)\n",
        "df.drop(['Unnamed: 0.1'], axis=1, inplace=True)\n",
        "#y = pd.read_excel(etiquetas).fillna(1e6).astype(np.int32) \n",
        "#df_BCU = pd.read_excel(BCU).fillna(1e6).astype(np.float32)\n",
        "#print(X.shape,y.shape)\n",
        "#y\n",
        "print (df.shape)\n",
        "df.head(5)"
      ],
      "execution_count": 0,
      "outputs": [
        {
          "output_type": "stream",
          "text": [
            "(1590, 57)\n"
          ],
          "name": "stdout"
        },
        {
          "output_type": "execute_result",
          "data": {
            "text/html": [
              "<div>\n",
              "<style scoped>\n",
              "    .dataframe tbody tr th:only-of-type {\n",
              "        vertical-align: middle;\n",
              "    }\n",
              "\n",
              "    .dataframe tbody tr th {\n",
              "        vertical-align: top;\n",
              "    }\n",
              "\n",
              "    .dataframe thead th {\n",
              "        text-align: right;\n",
              "    }\n",
              "</style>\n",
              "<table border=\"1\" class=\"dataframe\">\n",
              "  <thead>\n",
              "    <tr style=\"text-align: right;\">\n",
              "      <th></th>\n",
              "      <th>ra</th>\n",
              "      <th>dec</th>\n",
              "      <th>flux_1_100_gev</th>\n",
              "      <th>spectral_index</th>\n",
              "      <th>spectral_index_error</th>\n",
              "      <th>detection_significance</th>\n",
              "      <th>lii</th>\n",
              "      <th>bii</th>\n",
              "      <th>pivot_energy</th>\n",
              "      <th>flux_density</th>\n",
              "      <th>flux_density_error</th>\n",
              "      <th>energy_flux</th>\n",
              "      <th>energy_flux_error</th>\n",
              "      <th>curve_significance</th>\n",
              "      <th>spectrum_type</th>\n",
              "      <th>powerlaw_index</th>\n",
              "      <th>flux_100_300_mev</th>\n",
              "      <th>flux_100_300_mev_pos_err</th>\n",
              "      <th>flux_100_300_mev_neg_err</th>\n",
              "      <th>nufnu_100_300_mev</th>\n",
              "      <th>sqrt_ts_100_300_mev</th>\n",
              "      <th>flux_0p3_1_gev</th>\n",
              "      <th>flux_0p3_1_gev_pos_err</th>\n",
              "      <th>flux_0p3_1_gev_neg_err</th>\n",
              "      <th>nufnu_0p3_1_gev</th>\n",
              "      <th>sqrt_ts_0p3_1_gev</th>\n",
              "      <th>flux_1_3_gev</th>\n",
              "      <th>flux_1_3_gev_pos_err</th>\n",
              "      <th>flux_1_3_gev_neg_err</th>\n",
              "      <th>nufnu_1_3_gev</th>\n",
              "      <th>sqrt_ts_1_3_gev</th>\n",
              "      <th>flux_3_10_gev</th>\n",
              "      <th>nufnu_3_10_gev</th>\n",
              "      <th>sqrt_ts_3_10_gev</th>\n",
              "      <th>flux_10_100_gev</th>\n",
              "      <th>nufnu_10_100_gev</th>\n",
              "      <th>sqrt_ts_10_100_gev</th>\n",
              "      <th>variability_index</th>\n",
              "      <th>significance_peak</th>\n",
              "      <th>flux_peak</th>\n",
              "      <th>flux_peak_error</th>\n",
              "      <th>time_peak</th>\n",
              "      <th>time_peak_interval</th>\n",
              "      <th>source_type</th>\n",
              "      <th>analysis_flags</th>\n",
              "      <th>HR12</th>\n",
              "      <th>HR23</th>\n",
              "      <th>HR34</th>\n",
              "      <th>hard_slope</th>\n",
              "      <th>soft_slope</th>\n",
              "      <th>P_E_lg</th>\n",
              "      <th>TS_</th>\n",
              "      <th>sig_</th>\n",
              "      <th>gamm_log</th>\n",
              "      <th>Ts_log</th>\n",
              "      <th>sig_log</th>\n",
              "      <th>F100_log</th>\n",
              "    </tr>\n",
              "  </thead>\n",
              "  <tbody>\n",
              "    <tr>\n",
              "      <th>0</th>\n",
              "      <td>156.604996</td>\n",
              "      <td>-85.715202</td>\n",
              "      <td>9.074170e-10</td>\n",
              "      <td>2.01336</td>\n",
              "      <td>0.08438</td>\n",
              "      <td>13.433965</td>\n",
              "      <td>300.167297</td>\n",
              "      <td>-23.646200</td>\n",
              "      <td>2222.709961</td>\n",
              "      <td>1.858600e-13</td>\n",
              "      <td>2.060600e-14</td>\n",
              "      <td>1.011740e-11</td>\n",
              "      <td>1.150420e-12</td>\n",
              "      <td>0.511</td>\n",
              "      <td>1.0</td>\n",
              "      <td>2.0134</td>\n",
              "      <td>1.008810e-08</td>\n",
              "      <td>3.018620e-09</td>\n",
              "      <td>-2.949990e-09</td>\n",
              "      <td>2.420950e-12</td>\n",
              "      <td>3.427</td>\n",
              "      <td>1.979730e-09</td>\n",
              "      <td>5.195480e-10</td>\n",
              "      <td>-5.032010e-10</td>\n",
              "      <td>1.357070e-12</td>\n",
              "      <td>4.173</td>\n",
              "      <td>5.411360e-10</td>\n",
              "      <td>1.170220e-10</td>\n",
              "      <td>-1.090790e-10</td>\n",
              "      <td>1.298620e-12</td>\n",
              "      <td>6.251</td>\n",
              "      <td>2.340260e-10</td>\n",
              "      <td>1.604210e-12</td>\n",
              "      <td>8.382</td>\n",
              "      <td>8.555690e-11</td>\n",
              "      <td>1.514590e-12</td>\n",
              "      <td>7.324</td>\n",
              "      <td>41.696239</td>\n",
              "      <td>1000000.000000</td>\n",
              "      <td>1.000000e+06</td>\n",
              "      <td>1.000000e+06</td>\n",
              "      <td>1000000.000000</td>\n",
              "      <td>1000000.0</td>\n",
              "      <td>1.0</td>\n",
              "      <td>0.0</td>\n",
              "      <td>-0.671900</td>\n",
              "      <td>-0.570675</td>\n",
              "      <td>-0.396188</td>\n",
              "      <td>-0.174486</td>\n",
              "      <td>-0.101225</td>\n",
              "      <td>3.346883</td>\n",
              "      <td>3.103792</td>\n",
              "      <td>0.038038</td>\n",
              "      <td>0.303921</td>\n",
              "      <td>0.491893</td>\n",
              "      <td>-1.419783</td>\n",
              "      <td>-9.042193</td>\n",
              "    </tr>\n",
              "    <tr>\n",
              "      <th>1</th>\n",
              "      <td>11.687500</td>\n",
              "      <td>-84.320000</td>\n",
              "      <td>2.772770e-10</td>\n",
              "      <td>2.82062</td>\n",
              "      <td>0.13341</td>\n",
              "      <td>6.239794</td>\n",
              "      <td>303.069885</td>\n",
              "      <td>-32.806999</td>\n",
              "      <td>395.730011</td>\n",
              "      <td>6.895600e-12</td>\n",
              "      <td>1.036500e-12</td>\n",
              "      <td>6.497270e-12</td>\n",
              "      <td>9.888820e-13</td>\n",
              "      <td>0.647</td>\n",
              "      <td>1.0</td>\n",
              "      <td>2.8206</td>\n",
              "      <td>1.121860e-08</td>\n",
              "      <td>4.038050e-09</td>\n",
              "      <td>-3.890830e-09</td>\n",
              "      <td>2.493400e-12</td>\n",
              "      <td>2.877</td>\n",
              "      <td>1.951180e-09</td>\n",
              "      <td>5.772040e-10</td>\n",
              "      <td>-5.338970e-10</td>\n",
              "      <td>1.220970e-12</td>\n",
              "      <td>3.740</td>\n",
              "      <td>3.592310e-10</td>\n",
              "      <td>1.122630e-10</td>\n",
              "      <td>-1.019240e-10</td>\n",
              "      <td>7.984120e-13</td>\n",
              "      <td>4.067</td>\n",
              "      <td>2.958340e-11</td>\n",
              "      <td>1.851210e-13</td>\n",
              "      <td>1.964</td>\n",
              "      <td>8.163080e-16</td>\n",
              "      <td>1.085870e-17</td>\n",
              "      <td>0.000</td>\n",
              "      <td>62.983513</td>\n",
              "      <td>1000000.000000</td>\n",
              "      <td>1.000000e+06</td>\n",
              "      <td>1.000000e+06</td>\n",
              "      <td>1000000.000000</td>\n",
              "      <td>1000000.0</td>\n",
              "      <td>0.0</td>\n",
              "      <td>0.0</td>\n",
              "      <td>-0.703688</td>\n",
              "      <td>-0.689033</td>\n",
              "      <td>-0.847828</td>\n",
              "      <td>0.158795</td>\n",
              "      <td>-0.014655</td>\n",
              "      <td>2.597399</td>\n",
              "      <td>10.093845</td>\n",
              "      <td>0.103689</td>\n",
              "      <td>0.450345</td>\n",
              "      <td>1.004057</td>\n",
              "      <td>-0.984266</td>\n",
              "      <td>-9.557086</td>\n",
              "    </tr>\n",
              "    <tr>\n",
              "      <th>2</th>\n",
              "      <td>330.610107</td>\n",
              "      <td>-83.655998</td>\n",
              "      <td>1.985760e-09</td>\n",
              "      <td>2.42962</td>\n",
              "      <td>0.06724</td>\n",
              "      <td>23.074068</td>\n",
              "      <td>307.943298</td>\n",
              "      <td>-31.734699</td>\n",
              "      <td>757.270020</td>\n",
              "      <td>6.903600e-12</td>\n",
              "      <td>4.258600e-13</td>\n",
              "      <td>2.310780e-11</td>\n",
              "      <td>1.767710e-12</td>\n",
              "      <td>5.157</td>\n",
              "      <td>2.0</td>\n",
              "      <td>2.4700</td>\n",
              "      <td>3.435640e-08</td>\n",
              "      <td>6.642110e-09</td>\n",
              "      <td>-6.582910e-09</td>\n",
              "      <td>8.378720e-12</td>\n",
              "      <td>5.745</td>\n",
              "      <td>9.672910e-09</td>\n",
              "      <td>8.147200e-10</td>\n",
              "      <td>-8.147200e-10</td>\n",
              "      <td>6.411070e-12</td>\n",
              "      <td>13.874</td>\n",
              "      <td>1.843210e-09</td>\n",
              "      <td>1.753410e-10</td>\n",
              "      <td>-1.753410e-10</td>\n",
              "      <td>4.121440e-12</td>\n",
              "      <td>15.423</td>\n",
              "      <td>2.393800e-10</td>\n",
              "      <td>1.439750e-12</td>\n",
              "      <td>8.077</td>\n",
              "      <td>2.484270e-12</td>\n",
              "      <td>2.610000e-14</td>\n",
              "      <td>0.213</td>\n",
              "      <td>377.103882</td>\n",
              "      <td>16.296301</td>\n",
              "      <td>2.664750e-07</td>\n",
              "      <td>2.336680e-08</td>\n",
              "      <td>55212.718750</td>\n",
              "      <td>2630000.0</td>\n",
              "      <td>0.0</td>\n",
              "      <td>0.0</td>\n",
              "      <td>-0.560615</td>\n",
              "      <td>-0.679890</td>\n",
              "      <td>-0.770113</td>\n",
              "      <td>0.090223</td>\n",
              "      <td>0.119275</td>\n",
              "      <td>2.879251</td>\n",
              "      <td>16.343189</td>\n",
              "      <td>0.223498</td>\n",
              "      <td>0.385538</td>\n",
              "      <td>1.213337</td>\n",
              "      <td>-0.650727</td>\n",
              "      <td>-8.702073</td>\n",
              "    </tr>\n",
              "    <tr>\n",
              "      <th>3</th>\n",
              "      <td>83.410599</td>\n",
              "      <td>-83.384697</td>\n",
              "      <td>8.110600e-10</td>\n",
              "      <td>2.29598</td>\n",
              "      <td>0.07827</td>\n",
              "      <td>11.699274</td>\n",
              "      <td>295.786896</td>\n",
              "      <td>-29.149300</td>\n",
              "      <td>946.090027</td>\n",
              "      <td>1.196400e-12</td>\n",
              "      <td>1.248500e-13</td>\n",
              "      <td>9.813590e-12</td>\n",
              "      <td>1.027190e-12</td>\n",
              "      <td>0.809</td>\n",
              "      <td>1.0</td>\n",
              "      <td>2.2960</td>\n",
              "      <td>7.750010e-09</td>\n",
              "      <td>2.872050e-09</td>\n",
              "      <td>-2.839320e-09</td>\n",
              "      <td>1.809270e-12</td>\n",
              "      <td>2.754</td>\n",
              "      <td>3.472950e-09</td>\n",
              "      <td>5.669210e-10</td>\n",
              "      <td>-5.520220e-10</td>\n",
              "      <td>2.303550e-12</td>\n",
              "      <td>6.847</td>\n",
              "      <td>6.923790e-10</td>\n",
              "      <td>1.332310e-10</td>\n",
              "      <td>-1.250930e-10</td>\n",
              "      <td>1.616390e-12</td>\n",
              "      <td>6.802</td>\n",
              "      <td>1.004000e-10</td>\n",
              "      <td>6.659350e-13</td>\n",
              "      <td>4.141</td>\n",
              "      <td>5.346040e-11</td>\n",
              "      <td>8.475950e-13</td>\n",
              "      <td>5.404</td>\n",
              "      <td>144.790558</td>\n",
              "      <td>7.860495</td>\n",
              "      <td>1.053960e-07</td>\n",
              "      <td>1.943020e-08</td>\n",
              "      <td>54695.242188</td>\n",
              "      <td>2630000.0</td>\n",
              "      <td>0.0</td>\n",
              "      <td>0.0</td>\n",
              "      <td>-0.381099</td>\n",
              "      <td>-0.667551</td>\n",
              "      <td>-0.746714</td>\n",
              "      <td>0.079162</td>\n",
              "      <td>0.286452</td>\n",
              "      <td>2.975932</td>\n",
              "      <td>12.376029</td>\n",
              "      <td>0.069150</td>\n",
              "      <td>0.360968</td>\n",
              "      <td>1.092581</td>\n",
              "      <td>-1.160210</td>\n",
              "      <td>-9.090947</td>\n",
              "    </tr>\n",
              "    <tr>\n",
              "      <th>4</th>\n",
              "      <td>4.745400</td>\n",
              "      <td>-81.876900</td>\n",
              "      <td>6.529680e-10</td>\n",
              "      <td>2.07544</td>\n",
              "      <td>0.10204</td>\n",
              "      <td>10.650256</td>\n",
              "      <td>304.329803</td>\n",
              "      <td>-35.163101</td>\n",
              "      <td>2187.520020</td>\n",
              "      <td>1.392900e-13</td>\n",
              "      <td>1.858100e-14</td>\n",
              "      <td>7.255220e-12</td>\n",
              "      <td>9.692230e-13</td>\n",
              "      <td>0.310</td>\n",
              "      <td>1.0</td>\n",
              "      <td>2.0754</td>\n",
              "      <td>9.456800e-09</td>\n",
              "      <td>3.084540e-09</td>\n",
              "      <td>-2.976170e-09</td>\n",
              "      <td>2.255640e-12</td>\n",
              "      <td>3.206</td>\n",
              "      <td>1.945380e-09</td>\n",
              "      <td>5.028870e-10</td>\n",
              "      <td>-4.849710e-10</td>\n",
              "      <td>1.323820e-12</td>\n",
              "      <td>4.257</td>\n",
              "      <td>4.000200e-10</td>\n",
              "      <td>1.082130e-10</td>\n",
              "      <td>-1.006460e-10</td>\n",
              "      <td>9.541290e-13</td>\n",
              "      <td>4.752</td>\n",
              "      <td>1.268910e-10</td>\n",
              "      <td>8.634840e-13</td>\n",
              "      <td>5.924</td>\n",
              "      <td>7.248200e-11</td>\n",
              "      <td>1.251450e-12</td>\n",
              "      <td>6.454</td>\n",
              "      <td>85.652306</td>\n",
              "      <td>7.363566</td>\n",
              "      <td>4.243460e-08</td>\n",
              "      <td>1.054210e-08</td>\n",
              "      <td>55030.082031</td>\n",
              "      <td>2630000.0</td>\n",
              "      <td>1.0</td>\n",
              "      <td>0.0</td>\n",
              "      <td>-0.658771</td>\n",
              "      <td>-0.658890</td>\n",
              "      <td>-0.518359</td>\n",
              "      <td>-0.140531</td>\n",
              "      <td>0.000119</td>\n",
              "      <td>3.339952</td>\n",
              "      <td>8.042276</td>\n",
              "      <td>0.029107</td>\n",
              "      <td>0.317110</td>\n",
              "      <td>0.905379</td>\n",
              "      <td>-1.535998</td>\n",
              "      <td>-9.185108</td>\n",
              "    </tr>\n",
              "  </tbody>\n",
              "</table>\n",
              "</div>"
            ],
            "text/plain": [
              "           ra        dec  flux_1_100_gev  spectral_index  \\\n",
              "0  156.604996 -85.715202    9.074170e-10         2.01336   \n",
              "1   11.687500 -84.320000    2.772770e-10         2.82062   \n",
              "2  330.610107 -83.655998    1.985760e-09         2.42962   \n",
              "3   83.410599 -83.384697    8.110600e-10         2.29598   \n",
              "4    4.745400 -81.876900    6.529680e-10         2.07544   \n",
              "\n",
              "   spectral_index_error  detection_significance         lii        bii  \\\n",
              "0               0.08438               13.433965  300.167297 -23.646200   \n",
              "1               0.13341                6.239794  303.069885 -32.806999   \n",
              "2               0.06724               23.074068  307.943298 -31.734699   \n",
              "3               0.07827               11.699274  295.786896 -29.149300   \n",
              "4               0.10204               10.650256  304.329803 -35.163101   \n",
              "\n",
              "   pivot_energy  flux_density  flux_density_error   energy_flux  \\\n",
              "0   2222.709961  1.858600e-13        2.060600e-14  1.011740e-11   \n",
              "1    395.730011  6.895600e-12        1.036500e-12  6.497270e-12   \n",
              "2    757.270020  6.903600e-12        4.258600e-13  2.310780e-11   \n",
              "3    946.090027  1.196400e-12        1.248500e-13  9.813590e-12   \n",
              "4   2187.520020  1.392900e-13        1.858100e-14  7.255220e-12   \n",
              "\n",
              "   energy_flux_error  curve_significance  spectrum_type  powerlaw_index  \\\n",
              "0       1.150420e-12               0.511            1.0          2.0134   \n",
              "1       9.888820e-13               0.647            1.0          2.8206   \n",
              "2       1.767710e-12               5.157            2.0          2.4700   \n",
              "3       1.027190e-12               0.809            1.0          2.2960   \n",
              "4       9.692230e-13               0.310            1.0          2.0754   \n",
              "\n",
              "   flux_100_300_mev  flux_100_300_mev_pos_err  flux_100_300_mev_neg_err  \\\n",
              "0      1.008810e-08              3.018620e-09             -2.949990e-09   \n",
              "1      1.121860e-08              4.038050e-09             -3.890830e-09   \n",
              "2      3.435640e-08              6.642110e-09             -6.582910e-09   \n",
              "3      7.750010e-09              2.872050e-09             -2.839320e-09   \n",
              "4      9.456800e-09              3.084540e-09             -2.976170e-09   \n",
              "\n",
              "   nufnu_100_300_mev  sqrt_ts_100_300_mev  flux_0p3_1_gev  \\\n",
              "0       2.420950e-12                3.427    1.979730e-09   \n",
              "1       2.493400e-12                2.877    1.951180e-09   \n",
              "2       8.378720e-12                5.745    9.672910e-09   \n",
              "3       1.809270e-12                2.754    3.472950e-09   \n",
              "4       2.255640e-12                3.206    1.945380e-09   \n",
              "\n",
              "   flux_0p3_1_gev_pos_err  flux_0p3_1_gev_neg_err  nufnu_0p3_1_gev  \\\n",
              "0            5.195480e-10           -5.032010e-10     1.357070e-12   \n",
              "1            5.772040e-10           -5.338970e-10     1.220970e-12   \n",
              "2            8.147200e-10           -8.147200e-10     6.411070e-12   \n",
              "3            5.669210e-10           -5.520220e-10     2.303550e-12   \n",
              "4            5.028870e-10           -4.849710e-10     1.323820e-12   \n",
              "\n",
              "   sqrt_ts_0p3_1_gev  flux_1_3_gev  flux_1_3_gev_pos_err  \\\n",
              "0              4.173  5.411360e-10          1.170220e-10   \n",
              "1              3.740  3.592310e-10          1.122630e-10   \n",
              "2             13.874  1.843210e-09          1.753410e-10   \n",
              "3              6.847  6.923790e-10          1.332310e-10   \n",
              "4              4.257  4.000200e-10          1.082130e-10   \n",
              "\n",
              "   flux_1_3_gev_neg_err  nufnu_1_3_gev  sqrt_ts_1_3_gev  flux_3_10_gev  \\\n",
              "0         -1.090790e-10   1.298620e-12            6.251   2.340260e-10   \n",
              "1         -1.019240e-10   7.984120e-13            4.067   2.958340e-11   \n",
              "2         -1.753410e-10   4.121440e-12           15.423   2.393800e-10   \n",
              "3         -1.250930e-10   1.616390e-12            6.802   1.004000e-10   \n",
              "4         -1.006460e-10   9.541290e-13            4.752   1.268910e-10   \n",
              "\n",
              "   nufnu_3_10_gev  sqrt_ts_3_10_gev  flux_10_100_gev  nufnu_10_100_gev  \\\n",
              "0    1.604210e-12             8.382     8.555690e-11      1.514590e-12   \n",
              "1    1.851210e-13             1.964     8.163080e-16      1.085870e-17   \n",
              "2    1.439750e-12             8.077     2.484270e-12      2.610000e-14   \n",
              "3    6.659350e-13             4.141     5.346040e-11      8.475950e-13   \n",
              "4    8.634840e-13             5.924     7.248200e-11      1.251450e-12   \n",
              "\n",
              "   sqrt_ts_10_100_gev  variability_index  significance_peak     flux_peak  \\\n",
              "0               7.324          41.696239     1000000.000000  1.000000e+06   \n",
              "1               0.000          62.983513     1000000.000000  1.000000e+06   \n",
              "2               0.213         377.103882          16.296301  2.664750e-07   \n",
              "3               5.404         144.790558           7.860495  1.053960e-07   \n",
              "4               6.454          85.652306           7.363566  4.243460e-08   \n",
              "\n",
              "   flux_peak_error       time_peak  time_peak_interval  source_type  \\\n",
              "0     1.000000e+06  1000000.000000           1000000.0          1.0   \n",
              "1     1.000000e+06  1000000.000000           1000000.0          0.0   \n",
              "2     2.336680e-08    55212.718750           2630000.0          0.0   \n",
              "3     1.943020e-08    54695.242188           2630000.0          0.0   \n",
              "4     1.054210e-08    55030.082031           2630000.0          1.0   \n",
              "\n",
              "   analysis_flags      HR12      HR23      HR34  hard_slope  soft_slope  \\\n",
              "0             0.0 -0.671900 -0.570675 -0.396188   -0.174486   -0.101225   \n",
              "1             0.0 -0.703688 -0.689033 -0.847828    0.158795   -0.014655   \n",
              "2             0.0 -0.560615 -0.679890 -0.770113    0.090223    0.119275   \n",
              "3             0.0 -0.381099 -0.667551 -0.746714    0.079162    0.286452   \n",
              "4             0.0 -0.658771 -0.658890 -0.518359   -0.140531    0.000119   \n",
              "\n",
              "     P_E_lg        TS_      sig_  gamm_log    Ts_log   sig_log  F100_log  \n",
              "0  3.346883   3.103792  0.038038  0.303921  0.491893 -1.419783 -9.042193  \n",
              "1  2.597399  10.093845  0.103689  0.450345  1.004057 -0.984266 -9.557086  \n",
              "2  2.879251  16.343189  0.223498  0.385538  1.213337 -0.650727 -8.702073  \n",
              "3  2.975932  12.376029  0.069150  0.360968  1.092581 -1.160210 -9.090947  \n",
              "4  3.339952   8.042276  0.029107  0.317110  0.905379 -1.535998 -9.185108  "
            ]
          },
          "metadata": {
            "tags": []
          },
          "execution_count": 492
        }
      ]
    },
    {
      "cell_type": "markdown",
      "metadata": {
        "id": "JnOPSNz3GfX5",
        "colab_type": "text"
      },
      "source": [
        "# separamos en dos dataframes :\n",
        "\n",
        "1.   df_Ent , compuesto por los BLL y FSRQ\n",
        "2.   df_UNK ,  compuesto por blazars a predecir\n",
        "\n"
      ]
    },
    {
      "cell_type": "code",
      "metadata": {
        "id": "Liv2kdWQ8l6r",
        "colab_type": "code",
        "outputId": "bdb72b2d-01fe-40bf-c4dc-5f85f2c6a1eb",
        "colab": {
          "base_uri": "https://localhost:8080/",
          "height": 82
        }
      },
      "source": [
        "#sns.pairplot(X)\n",
        "#y.reset_index(drop=True , inplace = True)\n",
        "#y.drop(['Unnamed: 0'], axis=1)\n",
        "#y.drop(['Unnamed: 0'], axis=1, inplace=True)\n",
        "#y_ = y['source_type']\n",
        "#type(y_)\n",
        "#y_\n",
        "df['source_type'].apply(pd.Series).stack().value_counts()"
      ],
      "execution_count": 0,
      "outputs": [
        {
          "output_type": "execute_result",
          "data": {
            "text/plain": [
              "1.0    626\n",
              "2.0    563\n",
              "0.0    401\n",
              "dtype: int64"
            ]
          },
          "metadata": {
            "tags": []
          },
          "execution_count": 493
        }
      ]
    },
    {
      "cell_type": "code",
      "metadata": {
        "id": "Zb9TJYop8l6w",
        "colab_type": "code",
        "outputId": "414fce8f-1732-4ca1-aecf-dbde7415f8fe",
        "colab": {
          "base_uri": "https://localhost:8080/",
          "height": 50
        }
      },
      "source": [
        "clase='source_type'\n",
        "df_bl = df.loc[ (df[clase]== 1)  | (df[clase]== 0)]\n",
        "df_UNK = df.loc[ (df[clase]== 2)   ]\n",
        "df_UNK['source_type'].apply(pd.Series).stack().value_counts()\n",
        "#y_.shape\n",
        "#y.info()"
      ],
      "execution_count": 0,
      "outputs": [
        {
          "output_type": "execute_result",
          "data": {
            "text/plain": [
              "2.0    563\n",
              "dtype: int64"
            ]
          },
          "metadata": {
            "tags": []
          },
          "execution_count": 494
        }
      ]
    },
    {
      "cell_type": "code",
      "metadata": {
        "id": "gupcCg3B8l6z",
        "colab_type": "code",
        "outputId": "49f804ff-99d5-475f-96b9-87f387792c92",
        "colab": {
          "base_uri": "https://localhost:8080/",
          "height": 292
        }
      },
      "source": [
        "df_UNK.head(5)"
      ],
      "execution_count": 0,
      "outputs": [
        {
          "output_type": "execute_result",
          "data": {
            "text/html": [
              "<div>\n",
              "<style scoped>\n",
              "    .dataframe tbody tr th:only-of-type {\n",
              "        vertical-align: middle;\n",
              "    }\n",
              "\n",
              "    .dataframe tbody tr th {\n",
              "        vertical-align: top;\n",
              "    }\n",
              "\n",
              "    .dataframe thead th {\n",
              "        text-align: right;\n",
              "    }\n",
              "</style>\n",
              "<table border=\"1\" class=\"dataframe\">\n",
              "  <thead>\n",
              "    <tr style=\"text-align: right;\">\n",
              "      <th></th>\n",
              "      <th>ra</th>\n",
              "      <th>dec</th>\n",
              "      <th>flux_1_100_gev</th>\n",
              "      <th>spectral_index</th>\n",
              "      <th>spectral_index_error</th>\n",
              "      <th>detection_significance</th>\n",
              "      <th>lii</th>\n",
              "      <th>bii</th>\n",
              "      <th>pivot_energy</th>\n",
              "      <th>flux_density</th>\n",
              "      <th>flux_density_error</th>\n",
              "      <th>energy_flux</th>\n",
              "      <th>energy_flux_error</th>\n",
              "      <th>curve_significance</th>\n",
              "      <th>spectrum_type</th>\n",
              "      <th>powerlaw_index</th>\n",
              "      <th>flux_100_300_mev</th>\n",
              "      <th>flux_100_300_mev_pos_err</th>\n",
              "      <th>flux_100_300_mev_neg_err</th>\n",
              "      <th>nufnu_100_300_mev</th>\n",
              "      <th>sqrt_ts_100_300_mev</th>\n",
              "      <th>flux_0p3_1_gev</th>\n",
              "      <th>flux_0p3_1_gev_pos_err</th>\n",
              "      <th>flux_0p3_1_gev_neg_err</th>\n",
              "      <th>nufnu_0p3_1_gev</th>\n",
              "      <th>sqrt_ts_0p3_1_gev</th>\n",
              "      <th>flux_1_3_gev</th>\n",
              "      <th>flux_1_3_gev_pos_err</th>\n",
              "      <th>flux_1_3_gev_neg_err</th>\n",
              "      <th>nufnu_1_3_gev</th>\n",
              "      <th>sqrt_ts_1_3_gev</th>\n",
              "      <th>flux_3_10_gev</th>\n",
              "      <th>nufnu_3_10_gev</th>\n",
              "      <th>sqrt_ts_3_10_gev</th>\n",
              "      <th>flux_10_100_gev</th>\n",
              "      <th>nufnu_10_100_gev</th>\n",
              "      <th>sqrt_ts_10_100_gev</th>\n",
              "      <th>variability_index</th>\n",
              "      <th>significance_peak</th>\n",
              "      <th>flux_peak</th>\n",
              "      <th>flux_peak_error</th>\n",
              "      <th>time_peak</th>\n",
              "      <th>time_peak_interval</th>\n",
              "      <th>source_type</th>\n",
              "      <th>analysis_flags</th>\n",
              "      <th>HR12</th>\n",
              "      <th>HR23</th>\n",
              "      <th>HR34</th>\n",
              "      <th>hard_slope</th>\n",
              "      <th>soft_slope</th>\n",
              "      <th>P_E_lg</th>\n",
              "      <th>TS_</th>\n",
              "      <th>sig_</th>\n",
              "      <th>gamm_log</th>\n",
              "      <th>Ts_log</th>\n",
              "      <th>sig_log</th>\n",
              "      <th>F100_log</th>\n",
              "    </tr>\n",
              "  </thead>\n",
              "  <tbody>\n",
              "    <tr>\n",
              "      <th>1027</th>\n",
              "      <td>85.560303</td>\n",
              "      <td>-87.618500</td>\n",
              "      <td>4.170300e-10</td>\n",
              "      <td>2.03895</td>\n",
              "      <td>0.14339</td>\n",
              "      <td>6.431914</td>\n",
              "      <td>300.360992</td>\n",
              "      <td>-27.813000</td>\n",
              "      <td>2499.959961</td>\n",
              "      <td>6.744600e-14</td>\n",
              "      <td>1.332100e-14</td>\n",
              "      <td>4.636140e-12</td>\n",
              "      <td>9.172090e-13</td>\n",
              "      <td>0.308</td>\n",
              "      <td>1.0</td>\n",
              "      <td>2.0389</td>\n",
              "      <td>5.856320e-09</td>\n",
              "      <td>2.706810e-09</td>\n",
              "      <td>-2.661290e-09</td>\n",
              "      <td>1.401870e-12</td>\n",
              "      <td>2.210</td>\n",
              "      <td>3.402460e-10</td>\n",
              "      <td>4.098260e-10</td>\n",
              "      <td>1.000000e+06</td>\n",
              "      <td>2.325300e-13</td>\n",
              "      <td>0.782</td>\n",
              "      <td>2.440210e-10</td>\n",
              "      <td>1.023570e-10</td>\n",
              "      <td>-9.301360e-11</td>\n",
              "      <td>5.841320e-13</td>\n",
              "      <td>2.924</td>\n",
              "      <td>1.601190e-10</td>\n",
              "      <td>1.094290e-12</td>\n",
              "      <td>5.529</td>\n",
              "      <td>2.434160e-11</td>\n",
              "      <td>4.264750e-13</td>\n",
              "      <td>3.656</td>\n",
              "      <td>50.015041</td>\n",
              "      <td>1000000.0</td>\n",
              "      <td>1000000.0</td>\n",
              "      <td>1000000.0</td>\n",
              "      <td>1000000.0</td>\n",
              "      <td>1000000.0</td>\n",
              "      <td>2.0</td>\n",
              "      <td>256.0</td>\n",
              "      <td>-0.890182</td>\n",
              "      <td>-0.164694</td>\n",
              "      <td>-0.207606</td>\n",
              "      <td>0.042913</td>\n",
              "      <td>-0.725489</td>\n",
              "      <td>3.397933</td>\n",
              "      <td>7.776074</td>\n",
              "      <td>0.047886</td>\n",
              "      <td>0.309407</td>\n",
              "      <td>0.890760</td>\n",
              "      <td>-1.319790</td>\n",
              "      <td>-9.379832</td>\n",
              "    </tr>\n",
              "    <tr>\n",
              "      <th>1028</th>\n",
              "      <td>317.163086</td>\n",
              "      <td>-86.317596</td>\n",
              "      <td>1.974810e-10</td>\n",
              "      <td>1.74000</td>\n",
              "      <td>0.26993</td>\n",
              "      <td>4.728537</td>\n",
              "      <td>306.415100</td>\n",
              "      <td>-29.160400</td>\n",
              "      <td>8678.959961</td>\n",
              "      <td>3.518900e-15</td>\n",
              "      <td>1.118300e-15</td>\n",
              "      <td>2.571730e-12</td>\n",
              "      <td>8.174750e-13</td>\n",
              "      <td>0.417</td>\n",
              "      <td>1.0</td>\n",
              "      <td>1.7400</td>\n",
              "      <td>1.034170e-09</td>\n",
              "      <td>2.552510e-09</td>\n",
              "      <td>1.000000e+06</td>\n",
              "      <td>2.550060e-13</td>\n",
              "      <td>0.438</td>\n",
              "      <td>4.628000e-10</td>\n",
              "      <td>4.352200e-10</td>\n",
              "      <td>-4.140330e-10</td>\n",
              "      <td>3.277170e-13</td>\n",
              "      <td>1.067</td>\n",
              "      <td>6.058490e-11</td>\n",
              "      <td>8.389500e-11</td>\n",
              "      <td>1.000000e+06</td>\n",
              "      <td>1.493900e-13</td>\n",
              "      <td>0.841</td>\n",
              "      <td>2.303760e-12</td>\n",
              "      <td>1.631330e-14</td>\n",
              "      <td>0.138</td>\n",
              "      <td>5.805490e-11</td>\n",
              "      <td>1.151920e-12</td>\n",
              "      <td>5.852</td>\n",
              "      <td>35.195969</td>\n",
              "      <td>1000000.0</td>\n",
              "      <td>1000000.0</td>\n",
              "      <td>1000000.0</td>\n",
              "      <td>1000000.0</td>\n",
              "      <td>1000000.0</td>\n",
              "      <td>2.0</td>\n",
              "      <td>4.0</td>\n",
              "      <td>-0.381684</td>\n",
              "      <td>-0.768488</td>\n",
              "      <td>-0.926735</td>\n",
              "      <td>0.158247</td>\n",
              "      <td>0.386804</td>\n",
              "      <td>3.938468</td>\n",
              "      <td>7.443311</td>\n",
              "      <td>0.088188</td>\n",
              "      <td>0.240549</td>\n",
              "      <td>0.871766</td>\n",
              "      <td>-1.054591</td>\n",
              "      <td>-9.704474</td>\n",
              "    </tr>\n",
              "    <tr>\n",
              "      <th>1029</th>\n",
              "      <td>186.165298</td>\n",
              "      <td>-83.209297</td>\n",
              "      <td>4.487580e-10</td>\n",
              "      <td>2.69452</td>\n",
              "      <td>0.10959</td>\n",
              "      <td>7.470914</td>\n",
              "      <td>302.089386</td>\n",
              "      <td>-20.381399</td>\n",
              "      <td>488.019989</td>\n",
              "      <td>5.254500e-12</td>\n",
              "      <td>6.981400e-13</td>\n",
              "      <td>8.609830e-12</td>\n",
              "      <td>1.159620e-12</td>\n",
              "      <td>1.103</td>\n",
              "      <td>1.0</td>\n",
              "      <td>2.6945</td>\n",
              "      <td>1.585340e-08</td>\n",
              "      <td>4.358800e-09</td>\n",
              "      <td>-4.375290e-09</td>\n",
              "      <td>3.564340e-12</td>\n",
              "      <td>3.692</td>\n",
              "      <td>3.458890e-09</td>\n",
              "      <td>6.843420e-10</td>\n",
              "      <td>-6.694150e-10</td>\n",
              "      <td>2.194040e-12</td>\n",
              "      <td>5.447</td>\n",
              "      <td>3.306700e-10</td>\n",
              "      <td>1.205140e-10</td>\n",
              "      <td>-1.117190e-10</td>\n",
              "      <td>7.434510e-13</td>\n",
              "      <td>3.296</td>\n",
              "      <td>7.640900e-11</td>\n",
              "      <td>4.846760e-13</td>\n",
              "      <td>3.325</td>\n",
              "      <td>3.678400e-12</td>\n",
              "      <td>5.084610e-14</td>\n",
              "      <td>0.469</td>\n",
              "      <td>56.541351</td>\n",
              "      <td>1000000.0</td>\n",
              "      <td>1000000.0</td>\n",
              "      <td>1000000.0</td>\n",
              "      <td>1000000.0</td>\n",
              "      <td>1000000.0</td>\n",
              "      <td>2.0</td>\n",
              "      <td>0.0</td>\n",
              "      <td>-0.641794</td>\n",
              "      <td>-0.825484</td>\n",
              "      <td>-0.624599</td>\n",
              "      <td>-0.200885</td>\n",
              "      <td>0.183690</td>\n",
              "      <td>2.688438</td>\n",
              "      <td>7.568197</td>\n",
              "      <td>0.147639</td>\n",
              "      <td>0.430481</td>\n",
              "      <td>0.878992</td>\n",
              "      <td>-0.830798</td>\n",
              "      <td>-9.347988</td>\n",
              "    </tr>\n",
              "    <tr>\n",
              "      <th>1030</th>\n",
              "      <td>344.541290</td>\n",
              "      <td>-82.805603</td>\n",
              "      <td>7.053620e-10</td>\n",
              "      <td>2.19382</td>\n",
              "      <td>0.11050</td>\n",
              "      <td>8.783147</td>\n",
              "      <td>307.012695</td>\n",
              "      <td>-33.402302</td>\n",
              "      <td>1878.079956</td>\n",
              "      <td>2.121000e-13</td>\n",
              "      <td>3.074500e-14</td>\n",
              "      <td>8.055360e-12</td>\n",
              "      <td>1.185090e-12</td>\n",
              "      <td>1.339</td>\n",
              "      <td>1.0</td>\n",
              "      <td>2.1938</td>\n",
              "      <td>2.145630e-09</td>\n",
              "      <td>5.739860e-09</td>\n",
              "      <td>1.000000e+06</td>\n",
              "      <td>5.058890e-13</td>\n",
              "      <td>0.329</td>\n",
              "      <td>1.988640e-09</td>\n",
              "      <td>6.748210e-10</td>\n",
              "      <td>-6.505440e-10</td>\n",
              "      <td>1.334690e-12</td>\n",
              "      <td>3.162</td>\n",
              "      <td>5.644010e-10</td>\n",
              "      <td>1.349750e-10</td>\n",
              "      <td>-1.231120e-10</td>\n",
              "      <td>1.330720e-12</td>\n",
              "      <td>5.472</td>\n",
              "      <td>1.857650e-10</td>\n",
              "      <td>1.246770e-12</td>\n",
              "      <td>6.455</td>\n",
              "      <td>2.528040e-11</td>\n",
              "      <td>4.166490e-13</td>\n",
              "      <td>3.273</td>\n",
              "      <td>54.801598</td>\n",
              "      <td>1000000.0</td>\n",
              "      <td>1000000.0</td>\n",
              "      <td>1000000.0</td>\n",
              "      <td>1000000.0</td>\n",
              "      <td>1000000.0</td>\n",
              "      <td>2.0</td>\n",
              "      <td>0.0</td>\n",
              "      <td>-0.037973</td>\n",
              "      <td>-0.557860</td>\n",
              "      <td>-0.504736</td>\n",
              "      <td>-0.053124</td>\n",
              "      <td>0.519887</td>\n",
              "      <td>3.273714</td>\n",
              "      <td>6.239404</td>\n",
              "      <td>0.152451</td>\n",
              "      <td>0.341201</td>\n",
              "      <td>0.795143</td>\n",
              "      <td>-0.816870</td>\n",
              "      <td>-9.151587</td>\n",
              "    </tr>\n",
              "    <tr>\n",
              "      <th>1031</th>\n",
              "      <td>226.141693</td>\n",
              "      <td>-82.709503</td>\n",
              "      <td>3.001340e-10</td>\n",
              "      <td>2.29785</td>\n",
              "      <td>0.16781</td>\n",
              "      <td>4.106724</td>\n",
              "      <td>307.208893</td>\n",
              "      <td>-20.970200</td>\n",
              "      <td>1438.089966</td>\n",
              "      <td>1.694100e-13</td>\n",
              "      <td>4.180000e-14</td>\n",
              "      <td>3.636390e-12</td>\n",
              "      <td>9.182700e-13</td>\n",
              "      <td>0.459</td>\n",
              "      <td>1.0</td>\n",
              "      <td>2.2979</td>\n",
              "      <td>1.112970e-08</td>\n",
              "      <td>3.201060e-09</td>\n",
              "      <td>-3.148340e-09</td>\n",
              "      <td>2.597810e-12</td>\n",
              "      <td>3.585</td>\n",
              "      <td>1.214770e-09</td>\n",
              "      <td>5.359770e-10</td>\n",
              "      <td>-5.216660e-10</td>\n",
              "      <td>8.055620e-13</td>\n",
              "      <td>2.391</td>\n",
              "      <td>2.399310e-10</td>\n",
              "      <td>1.127720e-10</td>\n",
              "      <td>-1.033030e-10</td>\n",
              "      <td>5.600270e-13</td>\n",
              "      <td>2.511</td>\n",
              "      <td>5.106580e-11</td>\n",
              "      <td>3.386380e-13</td>\n",
              "      <td>2.471</td>\n",
              "      <td>1.038210e-11</td>\n",
              "      <td>1.644900e-13</td>\n",
              "      <td>1.937</td>\n",
              "      <td>45.303288</td>\n",
              "      <td>1000000.0</td>\n",
              "      <td>1000000.0</td>\n",
              "      <td>1000000.0</td>\n",
              "      <td>1000000.0</td>\n",
              "      <td>1000000.0</td>\n",
              "      <td>2.0</td>\n",
              "      <td>8.0</td>\n",
              "      <td>-0.803188</td>\n",
              "      <td>-0.670130</td>\n",
              "      <td>-0.649028</td>\n",
              "      <td>-0.021102</td>\n",
              "      <td>-0.133058</td>\n",
              "      <td>3.157786</td>\n",
              "      <td>11.031491</td>\n",
              "      <td>0.111768</td>\n",
              "      <td>0.361322</td>\n",
              "      <td>1.042634</td>\n",
              "      <td>-0.951683</td>\n",
              "      <td>-9.522685</td>\n",
              "    </tr>\n",
              "  </tbody>\n",
              "</table>\n",
              "</div>"
            ],
            "text/plain": [
              "              ra        dec  flux_1_100_gev  spectral_index  \\\n",
              "1027   85.560303 -87.618500    4.170300e-10         2.03895   \n",
              "1028  317.163086 -86.317596    1.974810e-10         1.74000   \n",
              "1029  186.165298 -83.209297    4.487580e-10         2.69452   \n",
              "1030  344.541290 -82.805603    7.053620e-10         2.19382   \n",
              "1031  226.141693 -82.709503    3.001340e-10         2.29785   \n",
              "\n",
              "      spectral_index_error  detection_significance         lii        bii  \\\n",
              "1027               0.14339                6.431914  300.360992 -27.813000   \n",
              "1028               0.26993                4.728537  306.415100 -29.160400   \n",
              "1029               0.10959                7.470914  302.089386 -20.381399   \n",
              "1030               0.11050                8.783147  307.012695 -33.402302   \n",
              "1031               0.16781                4.106724  307.208893 -20.970200   \n",
              "\n",
              "      pivot_energy  flux_density  flux_density_error   energy_flux  \\\n",
              "1027   2499.959961  6.744600e-14        1.332100e-14  4.636140e-12   \n",
              "1028   8678.959961  3.518900e-15        1.118300e-15  2.571730e-12   \n",
              "1029    488.019989  5.254500e-12        6.981400e-13  8.609830e-12   \n",
              "1030   1878.079956  2.121000e-13        3.074500e-14  8.055360e-12   \n",
              "1031   1438.089966  1.694100e-13        4.180000e-14  3.636390e-12   \n",
              "\n",
              "      energy_flux_error  curve_significance  spectrum_type  powerlaw_index  \\\n",
              "1027       9.172090e-13               0.308            1.0          2.0389   \n",
              "1028       8.174750e-13               0.417            1.0          1.7400   \n",
              "1029       1.159620e-12               1.103            1.0          2.6945   \n",
              "1030       1.185090e-12               1.339            1.0          2.1938   \n",
              "1031       9.182700e-13               0.459            1.0          2.2979   \n",
              "\n",
              "      flux_100_300_mev  flux_100_300_mev_pos_err  flux_100_300_mev_neg_err  \\\n",
              "1027      5.856320e-09              2.706810e-09             -2.661290e-09   \n",
              "1028      1.034170e-09              2.552510e-09              1.000000e+06   \n",
              "1029      1.585340e-08              4.358800e-09             -4.375290e-09   \n",
              "1030      2.145630e-09              5.739860e-09              1.000000e+06   \n",
              "1031      1.112970e-08              3.201060e-09             -3.148340e-09   \n",
              "\n",
              "      nufnu_100_300_mev  sqrt_ts_100_300_mev  flux_0p3_1_gev  \\\n",
              "1027       1.401870e-12                2.210    3.402460e-10   \n",
              "1028       2.550060e-13                0.438    4.628000e-10   \n",
              "1029       3.564340e-12                3.692    3.458890e-09   \n",
              "1030       5.058890e-13                0.329    1.988640e-09   \n",
              "1031       2.597810e-12                3.585    1.214770e-09   \n",
              "\n",
              "      flux_0p3_1_gev_pos_err  flux_0p3_1_gev_neg_err  nufnu_0p3_1_gev  \\\n",
              "1027            4.098260e-10            1.000000e+06     2.325300e-13   \n",
              "1028            4.352200e-10           -4.140330e-10     3.277170e-13   \n",
              "1029            6.843420e-10           -6.694150e-10     2.194040e-12   \n",
              "1030            6.748210e-10           -6.505440e-10     1.334690e-12   \n",
              "1031            5.359770e-10           -5.216660e-10     8.055620e-13   \n",
              "\n",
              "      sqrt_ts_0p3_1_gev  flux_1_3_gev  flux_1_3_gev_pos_err  \\\n",
              "1027              0.782  2.440210e-10          1.023570e-10   \n",
              "1028              1.067  6.058490e-11          8.389500e-11   \n",
              "1029              5.447  3.306700e-10          1.205140e-10   \n",
              "1030              3.162  5.644010e-10          1.349750e-10   \n",
              "1031              2.391  2.399310e-10          1.127720e-10   \n",
              "\n",
              "      flux_1_3_gev_neg_err  nufnu_1_3_gev  sqrt_ts_1_3_gev  flux_3_10_gev  \\\n",
              "1027         -9.301360e-11   5.841320e-13            2.924   1.601190e-10   \n",
              "1028          1.000000e+06   1.493900e-13            0.841   2.303760e-12   \n",
              "1029         -1.117190e-10   7.434510e-13            3.296   7.640900e-11   \n",
              "1030         -1.231120e-10   1.330720e-12            5.472   1.857650e-10   \n",
              "1031         -1.033030e-10   5.600270e-13            2.511   5.106580e-11   \n",
              "\n",
              "      nufnu_3_10_gev  sqrt_ts_3_10_gev  flux_10_100_gev  nufnu_10_100_gev  \\\n",
              "1027    1.094290e-12             5.529     2.434160e-11      4.264750e-13   \n",
              "1028    1.631330e-14             0.138     5.805490e-11      1.151920e-12   \n",
              "1029    4.846760e-13             3.325     3.678400e-12      5.084610e-14   \n",
              "1030    1.246770e-12             6.455     2.528040e-11      4.166490e-13   \n",
              "1031    3.386380e-13             2.471     1.038210e-11      1.644900e-13   \n",
              "\n",
              "      sqrt_ts_10_100_gev  variability_index  significance_peak  flux_peak  \\\n",
              "1027               3.656          50.015041          1000000.0  1000000.0   \n",
              "1028               5.852          35.195969          1000000.0  1000000.0   \n",
              "1029               0.469          56.541351          1000000.0  1000000.0   \n",
              "1030               3.273          54.801598          1000000.0  1000000.0   \n",
              "1031               1.937          45.303288          1000000.0  1000000.0   \n",
              "\n",
              "      flux_peak_error  time_peak  time_peak_interval  source_type  \\\n",
              "1027        1000000.0  1000000.0           1000000.0          2.0   \n",
              "1028        1000000.0  1000000.0           1000000.0          2.0   \n",
              "1029        1000000.0  1000000.0           1000000.0          2.0   \n",
              "1030        1000000.0  1000000.0           1000000.0          2.0   \n",
              "1031        1000000.0  1000000.0           1000000.0          2.0   \n",
              "\n",
              "      analysis_flags      HR12      HR23      HR34  hard_slope  soft_slope  \\\n",
              "1027           256.0 -0.890182 -0.164694 -0.207606    0.042913   -0.725489   \n",
              "1028             4.0 -0.381684 -0.768488 -0.926735    0.158247    0.386804   \n",
              "1029             0.0 -0.641794 -0.825484 -0.624599   -0.200885    0.183690   \n",
              "1030             0.0 -0.037973 -0.557860 -0.504736   -0.053124    0.519887   \n",
              "1031             8.0 -0.803188 -0.670130 -0.649028   -0.021102   -0.133058   \n",
              "\n",
              "        P_E_lg        TS_      sig_  gamm_log    Ts_log   sig_log  F100_log  \n",
              "1027  3.397933   7.776074  0.047886  0.309407  0.890760 -1.319790 -9.379832  \n",
              "1028  3.938468   7.443311  0.088188  0.240549  0.871766 -1.054591 -9.704474  \n",
              "1029  2.688438   7.568197  0.147639  0.430481  0.878992 -0.830798 -9.347988  \n",
              "1030  3.273714   6.239404  0.152451  0.341201  0.795143 -0.816870 -9.151587  \n",
              "1031  3.157786  11.031491  0.111768  0.361322  1.042634 -0.951683 -9.522685  "
            ]
          },
          "metadata": {
            "tags": []
          },
          "execution_count": 495
        }
      ]
    },
    {
      "cell_type": "code",
      "metadata": {
        "id": "yi9z1lcf8l62",
        "colab_type": "code",
        "colab": {}
      },
      "source": [
        "#X.where(np.isnan(X))\n",
        "#X.drop('Unnamed: 0', axis=1, inplace=True) # borro la columna sin reasignar un nuevo dataframe\n",
        "\n"
      ],
      "execution_count": 0,
      "outputs": []
    },
    {
      "cell_type": "code",
      "metadata": {
        "id": "udszbfpEq1w1",
        "colab_type": "code",
        "outputId": "32784660-af74-4e11-ea10-7ce772568663",
        "colab": {
          "base_uri": "https://localhost:8080/",
          "height": 141
        }
      },
      "source": [
        "#df_BCU.drop('Unnamed: 0', axis=1, inplace=True) # borro la columna sin reasignar un nuevo dataframe\n",
        "#df_BCU.drop('source_type', axis=1, inplace=True)\n",
        "df_bl.columns\n",
        "y_ = df_bl['source_type']\n",
        "y_\n",
        "df_bl.head(2)"
      ],
      "execution_count": 0,
      "outputs": [
        {
          "output_type": "execute_result",
          "data": {
            "text/html": [
              "<div>\n",
              "<style scoped>\n",
              "    .dataframe tbody tr th:only-of-type {\n",
              "        vertical-align: middle;\n",
              "    }\n",
              "\n",
              "    .dataframe tbody tr th {\n",
              "        vertical-align: top;\n",
              "    }\n",
              "\n",
              "    .dataframe thead th {\n",
              "        text-align: right;\n",
              "    }\n",
              "</style>\n",
              "<table border=\"1\" class=\"dataframe\">\n",
              "  <thead>\n",
              "    <tr style=\"text-align: right;\">\n",
              "      <th></th>\n",
              "      <th>ra</th>\n",
              "      <th>dec</th>\n",
              "      <th>flux_1_100_gev</th>\n",
              "      <th>spectral_index</th>\n",
              "      <th>spectral_index_error</th>\n",
              "      <th>detection_significance</th>\n",
              "      <th>lii</th>\n",
              "      <th>bii</th>\n",
              "      <th>pivot_energy</th>\n",
              "      <th>flux_density</th>\n",
              "      <th>flux_density_error</th>\n",
              "      <th>energy_flux</th>\n",
              "      <th>energy_flux_error</th>\n",
              "      <th>curve_significance</th>\n",
              "      <th>spectrum_type</th>\n",
              "      <th>powerlaw_index</th>\n",
              "      <th>flux_100_300_mev</th>\n",
              "      <th>flux_100_300_mev_pos_err</th>\n",
              "      <th>flux_100_300_mev_neg_err</th>\n",
              "      <th>nufnu_100_300_mev</th>\n",
              "      <th>sqrt_ts_100_300_mev</th>\n",
              "      <th>flux_0p3_1_gev</th>\n",
              "      <th>flux_0p3_1_gev_pos_err</th>\n",
              "      <th>flux_0p3_1_gev_neg_err</th>\n",
              "      <th>nufnu_0p3_1_gev</th>\n",
              "      <th>sqrt_ts_0p3_1_gev</th>\n",
              "      <th>flux_1_3_gev</th>\n",
              "      <th>flux_1_3_gev_pos_err</th>\n",
              "      <th>flux_1_3_gev_neg_err</th>\n",
              "      <th>nufnu_1_3_gev</th>\n",
              "      <th>sqrt_ts_1_3_gev</th>\n",
              "      <th>flux_3_10_gev</th>\n",
              "      <th>nufnu_3_10_gev</th>\n",
              "      <th>sqrt_ts_3_10_gev</th>\n",
              "      <th>flux_10_100_gev</th>\n",
              "      <th>nufnu_10_100_gev</th>\n",
              "      <th>sqrt_ts_10_100_gev</th>\n",
              "      <th>variability_index</th>\n",
              "      <th>significance_peak</th>\n",
              "      <th>flux_peak</th>\n",
              "      <th>flux_peak_error</th>\n",
              "      <th>time_peak</th>\n",
              "      <th>time_peak_interval</th>\n",
              "      <th>source_type</th>\n",
              "      <th>analysis_flags</th>\n",
              "      <th>HR12</th>\n",
              "      <th>HR23</th>\n",
              "      <th>HR34</th>\n",
              "      <th>hard_slope</th>\n",
              "      <th>soft_slope</th>\n",
              "      <th>P_E_lg</th>\n",
              "      <th>TS_</th>\n",
              "      <th>sig_</th>\n",
              "      <th>gamm_log</th>\n",
              "      <th>Ts_log</th>\n",
              "      <th>sig_log</th>\n",
              "      <th>F100_log</th>\n",
              "    </tr>\n",
              "  </thead>\n",
              "  <tbody>\n",
              "    <tr>\n",
              "      <th>0</th>\n",
              "      <td>156.604996</td>\n",
              "      <td>-85.715202</td>\n",
              "      <td>9.074170e-10</td>\n",
              "      <td>2.01336</td>\n",
              "      <td>0.08438</td>\n",
              "      <td>13.433965</td>\n",
              "      <td>300.167297</td>\n",
              "      <td>-23.646200</td>\n",
              "      <td>2222.709961</td>\n",
              "      <td>1.858600e-13</td>\n",
              "      <td>2.060600e-14</td>\n",
              "      <td>1.011740e-11</td>\n",
              "      <td>1.150420e-12</td>\n",
              "      <td>0.511</td>\n",
              "      <td>1.0</td>\n",
              "      <td>2.0134</td>\n",
              "      <td>1.008810e-08</td>\n",
              "      <td>3.018620e-09</td>\n",
              "      <td>-2.949990e-09</td>\n",
              "      <td>2.420950e-12</td>\n",
              "      <td>3.427</td>\n",
              "      <td>1.979730e-09</td>\n",
              "      <td>5.195480e-10</td>\n",
              "      <td>-5.032010e-10</td>\n",
              "      <td>1.357070e-12</td>\n",
              "      <td>4.173</td>\n",
              "      <td>5.411360e-10</td>\n",
              "      <td>1.170220e-10</td>\n",
              "      <td>-1.090790e-10</td>\n",
              "      <td>1.298620e-12</td>\n",
              "      <td>6.251</td>\n",
              "      <td>2.340260e-10</td>\n",
              "      <td>1.604210e-12</td>\n",
              "      <td>8.382</td>\n",
              "      <td>8.555690e-11</td>\n",
              "      <td>1.514590e-12</td>\n",
              "      <td>7.324</td>\n",
              "      <td>41.696239</td>\n",
              "      <td>1000000.0</td>\n",
              "      <td>1000000.0</td>\n",
              "      <td>1000000.0</td>\n",
              "      <td>1000000.0</td>\n",
              "      <td>1000000.0</td>\n",
              "      <td>1.0</td>\n",
              "      <td>0.0</td>\n",
              "      <td>-0.671900</td>\n",
              "      <td>-0.570675</td>\n",
              "      <td>-0.396188</td>\n",
              "      <td>-0.174486</td>\n",
              "      <td>-0.101225</td>\n",
              "      <td>3.346883</td>\n",
              "      <td>3.103792</td>\n",
              "      <td>0.038038</td>\n",
              "      <td>0.303921</td>\n",
              "      <td>0.491893</td>\n",
              "      <td>-1.419783</td>\n",
              "      <td>-9.042193</td>\n",
              "    </tr>\n",
              "    <tr>\n",
              "      <th>1</th>\n",
              "      <td>11.687500</td>\n",
              "      <td>-84.320000</td>\n",
              "      <td>2.772770e-10</td>\n",
              "      <td>2.82062</td>\n",
              "      <td>0.13341</td>\n",
              "      <td>6.239794</td>\n",
              "      <td>303.069885</td>\n",
              "      <td>-32.806999</td>\n",
              "      <td>395.730011</td>\n",
              "      <td>6.895600e-12</td>\n",
              "      <td>1.036500e-12</td>\n",
              "      <td>6.497270e-12</td>\n",
              "      <td>9.888820e-13</td>\n",
              "      <td>0.647</td>\n",
              "      <td>1.0</td>\n",
              "      <td>2.8206</td>\n",
              "      <td>1.121860e-08</td>\n",
              "      <td>4.038050e-09</td>\n",
              "      <td>-3.890830e-09</td>\n",
              "      <td>2.493400e-12</td>\n",
              "      <td>2.877</td>\n",
              "      <td>1.951180e-09</td>\n",
              "      <td>5.772040e-10</td>\n",
              "      <td>-5.338970e-10</td>\n",
              "      <td>1.220970e-12</td>\n",
              "      <td>3.740</td>\n",
              "      <td>3.592310e-10</td>\n",
              "      <td>1.122630e-10</td>\n",
              "      <td>-1.019240e-10</td>\n",
              "      <td>7.984120e-13</td>\n",
              "      <td>4.067</td>\n",
              "      <td>2.958340e-11</td>\n",
              "      <td>1.851210e-13</td>\n",
              "      <td>1.964</td>\n",
              "      <td>8.163080e-16</td>\n",
              "      <td>1.085870e-17</td>\n",
              "      <td>0.000</td>\n",
              "      <td>62.983513</td>\n",
              "      <td>1000000.0</td>\n",
              "      <td>1000000.0</td>\n",
              "      <td>1000000.0</td>\n",
              "      <td>1000000.0</td>\n",
              "      <td>1000000.0</td>\n",
              "      <td>0.0</td>\n",
              "      <td>0.0</td>\n",
              "      <td>-0.703688</td>\n",
              "      <td>-0.689033</td>\n",
              "      <td>-0.847828</td>\n",
              "      <td>0.158795</td>\n",
              "      <td>-0.014655</td>\n",
              "      <td>2.597399</td>\n",
              "      <td>10.093845</td>\n",
              "      <td>0.103689</td>\n",
              "      <td>0.450345</td>\n",
              "      <td>1.004057</td>\n",
              "      <td>-0.984266</td>\n",
              "      <td>-9.557086</td>\n",
              "    </tr>\n",
              "  </tbody>\n",
              "</table>\n",
              "</div>"
            ],
            "text/plain": [
              "           ra        dec  flux_1_100_gev  spectral_index  \\\n",
              "0  156.604996 -85.715202    9.074170e-10         2.01336   \n",
              "1   11.687500 -84.320000    2.772770e-10         2.82062   \n",
              "\n",
              "   spectral_index_error  detection_significance         lii        bii  \\\n",
              "0               0.08438               13.433965  300.167297 -23.646200   \n",
              "1               0.13341                6.239794  303.069885 -32.806999   \n",
              "\n",
              "   pivot_energy  flux_density  flux_density_error   energy_flux  \\\n",
              "0   2222.709961  1.858600e-13        2.060600e-14  1.011740e-11   \n",
              "1    395.730011  6.895600e-12        1.036500e-12  6.497270e-12   \n",
              "\n",
              "   energy_flux_error  curve_significance  spectrum_type  powerlaw_index  \\\n",
              "0       1.150420e-12               0.511            1.0          2.0134   \n",
              "1       9.888820e-13               0.647            1.0          2.8206   \n",
              "\n",
              "   flux_100_300_mev  flux_100_300_mev_pos_err  flux_100_300_mev_neg_err  \\\n",
              "0      1.008810e-08              3.018620e-09             -2.949990e-09   \n",
              "1      1.121860e-08              4.038050e-09             -3.890830e-09   \n",
              "\n",
              "   nufnu_100_300_mev  sqrt_ts_100_300_mev  flux_0p3_1_gev  \\\n",
              "0       2.420950e-12                3.427    1.979730e-09   \n",
              "1       2.493400e-12                2.877    1.951180e-09   \n",
              "\n",
              "   flux_0p3_1_gev_pos_err  flux_0p3_1_gev_neg_err  nufnu_0p3_1_gev  \\\n",
              "0            5.195480e-10           -5.032010e-10     1.357070e-12   \n",
              "1            5.772040e-10           -5.338970e-10     1.220970e-12   \n",
              "\n",
              "   sqrt_ts_0p3_1_gev  flux_1_3_gev  flux_1_3_gev_pos_err  \\\n",
              "0              4.173  5.411360e-10          1.170220e-10   \n",
              "1              3.740  3.592310e-10          1.122630e-10   \n",
              "\n",
              "   flux_1_3_gev_neg_err  nufnu_1_3_gev  sqrt_ts_1_3_gev  flux_3_10_gev  \\\n",
              "0         -1.090790e-10   1.298620e-12            6.251   2.340260e-10   \n",
              "1         -1.019240e-10   7.984120e-13            4.067   2.958340e-11   \n",
              "\n",
              "   nufnu_3_10_gev  sqrt_ts_3_10_gev  flux_10_100_gev  nufnu_10_100_gev  \\\n",
              "0    1.604210e-12             8.382     8.555690e-11      1.514590e-12   \n",
              "1    1.851210e-13             1.964     8.163080e-16      1.085870e-17   \n",
              "\n",
              "   sqrt_ts_10_100_gev  variability_index  significance_peak  flux_peak  \\\n",
              "0               7.324          41.696239          1000000.0  1000000.0   \n",
              "1               0.000          62.983513          1000000.0  1000000.0   \n",
              "\n",
              "   flux_peak_error  time_peak  time_peak_interval  source_type  \\\n",
              "0        1000000.0  1000000.0           1000000.0          1.0   \n",
              "1        1000000.0  1000000.0           1000000.0          0.0   \n",
              "\n",
              "   analysis_flags      HR12      HR23      HR34  hard_slope  soft_slope  \\\n",
              "0             0.0 -0.671900 -0.570675 -0.396188   -0.174486   -0.101225   \n",
              "1             0.0 -0.703688 -0.689033 -0.847828    0.158795   -0.014655   \n",
              "\n",
              "     P_E_lg        TS_      sig_  gamm_log    Ts_log   sig_log  F100_log  \n",
              "0  3.346883   3.103792  0.038038  0.303921  0.491893 -1.419783 -9.042193  \n",
              "1  2.597399  10.093845  0.103689  0.450345  1.004057 -0.984266 -9.557086  "
            ]
          },
          "metadata": {
            "tags": []
          },
          "execution_count": 496
        }
      ]
    },
    {
      "cell_type": "code",
      "metadata": {
        "id": "3nmjsVw0JYRv",
        "colab_type": "code",
        "colab": {}
      },
      "source": [
        "X=df_bl\n",
        "X.drop(['source_type'], axis=1, inplace=True)\n"
      ],
      "execution_count": 0,
      "outputs": []
    },
    {
      "cell_type": "code",
      "metadata": {
        "id": "JTxZ4qqb8l67",
        "colab_type": "code",
        "outputId": "c953102a-d3dd-4e99-ef81-e80fef6197fe",
        "colab": {
          "base_uri": "https://localhost:8080/",
          "height": 277
        }
      },
      "source": [
        "caracteristicas_=df_bl.columns\n",
        "#X.head(3)\n",
        "caracteristicas_"
      ],
      "execution_count": 0,
      "outputs": [
        {
          "output_type": "execute_result",
          "data": {
            "text/plain": [
              "Index(['ra', 'dec', 'flux_1_100_gev', 'spectral_index', 'spectral_index_error',\n",
              "       'detection_significance', 'lii', 'bii', 'pivot_energy', 'flux_density',\n",
              "       'flux_density_error', 'energy_flux', 'energy_flux_error',\n",
              "       'curve_significance', 'spectrum_type', 'powerlaw_index',\n",
              "       'flux_100_300_mev', 'flux_100_300_mev_pos_err',\n",
              "       'flux_100_300_mev_neg_err', 'nufnu_100_300_mev', 'sqrt_ts_100_300_mev',\n",
              "       'flux_0p3_1_gev', 'flux_0p3_1_gev_pos_err', 'flux_0p3_1_gev_neg_err',\n",
              "       'nufnu_0p3_1_gev', 'sqrt_ts_0p3_1_gev', 'flux_1_3_gev',\n",
              "       'flux_1_3_gev_pos_err', 'flux_1_3_gev_neg_err', 'nufnu_1_3_gev',\n",
              "       'sqrt_ts_1_3_gev', 'flux_3_10_gev', 'nufnu_3_10_gev',\n",
              "       'sqrt_ts_3_10_gev', 'flux_10_100_gev', 'nufnu_10_100_gev',\n",
              "       'sqrt_ts_10_100_gev', 'variability_index', 'significance_peak',\n",
              "       'flux_peak', 'flux_peak_error', 'time_peak', 'time_peak_interval',\n",
              "       'analysis_flags', 'HR12', 'HR23', 'HR34', 'hard_slope', 'soft_slope',\n",
              "       'P_E_lg', 'TS_', 'sig_', 'gamm_log', 'Ts_log', 'sig_log', 'F100_log'],\n",
              "      dtype='object')"
            ]
          },
          "metadata": {
            "tags": []
          },
          "execution_count": 498
        }
      ]
    },
    {
      "cell_type": "code",
      "metadata": {
        "id": "C-XTB7Kn8l6_",
        "colab_type": "code",
        "outputId": "d811dafb-edc7-4056-8c5f-4561c2867939",
        "colab": {
          "base_uri": "https://localhost:8080/",
          "height": 368
        }
      },
      "source": [
        "import matplotlib.pyplot as plt\n",
        "plt.rcParams['figure.figsize'] = (5,5)\n",
        "plt.hist(y_, bins=2)"
      ],
      "execution_count": 0,
      "outputs": [
        {
          "output_type": "execute_result",
          "data": {
            "text/plain": [
              "(array([401., 626.]),\n",
              " array([0. , 0.5, 1. ], dtype=float32),\n",
              " <a list of 2 Patch objects>)"
            ]
          },
          "metadata": {
            "tags": []
          },
          "execution_count": 499
        },
        {
          "output_type": "display_data",
          "data": {
            "image/png": "[encoded data removed]",
            "text/plain": [
              "<Figure size 360x360 with 1 Axes>"
            ]
          },
          "metadata": {
            "tags": []
          }
        }
      ]
    },
    {
      "cell_type": "code",
      "metadata": {
        "id": "M3a6X84x8l7D",
        "colab_type": "code",
        "outputId": "0a7afa43-75f3-4f76-af6e-36d14d431c51",
        "colab": {
          "base_uri": "https://localhost:8080/",
          "height": 33
        }
      },
      "source": [
        "1- 563/(563+626)\n",
        "\n",
        "#y_"
      ],
      "execution_count": 0,
      "outputs": [
        {
          "output_type": "execute_result",
          "data": {
            "text/plain": [
              "0.5264928511354079"
            ]
          },
          "metadata": {
            "tags": []
          },
          "execution_count": 500
        }
      ]
    },
    {
      "cell_type": "code",
      "metadata": {
        "id": "SsCiMvlSCnJX",
        "colab_type": "code",
        "colab": {}
      },
      "source": [
        ""
      ],
      "execution_count": 0,
      "outputs": []
    },
    {
      "cell_type": "markdown",
      "metadata": {
        "id": "jjCsR-MP8l7H",
        "colab_type": "text"
      },
      "source": [
        "### Normalización de los datos"
      ]
    },
    {
      "cell_type": "code",
      "metadata": {
        "id": "aCo9G9cV8l7I",
        "colab_type": "code",
        "outputId": "b04d702b-af86-4277-9287-eadc2ff2f66a",
        "colab": {
          "base_uri": "https://localhost:8080/",
          "height": 115
        }
      },
      "source": [
        "from sklearn.model_selection import train_test_split\n",
        "sc = StandardScaler()\n",
        "sc.fit(X)\n",
        "#sc.fit(y)\n",
        "X_std = sc.transform(X)\n",
        "#df_BCU_std=sc.transform(df_BCU)\n",
        "#y_std= sc.transform(y)\n",
        "y_.head(5)"
      ],
      "execution_count": 0,
      "outputs": [
        {
          "output_type": "execute_result",
          "data": {
            "text/plain": [
              "0    1.0\n",
              "1    0.0\n",
              "2    0.0\n",
              "3    0.0\n",
              "4    1.0\n",
              "Name: source_type, dtype: float32"
            ]
          },
          "metadata": {
            "tags": []
          },
          "execution_count": 501
        }
      ]
    },
    {
      "cell_type": "markdown",
      "metadata": {
        "id": "9sjOdBp78l7K",
        "colab_type": "text"
      },
      "source": [
        "### División de datos en dos conjuntos: X_train, y_train, conjunto de entrenamiento. X_test, y_test conjunto de test"
      ]
    },
    {
      "cell_type": "code",
      "metadata": {
        "id": "yeo4uHMC8l7L",
        "colab_type": "code",
        "colab": {}
      },
      "source": [
        "X_train, X_test, y_train, y_test = train_test_split(X_std, y_, test_size=0.4)"
      ],
      "execution_count": 0,
      "outputs": []
    },
    {
      "cell_type": "code",
      "metadata": {
        "id": "kwlbPQIP8l7N",
        "colab_type": "code",
        "colab": {}
      },
      "source": [
        "from sklearn.metrics import confusion_matrix\n",
        "from sklearn.model_selection import cross_val_score"
      ],
      "execution_count": 0,
      "outputs": []
    },
    {
      "cell_type": "markdown",
      "metadata": {
        "id": "DWW5viz98l7Q",
        "colab_type": "text"
      },
      "source": [
        "# APLICACIÓN DE CLASIFICADORES"
      ]
    },
    {
      "cell_type": "markdown",
      "metadata": {
        "id": "XLJiRWaJ0HXZ",
        "colab_type": "text"
      },
      "source": [
        "## Estudiamos los datos con un mapa de calor"
      ]
    },
    {
      "cell_type": "code",
      "metadata": {
        "id": "8gXDC18x0MQi",
        "colab_type": "code",
        "colab": {}
      },
      "source": [
        "#plt.figure(figsize=(35,30))\n",
        "#cor = X.corr()\n",
        "#g=sns.heatmap(cor, annot=True, cmap=plt.cm.Reds)\n",
        "#plt.show()"
      ],
      "execution_count": 0,
      "outputs": []
    },
    {
      "cell_type": "code",
      "metadata": {
        "id": "OgzzoaWn1w-t",
        "colab_type": "code",
        "colab": {}
      },
      "source": [
        "#savefig(\"/content/drive/My Drive/poblacion_2.png\")\n",
        "#Correlation with output variable\n",
        "#cor_target = abs(cor[\"spectral_index\"])\n",
        "#Selecting highly correlated features\n",
        "#relevant_features = cor_target[cor_target>0.85]\n",
        "#relevant_features"
      ],
      "execution_count": 0,
      "outputs": []
    },
    {
      "cell_type": "markdown",
      "metadata": {
        "id": "BmdCTm_V8l7R",
        "colab_type": "text"
      },
      "source": [
        "## Con GradientBoostClassifier"
      ]
    },
    {
      "cell_type": "code",
      "metadata": {
        "id": "EdbQXu518l7S",
        "colab_type": "code",
        "colab": {}
      },
      "source": [
        "from sklearn.ensemble import GradientBoostingClassifier\n",
        "\n",
        "gbc = GradientBoostingClassifier(learning_rate=0.11, max_depth=6,\n",
        "     n_estimators=1000, subsample=0.4)\n",
        "\n",
        "#y_train[0:4]"
      ],
      "execution_count": 0,
      "outputs": []
    },
    {
      "cell_type": "code",
      "metadata": {
        "id": "rwI4-AJA8l7V",
        "colab_type": "code",
        "outputId": "df6481f6-0575-40d7-bdd8-0dc07c77272d",
        "colab": {
          "base_uri": "https://localhost:8080/",
          "height": 33
        }
      },
      "source": [
        "%%timeit\n",
        "gbc.fit(X_train, y_train)"
      ],
      "execution_count": 0,
      "outputs": [
        {
          "output_type": "stream",
          "text": [
            "1 loop, best of 3: 2.47 s per loop\n"
          ],
          "name": "stdout"
        }
      ]
    },
    {
      "cell_type": "code",
      "metadata": {
        "id": "SZ2h30RK8l7a",
        "colab_type": "code",
        "outputId": "1ed1b734-f372-4d85-95a6-ef00611cae1c",
        "colab": {
          "base_uri": "https://localhost:8080/",
          "height": 82
        }
      },
      "source": [
        "y_pred_test = gbc.predict(X_test)\n",
        "num_err_test = (y_test != y_pred_test).sum()\n",
        "print(f'Muestras mal clasificadas (test): {num_err_test}')\n",
        "y_pred_train = gbc.predict(X_train)\n",
        "num_err_train = (y_train != y_pred_train).sum()\n",
        "print(f'Muestras mal clasificadas (train): {num_err_train}')\n",
        "print(f'Nº de Muestras (test): {y_test.shape}')\n",
        "print(f'Nº de Muestras (train): {y_train.shape}')"
      ],
      "execution_count": 0,
      "outputs": [
        {
          "output_type": "stream",
          "text": [
            "Muestras mal clasificadas (test): 46\n",
            "Muestras mal clasificadas (train): 0\n",
            "Nº de Muestras (test): (411,)\n",
            "Nº de Muestras (train): (616,)\n"
          ],
          "name": "stdout"
        }
      ]
    },
    {
      "cell_type": "code",
      "metadata": {
        "id": "hH-bKPXZ8l7g",
        "colab_type": "code",
        "outputId": "25b39596-af75-40c8-f3b7-a49045599173",
        "colab": {
          "base_uri": "https://localhost:8080/",
          "height": 33
        }
      },
      "source": [
        "gbc.score(X_test, y_test)\n",
        "\n",
        "#k_fold = KFold(n_splits=5)"
      ],
      "execution_count": 0,
      "outputs": [
        {
          "output_type": "execute_result",
          "data": {
            "text/plain": [
              "0.8880778588807786"
            ]
          },
          "metadata": {
            "tags": []
          },
          "execution_count": 509
        }
      ]
    },
    {
      "cell_type": "code",
      "metadata": {
        "id": "P3iozw5aAMst",
        "colab_type": "code",
        "colab": {}
      },
      "source": [
        "#scores_1 = list()\n",
        "#scores_std = list()\n",
        "#fi=gbc.feature_importances_\n",
        "#scores = cross_val_score(gbc, X_train, y_train, cv=20 , scoring='f1_macro')\n",
        "\n",
        "#scores\n",
        "#scores\n",
        "#y_pred_test\n",
        "#fi\n"
      ],
      "execution_count": 0,
      "outputs": []
    },
    {
      "cell_type": "code",
      "metadata": {
        "id": "erBpl1FkwGro",
        "colab_type": "code",
        "outputId": "4d522b5d-ab23-47a5-8090-cdc59b7f59e2",
        "colab": {
          "base_uri": "https://localhost:8080/",
          "height": 33
        }
      },
      "source": [
        "scores.mean()"
      ],
      "execution_count": 0,
      "outputs": [
        {
          "output_type": "execute_result",
          "data": {
            "text/plain": [
              "0.862119609885726"
            ]
          },
          "metadata": {
            "tags": []
          },
          "execution_count": 510
        }
      ]
    },
    {
      "cell_type": "code",
      "metadata": {
        "id": "zHpQRcLiOGfj",
        "colab_type": "code",
        "outputId": "c8d25f3e-7731-48f2-bc13-2be67bdc1596",
        "colab": {
          "base_uri": "https://localhost:8080/",
          "height": 333
        }
      },
      "source": [
        "from sklearn.metrics import roc_curve, auc\n",
        "learning_rates = [0.02, 0.04, 0.1, 0.12, 0.15, 0.2, 0.3, 0.4]\n",
        "train_results = []\n",
        "test_results = []\n",
        "for eta in learning_rates:\n",
        "   model = GradientBoostingClassifier(learning_rate=eta)\n",
        "   model.fit(X_train, y_train)\n",
        "   train_pred = model.predict(X_train)\n",
        "   false_positive_rate, true_positive_rate, thresholds = roc_curve(y_train, train_pred)\n",
        "   roc_auc = auc(false_positive_rate, true_positive_rate)\n",
        "   train_results.append(roc_auc)\n",
        "   y_pred = model.predict(X_test)\n",
        "   false_positive_rate, true_positive_rate, thresholds = roc_curve(y_test, y_pred)\n",
        "   roc_auc = auc(false_positive_rate, true_positive_rate)\n",
        "   test_results.append(roc_auc)\n",
        "from matplotlib.legend_handler import HandlerLine2D\n",
        "line1, = plt.plot(learning_rates, train_results, 'b', label= \"Train AUC\")\n",
        "line2, = plt.plot(learning_rates, test_results, 'r', label=\"Test AUC\")\n",
        "plt.legend(handler_map={line1: HandlerLine2D(numpoints=2)})\n",
        "plt.ylabel('AUC score')\n",
        "plt.xlabel('learning rate')\n",
        "plt.show()"
      ],
      "execution_count": 0,
      "outputs": [
        {
          "output_type": "display_data",
          "data": {
            "image/png": "[encoded data removed]",
            "text/plain": [
              "<Figure size 360x360 with 1 Axes>"
            ]
          },
          "metadata": {
            "tags": []
          }
        }
      ]
    },
    {
      "cell_type": "markdown",
      "metadata": {
        "id": "xDWOoYFDPa_3",
        "colab_type": "text"
      },
      "source": [
        "## Para este set de datos un ratio de aprendizaje = 0.11 es optimo"
      ]
    },
    {
      "cell_type": "code",
      "metadata": {
        "id": "l9cm5uUZCk9V",
        "colab_type": "code",
        "colab": {}
      },
      "source": [
        "from sklearn.model_selection import cross_validate\n",
        "\n",
        "#clf=RandomForestClassifier(n_estimators =10, random_state = 42, class_weight=\"balanced\")\n",
        "\n",
        "output = cross_validate(gbc, X_test, y_test, cv=5, scoring = 'accuracy', return_estimator =True)"
      ],
      "execution_count": 0,
      "outputs": []
    },
    {
      "cell_type": "code",
      "metadata": {
        "id": "6-HKtJVl69dK",
        "colab_type": "code",
        "outputId": "a6c76bc0-db8e-4a74-ed6c-415570198149",
        "colab": {
          "base_uri": "https://localhost:8080/",
          "height": 33
        }
      },
      "source": [
        "output['test_score'].mean()"
      ],
      "execution_count": 0,
      "outputs": [
        {
          "output_type": "execute_result",
          "data": {
            "text/plain": [
              "0.8636203349985306"
            ]
          },
          "metadata": {
            "tags": []
          },
          "execution_count": 513
        }
      ]
    },
    {
      "cell_type": "markdown",
      "metadata": {
        "id": "bJI6n4v0xQxT",
        "colab_type": "text"
      },
      "source": [
        "# Idea\n",
        "## Añadir en un dataframe los resultados de las feture importances en sucesivas lineas con otra columna añadidas en la que se cuantifique el score alcanzado para despues analizar los scores máximos y las feature importances correspondientes.\n",
        "### Hasta este punto cosigo listar las feature importantes de cada subset utlizado en la validación cruzad. Falta programa codigo que meta todo esto en un dataframe añadiendole simultaneamente una columna para el score."
      ]
    },
    {
      "cell_type": "code",
      "metadata": {
        "id": "cDY9qCyFCq3T",
        "colab_type": "code",
        "outputId": "c1a2c3cc-1137-4c0b-9608-39d277ab5b00",
        "colab": {
          "base_uri": "https://localhost:8080/",
          "height": 98
        }
      },
      "source": [
        "#.sort_values('importance', ascending=False)\n",
        "\n",
        "for idx,estimator in enumerate(output['estimator']):\n",
        "    print(\"Features sorted by their score for estimator {}:\".format(idx))\n",
        "    feature_importances = pd.DataFrame(estimator.feature_importances_,\n",
        "                                       index = df_bl.columns,\n",
        "                                        columns=['importance'])\n",
        "    #print(feature_importances)\n",
        "    type(feature_importances)"
      ],
      "execution_count": 0,
      "outputs": [
        {
          "output_type": "stream",
          "text": [
            "Features sorted by their score for estimator 0:\n",
            "Features sorted by their score for estimator 1:\n",
            "Features sorted by their score for estimator 2:\n",
            "Features sorted by their score for estimator 3:\n",
            "Features sorted by their score for estimator 4:\n"
          ],
          "name": "stdout"
        }
      ]
    },
    {
      "cell_type": "code",
      "metadata": {
        "id": "MD0rTXgf85zt",
        "colab_type": "code",
        "outputId": "e437e142-a7d1-4f43-8835-c582c9a17324",
        "colab": {
          "base_uri": "https://localhost:8080/",
          "height": 33
        }
      },
      "source": [
        "scores.min()"
      ],
      "execution_count": 0,
      "outputs": [
        {
          "output_type": "execute_result",
          "data": {
            "text/plain": [
              "0.7479674796747968"
            ]
          },
          "metadata": {
            "tags": []
          },
          "execution_count": 515
        }
      ]
    },
    {
      "cell_type": "markdown",
      "metadata": {
        "id": "5finYqkirNgi",
        "colab_type": "text"
      },
      "source": [
        "#1er intento de clasificar la base de datos Fermi 3FGL"
      ]
    },
    {
      "cell_type": "code",
      "metadata": {
        "id": "Lc97U7UWrU-E",
        "colab_type": "code",
        "colab": {}
      },
      "source": [
        "# me aseguro que la columna correspondiente a su tipo bcu =2 ha sido eliminada\n",
        "\n",
        "#print(X.shape, df_BCU.shape)\n"
      ],
      "execution_count": 0,
      "outputs": []
    },
    {
      "cell_type": "code",
      "metadata": {
        "id": "OCgPrbavtgpC",
        "colab_type": "code",
        "colab": {}
      },
      "source": [
        "#df_BCU.head(5)"
      ],
      "execution_count": 0,
      "outputs": []
    },
    {
      "cell_type": "markdown",
      "metadata": {
        "id": "ZfZKTnM1sSIj",
        "colab_type": "text"
      },
      "source": [
        "# Allá vamos , que Dios nos pille confesados!"
      ]
    },
    {
      "cell_type": "code",
      "metadata": {
        "id": "Sc1Z0yoQsMSD",
        "colab_type": "code",
        "colab": {}
      },
      "source": [
        "#y_clasificados = gbc.predict(df_BCU_std)\n",
        "#y_clasificados"
      ],
      "execution_count": 0,
      "outputs": []
    },
    {
      "cell_type": "code",
      "metadata": {
        "id": "-GQE6S1Zs0Ad",
        "colab_type": "code",
        "colab": {}
      },
      "source": [
        "#y_clasificados\n",
        "#plt.rcParams['figure.figsize'] = (5,5)\n",
        "#plt.hist(y_clasificados, bins=2)\n",
        "#df_C= pd.DataFrame(data=y_clasificados.flatten())\n",
        "#sns.pairplot(df_C)\n",
        "#sns.countplot(data=df_C)\n",
        "#p = sns.countplot(data=df_C)"
      ],
      "execution_count": 0,
      "outputs": []
    },
    {
      "cell_type": "code",
      "metadata": {
        "id": "eIs0oJU38l7j",
        "colab_type": "code",
        "colab": {}
      },
      "source": [
        "#from mlxtend.plotting import plot_decision_regions\n",
        "#plot_decision_regions(X_test, y_test, kn)\n",
        "\n",
        "#from ipynb.fs.full.my_functions import Snippet_190\n",
        "def Snippet_190(clf, X, y, cv):\n",
        "    from sklearn.model_selection import train_test_split\n",
        "    from matplotlib import pyplot\n",
        "    import matplotlib.pyplot as plt\n",
        "    plt.style.use('ggplot')\n",
        "    X_train, X_test, y_train, y_test = train_test_split(X_std, y_, test_size=0.4)\n",
        "    print(format('Hoe to visualise cross validation scores','*^82'))\n",
        "    scores_train = cross_val_score(clf, X_train, y_train, cv=cv, scoring='f1_macro')\n",
        "    scores_test = cross_val_score(clf, X_test, y_test, cv=cv, scoring='f1_macro')\n",
        "    fig, ax = pyplot.subplots(figsize=(24,6))\n",
        "    ax.set_ylim(0, 1.2)\n",
        "    ax.plot(scores_train , label='Train')\n",
        "    ax.plot(scores_test, label='Test')\n",
        "    ax.legend()\n",
        "    #pyplot.ylabel('Log Loss')\n",
        "    #pyplot.title('XGBoost Log Loss')\n",
        "    #pyplot.show()\n",
        "    #plt.plot(scores_train,scores_test)\n",
        "    print(np.mean(scores_test))\n",
        "#Snippet_190(gbc, X_std, y_, 100)\n"
      ],
      "execution_count": 0,
      "outputs": []
    },
    {
      "cell_type": "markdown",
      "metadata": {
        "id": "1UWf_rGf8l7m",
        "colab_type": "text"
      },
      "source": [
        "## Con Suport Vector Machines (SVM)"
      ]
    },
    {
      "cell_type": "code",
      "metadata": {
        "id": "ipkMYDDq8l7m",
        "colab_type": "code",
        "colab": {}
      },
      "source": [
        "from sklearn.model_selection import train_test_split"
      ],
      "execution_count": 0,
      "outputs": []
    },
    {
      "cell_type": "code",
      "metadata": {
        "id": "Ja0984qy8l7p",
        "colab_type": "code",
        "colab": {}
      },
      "source": [
        "from sklearn.svm import SVC\n",
        "#svm = SVC(probability=True)\n",
        "#svm = SVC(kernel='rbf', gamma=10.0, C=1000.0, probability=True)\n",
        "#svm.fit(X_train, y_train)"
      ],
      "execution_count": 0,
      "outputs": []
    },
    {
      "cell_type": "code",
      "metadata": {
        "id": "ohdr5vf28l7s",
        "colab_type": "code",
        "outputId": "f41afc37-8a67-46e1-a0c7-c3ebf3bbe0be",
        "colab": {
          "base_uri": "https://localhost:8080/",
          "height": 98
        }
      },
      "source": [
        "for C_exp in range(-2, 3):\n",
        "    svm = SVC(kernel='linear', gamma=10.0, C=10**C_exp , probability=True)\n",
        "    svm.fit(X_train, y_train)\n",
        "    score = svm.score(X_test, y_test)\n",
        "    print(f'Score para C={10**C_exp:.5f}: {score:.3f}')\n",
        "#for gamma_ in range(1,20):\n",
        "#    svm = SVC(kernel='linear', gamma=gamma_, C=5)\n",
        "#    svm.fit(X_train, y_train)\n",
        "#    score = svm.score(X_test, y_test)\n",
        "#    print(f'Score para Gamma={gamma_:.5f}: {score:.3f}')    "
      ],
      "execution_count": 0,
      "outputs": [
        {
          "output_type": "stream",
          "text": [
            "Score para C=0.01000: 0.900\n",
            "Score para C=0.10000: 0.905\n",
            "Score para C=1.00000: 0.908\n",
            "Score para C=10.00000: 0.910\n",
            "Score para C=100.00000: 0.905\n"
          ],
          "name": "stdout"
        }
      ]
    },
    {
      "cell_type": "code",
      "metadata": {
        "id": "71UY8L0cXfBR",
        "colab_type": "code",
        "colab": {}
      },
      "source": [
        "  svm = SVC(kernel='linear', gamma=10.0, C=0.1 , probability=True)\n",
        "  svm.fit(X_train, y_train)\n",
        "  score = svm.score(X_test, y_test)"
      ],
      "execution_count": 0,
      "outputs": []
    },
    {
      "cell_type": "code",
      "metadata": {
        "id": "qwVWWHO78l7u",
        "colab_type": "code",
        "outputId": "3d57bdc2-2f2f-45d6-d969-d73e07eeaaba",
        "colab": {
          "base_uri": "https://localhost:8080/",
          "height": 50
        }
      },
      "source": [
        "print(f'Score train: {svm.score(X_train, y_train)}')\n",
        "print(f'Score test: {svm.score(X_test, y_test)}')"
      ],
      "execution_count": 0,
      "outputs": [
        {
          "output_type": "stream",
          "text": [
            "Score train: 0.8977272727272727\n",
            "Score test: 0.9051094890510949\n"
          ],
          "name": "stdout"
        }
      ]
    },
    {
      "cell_type": "code",
      "metadata": {
        "id": "Pxf1icj18l7x",
        "colab_type": "code",
        "colab": {}
      },
      "source": [
        "from sklearn.metrics import confusion_matrix"
      ],
      "execution_count": 0,
      "outputs": []
    },
    {
      "cell_type": "code",
      "metadata": {
        "id": "72w8r8Y98l71",
        "colab_type": "code",
        "outputId": "8d94d739-7a71-4947-b486-2e01772d8c10",
        "colab": {
          "base_uri": "https://localhost:8080/",
          "height": 50
        }
      },
      "source": [
        "\n",
        "confusion_matrix(y_test, svm.predict(X_test))\n",
        "#X_test.values"
      ],
      "execution_count": 0,
      "outputs": [
        {
          "output_type": "execute_result",
          "data": {
            "text/plain": [
              "array([[142,  19],\n",
              "       [ 20, 230]])"
            ]
          },
          "metadata": {
            "tags": []
          },
          "execution_count": 526
        }
      ]
    },
    {
      "cell_type": "code",
      "metadata": {
        "id": "zGvQz7MPvgGA",
        "colab_type": "code",
        "colab": {}
      },
      "source": [
        "#y_clasificados = svm.predict(df_BCU_std)\n",
        "#y_clasificados\n",
        "\n"
      ],
      "execution_count": 0,
      "outputs": []
    },
    {
      "cell_type": "code",
      "metadata": {
        "id": "zY3TE0LeQphK",
        "colab_type": "code",
        "colab": {}
      },
      "source": [
        ""
      ],
      "execution_count": 0,
      "outputs": []
    },
    {
      "cell_type": "markdown",
      "metadata": {
        "id": "Xi76csu_yxdS",
        "colab_type": "text"
      },
      "source": [
        "# Intento de eliminar recursivamente las caracteristicas para determinar el número optivmo de caracteristicas."
      ]
    },
    {
      "cell_type": "code",
      "metadata": {
        "id": "7eh7UBjUHNIn",
        "colab_type": "code",
        "colab": {}
      },
      "source": [
        "#from sklearn.feature_selection import RFECV\n",
        "#from sklearn.model_selection import KFold,StratifiedKFold #for K-fold cross validation\n",
        "#from sklearn.ensemble import RandomForestClassifier #Random Forest\n",
        "\n",
        "# The \"accuracy\" scoring is proportional to the number of correct classifications\n",
        "#kfold = StratifiedKFold(n_splits=2, random_state=1) # k=10, split the data into 10 equal parts\n",
        "#model_Linear_SVM=SVC(kernel='linear', gamma=10.0, C=0.1 , probability=True)\n",
        "#rfecv = RFECV(estimator=model_Linear_SVM, step=1, cv=kfold,scoring='accuracy')   #5-fold cross-validation\n",
        "#rfecv = rfecv.fit(X, y_)\n",
        "\n",
        "#print('Optimal number of features :', rfecv.n_features_)\n",
        "#print('Best features :', X.columns[rfecv.support_])\n",
        "#print('Original features :', X.columns)\n",
        "#plt.figure()\n",
        "#plt.xlabel(\"Number of features selected\")\n",
        "#plt.ylabel(\"Cross validation score \\n of number of selected features\")\n",
        "#plt.plot(range(1, len(rfecv.grid_scores_) + 1), rfecv.grid_scores_)\n",
        "#plt.show()"
      ],
      "execution_count": 0,
      "outputs": []
    },
    {
      "cell_type": "code",
      "metadata": {
        "id": "vGoaPlM58l74",
        "colab_type": "code",
        "colab": {}
      },
      "source": [
        "#from mlxtend.plotting import plot_decision_regions\n",
        "#plot_decision_regions(X_test.values, y_test, svm)\n",
        "#Snippet_190(svm, X_std, y_, 100)"
      ],
      "execution_count": 0,
      "outputs": []
    },
    {
      "cell_type": "markdown",
      "metadata": {
        "id": "-tTw-v678l78",
        "colab_type": "text"
      },
      "source": [
        "## Con xgboost"
      ]
    },
    {
      "cell_type": "code",
      "metadata": {
        "id": "OqOWJtdy8l78",
        "colab_type": "code",
        "colab": {}
      },
      "source": [
        "#!pip install xgboost"
      ],
      "execution_count": 0,
      "outputs": []
    },
    {
      "cell_type": "code",
      "metadata": {
        "id": "wJe3rJpO8l8A",
        "colab_type": "code",
        "colab": {}
      },
      "source": [
        "from xgboost.plotting import plot_importance\n",
        "import xgboost as xgb"
      ],
      "execution_count": 0,
      "outputs": []
    },
    {
      "cell_type": "code",
      "metadata": {
        "id": "FAngD82b8l8E",
        "colab_type": "code",
        "colab": {}
      },
      "source": [
        "import xgboost as xgb\n",
        "xg = xgb.XGBClassifier(objective ='binary:logistic',\n",
        "             colsample_bytree = 0.3,\n",
        "             learning_rate = 0.21,\n",
        "             max_depth = 6, \n",
        "             alpha = 10,\n",
        "             n_estimators = 1000,\n",
        "             feature_names=caracteristicas_ )\n",
        "#,\n",
        "#            feature_names=caracteristicas_"
      ],
      "execution_count": 0,
      "outputs": []
    },
    {
      "cell_type": "code",
      "metadata": {
        "id": "ySPZeNEc8l8H",
        "colab_type": "code",
        "outputId": "a6c6fcc8-7c70-4fc5-ddcf-3fa97dd7fe7a",
        "colab": {
          "base_uri": "https://localhost:8080/",
          "height": 33
        }
      },
      "source": [
        "%%timeit \n",
        "xg.fit(X_train,y_train)"
      ],
      "execution_count": 0,
      "outputs": [
        {
          "output_type": "stream",
          "text": [
            "1 loop, best of 3: 548 ms per loop\n"
          ],
          "name": "stdout"
        }
      ]
    },
    {
      "cell_type": "code",
      "metadata": {
        "id": "HtyH5BgB8l8K",
        "colab_type": "code",
        "outputId": "9098b1f0-fb9c-405e-8135-5eb434fd17ab",
        "colab": {
          "base_uri": "https://localhost:8080/",
          "height": 33
        }
      },
      "source": [
        "xg.score(X_test, y_test)"
      ],
      "execution_count": 0,
      "outputs": [
        {
          "output_type": "execute_result",
          "data": {
            "text/plain": [
              "0.8807785888077859"
            ]
          },
          "metadata": {
            "tags": []
          },
          "execution_count": 533
        }
      ]
    },
    {
      "cell_type": "code",
      "metadata": {
        "id": "ZRjAwU9E8l8M",
        "colab_type": "code",
        "outputId": "415fbbbb-ca04-409f-916d-d98d945dd8e4",
        "colab": {
          "base_uri": "https://localhost:8080/",
          "height": 50
        }
      },
      "source": [
        "confusion_matrix(y_test, xg.predict(X_test))"
      ],
      "execution_count": 0,
      "outputs": [
        {
          "output_type": "execute_result",
          "data": {
            "text/plain": [
              "array([[139,  22],\n",
              "       [ 27, 223]])"
            ]
          },
          "metadata": {
            "tags": []
          },
          "execution_count": 534
        }
      ]
    },
    {
      "cell_type": "code",
      "metadata": {
        "id": "9aezEwtQ8l8P",
        "colab_type": "code",
        "outputId": "b924a301-d572-455a-958a-8c2f0adc0a69",
        "colab": {
          "base_uri": "https://localhost:8080/",
          "height": 653
        }
      },
      "source": [
        "importances = xg.feature_importances_\n",
        "#importances\n",
        "plt.rcParams['figure.figsize'] = (10,10)\n",
        "plt.figure()\n",
        "plot_importance(xg)"
      ],
      "execution_count": 0,
      "outputs": [
        {
          "output_type": "execute_result",
          "data": {
            "text/plain": [
              "<matplotlib.axes._subplots.AxesSubplot at 0x7f7b60bcb1d0>"
            ]
          },
          "metadata": {
            "tags": []
          },
          "execution_count": 535
        },
        {
          "output_type": "display_data",
          "data": {
            "text/plain": [
              "<Figure size 720x720 with 0 Axes>"
            ]
          },
          "metadata": {
            "tags": []
          }
        },
        {
          "output_type": "display_data",
          "data": {
            "image/png": "[encoded data removed]",
            "text/plain": [
              "<Figure size 720x720 with 1 Axes>"
            ]
          },
          "metadata": {
            "tags": []
          }
        }
      ]
    },
    {
      "cell_type": "code",
      "metadata": {
        "id": "c9_HWrNlPEmu",
        "colab_type": "code",
        "colab": {}
      },
      "source": [
        "#Snippet_190(xg, X_std, y_, 100)"
      ],
      "execution_count": 0,
      "outputs": []
    },
    {
      "cell_type": "markdown",
      "metadata": {
        "id": "UMYH49SxELHY",
        "colab_type": "text"
      },
      "source": [
        "###Identificamos cada una de las features (feature importance) con su columna en el dataframe"
      ]
    },
    {
      "cell_type": "code",
      "metadata": {
        "id": "FF_RSF248l8S",
        "colab_type": "code",
        "outputId": "2778c375-99f2-4233-de70-60d3045b80d1",
        "colab": {
          "base_uri": "https://localhost:8080/",
          "height": 927
        }
      },
      "source": [
        "cont=0\n",
        "for feat, importance in zip(X.columns, xg.feature_importances_):\n",
        "    cont=1+cont\n",
        "    if importance >= 0:\n",
        "        print(f' f({cont}) -> {feat} : {importance}')"
      ],
      "execution_count": 0,
      "outputs": [
        {
          "output_type": "stream",
          "text": [
            " f(1) -> ra : 0.006872678641229868\n",
            " f(2) -> dec : 0.008603561669588089\n",
            " f(3) -> flux_1_100_gev : 0.03775693103671074\n",
            " f(4) -> spectral_index : 0.1569160372018814\n",
            " f(5) -> spectral_index_error : 0.016686752438545227\n",
            " f(6) -> detection_significance : 0.012631449848413467\n",
            " f(7) -> lii : 0.0054383594542741776\n",
            " f(8) -> bii : 0.011263882741332054\n",
            " f(9) -> pivot_energy : 0.01527139451354742\n",
            " f(10) -> flux_density : 0.006672102492302656\n",
            " f(11) -> flux_density_error : 0.041551172733306885\n",
            " f(12) -> energy_flux : 0.004367705434560776\n",
            " f(13) -> energy_flux_error : 0.004823710769414902\n",
            " f(14) -> curve_significance : 0.006063635461032391\n",
            " f(15) -> spectrum_type : 0.0\n",
            " f(16) -> powerlaw_index : 0.1751679927110672\n",
            " f(17) -> flux_100_300_mev : 0.009514221921563148\n",
            " f(18) -> flux_100_300_mev_pos_err : 0.013410803861916065\n",
            " f(19) -> flux_100_300_mev_neg_err : 0.0\n",
            " f(20) -> nufnu_100_300_mev : 0.0042267763055861\n",
            " f(21) -> sqrt_ts_100_300_mev : 0.0045580691657960415\n",
            " f(22) -> flux_0p3_1_gev : 0.019931655377149582\n",
            " f(23) -> flux_0p3_1_gev_pos_err : 0.012543628923594952\n",
            " f(24) -> flux_0p3_1_gev_neg_err : 0.0\n",
            " f(25) -> nufnu_0p3_1_gev : 0.0067761363461613655\n",
            " f(26) -> sqrt_ts_0p3_1_gev : 0.034162189811468124\n",
            " f(27) -> flux_1_3_gev : 0.005289351101964712\n",
            " f(28) -> flux_1_3_gev_pos_err : 0.0033874136861413717\n",
            " f(29) -> flux_1_3_gev_neg_err : 0.0\n",
            " f(30) -> nufnu_1_3_gev : 0.006498189643025398\n",
            " f(31) -> sqrt_ts_1_3_gev : 0.014799121767282486\n",
            " f(32) -> flux_3_10_gev : 0.012410900555551052\n",
            " f(33) -> nufnu_3_10_gev : 0.007988587953150272\n",
            " f(34) -> sqrt_ts_3_10_gev : 0.00779152475297451\n",
            " f(35) -> flux_10_100_gev : 0.006608875934034586\n",
            " f(36) -> nufnu_10_100_gev : 0.007934688590466976\n",
            " f(37) -> sqrt_ts_10_100_gev : 0.005797726102173328\n",
            " f(38) -> variability_index : 0.01064545288681984\n",
            " f(39) -> significance_peak : 0.01120689231902361\n",
            " f(40) -> flux_peak : 0.0\n",
            " f(41) -> flux_peak_error : 0.0\n",
            " f(42) -> time_peak : 0.03273579850792885\n",
            " f(43) -> time_peak_interval : 0.0\n",
            " f(44) -> analysis_flags : 0.0\n",
            " f(45) -> HR12 : 0.008611684665083885\n",
            " f(46) -> HR23 : 0.00392342172563076\n",
            " f(47) -> HR34 : 0.006132897455245256\n",
            " f(48) -> hard_slope : 0.010552918538451195\n",
            " f(49) -> soft_slope : 0.006781641393899918\n",
            " f(50) -> P_E_lg : 0.03603396192193031\n",
            " f(51) -> TS_ : 0.017785122618079185\n",
            " f(52) -> sig_ : 0.013838853687047958\n",
            " f(53) -> gamm_log : 0.07180064171552658\n",
            " f(54) -> Ts_log : 0.05519188567996025\n",
            " f(55) -> sig_log : 0.009989467449486256\n",
            " f(56) -> F100_log : 0.011052186600863934\n"
          ],
          "name": "stdout"
        }
      ]
    },
    {
      "cell_type": "code",
      "metadata": {
        "id": "Ru2UuCTxRI66",
        "colab_type": "code",
        "colab": {}
      },
      "source": [
        ""
      ],
      "execution_count": 0,
      "outputs": []
    },
    {
      "cell_type": "markdown",
      "metadata": {
        "id": "VUC9T9QaDSZa",
        "colab_type": "text"
      },
      "source": [
        "## Snipetts para calcular y mostrar las curvas de aprendizaje"
      ]
    },
    {
      "cell_type": "code",
      "metadata": {
        "id": "jzNVKVD_8l8V",
        "colab_type": "code",
        "colab": {}
      },
      "source": [
        "\n",
        "#from ipynb.fs.full.my_functions import Snippet_188\n",
        "#Snippet_188(X_std, y_)"
      ],
      "execution_count": 0,
      "outputs": []
    },
    {
      "cell_type": "code",
      "metadata": {
        "id": "k0TRm0Xt8l8Z",
        "colab_type": "code",
        "colab": {}
      },
      "source": [
        "#from ipynb.fs.full.my_functions import Snippet_189\n",
        "#Snippet_189(X_std, y_)"
      ],
      "execution_count": 0,
      "outputs": []
    },
    {
      "cell_type": "markdown",
      "metadata": {
        "id": "vYG61NoP8l8i",
        "colab_type": "text"
      },
      "source": [
        "## K Nearest Neighbors"
      ]
    },
    {
      "cell_type": "code",
      "metadata": {
        "id": "pG9a0P7p8l8j",
        "colab_type": "code",
        "colab": {}
      },
      "source": [
        "from sklearn.neighbors import KNeighborsClassifier"
      ],
      "execution_count": 0,
      "outputs": []
    },
    {
      "cell_type": "code",
      "metadata": {
        "id": "D2NxTHx38l8o",
        "colab_type": "code",
        "colab": {}
      },
      "source": [
        "kn = KNeighborsClassifier(n_neighbors=3)"
      ],
      "execution_count": 0,
      "outputs": []
    },
    {
      "cell_type": "code",
      "metadata": {
        "id": "gsUb9ke08l8u",
        "colab_type": "code",
        "outputId": "d90acbeb-7545-473f-d102-d143c662eb66",
        "colab": {
          "base_uri": "https://localhost:8080/",
          "height": 66
        }
      },
      "source": [
        "kn.fit(X_train, y_train)"
      ],
      "execution_count": 0,
      "outputs": [
        {
          "output_type": "execute_result",
          "data": {
            "text/plain": [
              "KNeighborsClassifier(algorithm='auto', leaf_size=30, metric='minkowski',\n",
              "                     metric_params=None, n_jobs=None, n_neighbors=3, p=2,\n",
              "                     weights='uniform')"
            ]
          },
          "metadata": {
            "tags": []
          },
          "execution_count": 542
        }
      ]
    },
    {
      "cell_type": "code",
      "metadata": {
        "id": "0nxNtNws8l8y",
        "colab_type": "code",
        "outputId": "1367d224-c3c8-4d5f-d28c-5d595449367c",
        "colab": {
          "base_uri": "https://localhost:8080/",
          "height": 33
        }
      },
      "source": [
        "kn.score(X_test, y_test)\n"
      ],
      "execution_count": 0,
      "outputs": [
        {
          "output_type": "execute_result",
          "data": {
            "text/plain": [
              "0.878345498783455"
            ]
          },
          "metadata": {
            "tags": []
          },
          "execution_count": 543
        }
      ]
    },
    {
      "cell_type": "code",
      "metadata": {
        "id": "KkFJ7cOa8l82",
        "colab_type": "code",
        "outputId": "7a6a435b-9c02-4ef9-eeab-bbbdc5d0b5f5",
        "colab": {
          "base_uri": "https://localhost:8080/",
          "height": 50
        }
      },
      "source": [
        "confusion_matrix(y_test, kn.predict(X_test))"
      ],
      "execution_count": 0,
      "outputs": [
        {
          "output_type": "execute_result",
          "data": {
            "text/plain": [
              "array([[137,  24],\n",
              "       [ 26, 224]])"
            ]
          },
          "metadata": {
            "tags": []
          },
          "execution_count": 544
        }
      ]
    },
    {
      "cell_type": "code",
      "metadata": {
        "id": "H9V2GTR_PcKD",
        "colab_type": "code",
        "colab": {}
      },
      "source": [
        "#Snippet_190(kn, X_std, y_, 100)"
      ],
      "execution_count": 0,
      "outputs": []
    },
    {
      "cell_type": "code",
      "metadata": {
        "id": "578BWgSfUmXs",
        "colab_type": "code",
        "colab": {}
      },
      "source": [
        ""
      ],
      "execution_count": 0,
      "outputs": []
    },
    {
      "cell_type": "markdown",
      "metadata": {
        "id": "Z-TsBb4_8l85",
        "colab_type": "text"
      },
      "source": [
        "## K Nearest Neighbors con datos normalizados"
      ]
    },
    {
      "cell_type": "code",
      "metadata": {
        "id": "lXcoh8Us8l89",
        "colab_type": "code",
        "colab": {}
      },
      "source": [
        "from sklearn.preprocessing import StandardScaler"
      ],
      "execution_count": 0,
      "outputs": []
    },
    {
      "cell_type": "code",
      "metadata": {
        "id": "ajm72-nE8l9A",
        "colab_type": "code",
        "colab": {}
      },
      "source": [
        "sc = StandardScaler()\n",
        "sc.fit(X_train)\n",
        "X_train_std = sc.transform(X_train)\n",
        "X_test_std = sc.transform(X_test)"
      ],
      "execution_count": 0,
      "outputs": []
    },
    {
      "cell_type": "code",
      "metadata": {
        "id": "94BnYN-e8l9D",
        "colab_type": "code",
        "outputId": "5f01271f-bfb6-4cc4-fef7-15993fb788e9",
        "colab": {
          "base_uri": "https://localhost:8080/",
          "height": 33
        }
      },
      "source": [
        "kn2 = KNeighborsClassifier(n_neighbors=2)\n",
        "kn2.fit(X_train_std, y_train)\n",
        "kn2.score(X_test_std, y_test)"
      ],
      "execution_count": 0,
      "outputs": [
        {
          "output_type": "execute_result",
          "data": {
            "text/plain": [
              "0.8126520681265207"
            ]
          },
          "metadata": {
            "tags": []
          },
          "execution_count": 548
        }
      ]
    },
    {
      "cell_type": "code",
      "metadata": {
        "id": "CPNtT9Q28l9J",
        "colab_type": "code",
        "outputId": "fbf697a5-3c08-49e4-a2d1-03cbe8198c92",
        "colab": {
          "base_uri": "https://localhost:8080/",
          "height": 33
        }
      },
      "source": [
        "kn2.score(X_test_std, y_test)"
      ],
      "execution_count": 0,
      "outputs": [
        {
          "output_type": "execute_result",
          "data": {
            "text/plain": [
              "0.8126520681265207"
            ]
          },
          "metadata": {
            "tags": []
          },
          "execution_count": 549
        }
      ]
    },
    {
      "cell_type": "code",
      "metadata": {
        "id": "8ywpWVPa8l9L",
        "colab_type": "code",
        "outputId": "63a786bd-a93d-4441-c95b-70f939ec46d0",
        "colab": {
          "base_uri": "https://localhost:8080/",
          "height": 50
        }
      },
      "source": [
        "confusion_matrix(y_test, kn2.predict(X_test))"
      ],
      "execution_count": 0,
      "outputs": [
        {
          "output_type": "execute_result",
          "data": {
            "text/plain": [
              "array([[146,  15],\n",
              "       [ 60, 190]])"
            ]
          },
          "metadata": {
            "tags": []
          },
          "execution_count": 550
        }
      ]
    },
    {
      "cell_type": "code",
      "metadata": {
        "id": "809JN0tr8l9S",
        "colab_type": "code",
        "colab": {}
      },
      "source": [
        "#plt.rcParams['figure.figsize'] = (10,10)\n",
        "#plt.figure()\n",
        "#plot_importance(xg)"
      ],
      "execution_count": 0,
      "outputs": []
    },
    {
      "cell_type": "code",
      "metadata": {
        "id": "R2W_Nrnv8l9W",
        "colab_type": "code",
        "colab": {}
      },
      "source": [
        "#xg.feature_importances_"
      ],
      "execution_count": 0,
      "outputs": []
    },
    {
      "cell_type": "code",
      "metadata": {
        "id": "wz5PJAh-8l9d",
        "colab_type": "code",
        "colab": {}
      },
      "source": [
        "#for feat, importance in zip(X.columns, xg.feature_importances_):\n",
        "#    if importance >0:\n",
        "#        print(f'{feat}: {importance}')"
      ],
      "execution_count": 0,
      "outputs": []
    },
    {
      "cell_type": "code",
      "metadata": {
        "id": "odAlryMr8l9g",
        "colab_type": "code",
        "colab": {}
      },
      "source": [
        "#discriminantes=[6, 37, 13,15,8,34,7]\n",
        "#X_train_std_2 = X_train_std[:, discriminantes]\n",
        "#X_test_std_2 = X_test_std[:, discriminantes]"
      ],
      "execution_count": 0,
      "outputs": []
    },
    {
      "cell_type": "code",
      "metadata": {
        "id": "wF4b9LeW8l9i",
        "colab_type": "code",
        "colab": {}
      },
      "source": [
        "#kn_seleccion = KNeighborsClassifier(n_neighbors=2)\n",
        "#kn_seleccion.fit(X_train_std_2, y_train)\n",
        "#kn_seleccion.score(X_test_std_2, y_test)"
      ],
      "execution_count": 0,
      "outputs": []
    },
    {
      "cell_type": "markdown",
      "metadata": {
        "id": "pqjLAVy88l9k",
        "colab_type": "text"
      },
      "source": [
        "## DECISION TREE"
      ]
    },
    {
      "cell_type": "code",
      "metadata": {
        "id": "MNxFf1aE8l9k",
        "colab_type": "code",
        "colab": {}
      },
      "source": [
        "from sklearn.model_selection import train_test_split"
      ],
      "execution_count": 0,
      "outputs": []
    },
    {
      "cell_type": "code",
      "metadata": {
        "id": "cf-baouS8l9o",
        "colab_type": "code",
        "colab": {}
      },
      "source": [
        "X_train, X_test, y_train, y_test = train_test_split(X, y_)"
      ],
      "execution_count": 0,
      "outputs": []
    },
    {
      "cell_type": "code",
      "metadata": {
        "id": "obbxWtCF8l9s",
        "colab_type": "code",
        "outputId": "b6c7164d-6454-4ebb-a449-a301fd028906",
        "colab": {
          "base_uri": "https://localhost:8080/",
          "height": 115
        }
      },
      "source": [
        "from sklearn.tree import DecisionTreeClassifier\n",
        "tree = DecisionTreeClassifier(criterion='gini', max_depth=5, random_state=0)\n",
        "tree.fit(X_train, y_train)"
      ],
      "execution_count": 0,
      "outputs": [
        {
          "output_type": "execute_result",
          "data": {
            "text/plain": [
              "DecisionTreeClassifier(ccp_alpha=0.0, class_weight=None, criterion='gini',\n",
              "                       max_depth=5, max_features=None, max_leaf_nodes=None,\n",
              "                       min_impurity_decrease=0.0, min_impurity_split=None,\n",
              "                       min_samples_leaf=1, min_samples_split=2,\n",
              "                       min_weight_fraction_leaf=0.0, presort='deprecated',\n",
              "                       random_state=0, splitter='best')"
            ]
          },
          "metadata": {
            "tags": []
          },
          "execution_count": 558
        }
      ]
    },
    {
      "cell_type": "code",
      "metadata": {
        "id": "sgsti9O68l9w",
        "colab_type": "code",
        "outputId": "bfcc7dd4-de32-44ca-bcc9-380d9b65c982",
        "colab": {
          "base_uri": "https://localhost:8080/",
          "height": 33
        }
      },
      "source": [
        "tree.score(X_test, y_test)"
      ],
      "execution_count": 0,
      "outputs": [
        {
          "output_type": "execute_result",
          "data": {
            "text/plain": [
              "0.8287937743190662"
            ]
          },
          "metadata": {
            "tags": []
          },
          "execution_count": 559
        }
      ]
    },
    {
      "cell_type": "code",
      "metadata": {
        "id": "YLNSj1XP8l91",
        "colab_type": "code",
        "outputId": "0f8401e5-4a6b-462a-ba39-872c1f82cbdf",
        "colab": {
          "base_uri": "https://localhost:8080/",
          "height": 33
        }
      },
      "source": [
        "tree.score(X_train, y_train)"
      ],
      "execution_count": 0,
      "outputs": [
        {
          "output_type": "execute_result",
          "data": {
            "text/plain": [
              "0.935064935064935"
            ]
          },
          "metadata": {
            "tags": []
          },
          "execution_count": 560
        }
      ]
    },
    {
      "cell_type": "code",
      "metadata": {
        "id": "IjefTngg8l97",
        "colab_type": "code",
        "outputId": "19e2433e-83ef-45db-bda5-825c84f20bf4",
        "colab": {
          "base_uri": "https://localhost:8080/",
          "height": 212
        }
      },
      "source": [
        "tree.feature_importances_"
      ],
      "execution_count": 0,
      "outputs": [
        {
          "output_type": "execute_result",
          "data": {
            "text/plain": [
              "array([0.        , 0.        , 0.        , 0.        , 0.        ,\n",
              "       0.00681708, 0.        , 0.        , 0.06468223, 0.        ,\n",
              "       0.        , 0.        , 0.        , 0.        , 0.        ,\n",
              "       0.68563702, 0.        , 0.        , 0.        , 0.        ,\n",
              "       0.02245364, 0.        , 0.        , 0.        , 0.        ,\n",
              "       0.        , 0.        , 0.        , 0.        , 0.        ,\n",
              "       0.03592716, 0.        , 0.        , 0.        , 0.        ,\n",
              "       0.        , 0.0178129 , 0.01483651, 0.        , 0.        ,\n",
              "       0.        , 0.02450819, 0.        , 0.        , 0.03244128,\n",
              "       0.        , 0.        , 0.        , 0.        , 0.        ,\n",
              "       0.04734101, 0.        , 0.0056809 , 0.04186207, 0.        ,\n",
              "       0.        ])"
            ]
          },
          "metadata": {
            "tags": []
          },
          "execution_count": 561
        }
      ]
    },
    {
      "cell_type": "code",
      "metadata": {
        "id": "5lI5OuZYvCwn",
        "colab_type": "code",
        "colab": {}
      },
      "source": [
        "#cont=0\n",
        "#for feat, importance in zip(X.columns, tree.feature_importances_):\n",
        "#    cont=1+cont\n",
        "#    if importance >= 0:\n",
        "#        print(f' f({cont}) -> {feat} : {importance}')"
      ],
      "execution_count": 0,
      "outputs": []
    },
    {
      "cell_type": "code",
      "metadata": {
        "id": "wLnIORHp8l9_",
        "colab_type": "code",
        "colab": {}
      },
      "source": [
        "#for feat, importance in zip(X.columns, tree.feature_importances_):\n",
        "#    if importance >0:\n",
        "#        print(f'{feat}: {importance}')"
      ],
      "execution_count": 0,
      "outputs": []
    },
    {
      "cell_type": "code",
      "metadata": {
        "id": "PdcTJAIFPqdP",
        "colab_type": "code",
        "colab": {}
      },
      "source": [
        "#Snippet_190(tree, X_std, y_, 100)"
      ],
      "execution_count": 0,
      "outputs": []
    },
    {
      "cell_type": "code",
      "metadata": {
        "id": "5EAu0zPTVixE",
        "colab_type": "code",
        "colab": {}
      },
      "source": [
        ""
      ],
      "execution_count": 0,
      "outputs": []
    },
    {
      "cell_type": "markdown",
      "metadata": {
        "id": "8-sGAyMn8l-C",
        "colab_type": "text"
      },
      "source": [
        "## Con Random Forest"
      ]
    },
    {
      "cell_type": "code",
      "metadata": {
        "id": "qLHmHgUy8l-D",
        "colab_type": "code",
        "colab": {}
      },
      "source": [
        "from sklearn.ensemble import RandomForestClassifier\n",
        "from sklearn.metrics import confusion_matrix\n",
        "forest = RandomForestClassifier(criterion='gini',\n",
        " n_estimators=1000,\n",
        " n_jobs=2)\n"
      ],
      "execution_count": 0,
      "outputs": []
    },
    {
      "cell_type": "code",
      "metadata": {
        "id": "JmvI-ljm8l-I",
        "colab_type": "code",
        "outputId": "3ec2b33a-f262-42e7-ce91-c10dacb1ec5b",
        "colab": {
          "base_uri": "https://localhost:8080/",
          "height": 66
        }
      },
      "source": [
        "forest.fit(X_train, y_train)\n",
        "y_pred = forest.predict(X_test)\n",
        "print(forest.score(X_test, y_test))\n",
        "confusion_matrix(y_test, y_pred)\n",
        "#X_test"
      ],
      "execution_count": 0,
      "outputs": [
        {
          "output_type": "stream",
          "text": [
            "0.8638132295719845\n"
          ],
          "name": "stdout"
        },
        {
          "output_type": "execute_result",
          "data": {
            "text/plain": [
              "array([[ 81,  12],\n",
              "       [ 23, 141]])"
            ]
          },
          "metadata": {
            "tags": []
          },
          "execution_count": 566
        }
      ]
    },
    {
      "cell_type": "code",
      "metadata": {
        "id": "wBs3TVz-8l-R",
        "colab_type": "code",
        "outputId": "ce1a105c-259b-4436-d933-7ba05ac7be33",
        "colab": {
          "base_uri": "https://localhost:8080/",
          "height": 621
        }
      },
      "source": [
        "features = X.columns\n",
        "importances = forest.feature_importances_\n",
        "indices = np.argsort(importances)\n",
        "\n",
        "plt.title('Feature Importances')\n",
        "plt.barh(range(len(indices)), importances[indices], color='b', align='center')\n",
        "plt.yticks(range(len(indices)), [features[i] for i in indices])\n",
        "plt.xlabel('Relative Importance')\n",
        "plt.show()"
      ],
      "execution_count": 0,
      "outputs": [
        {
          "output_type": "display_data",
          "data": {
            "image/png": "[encoded data removed]",
            "text/plain": [
              "<Figure size 720x720 with 1 Axes>"
            ]
          },
          "metadata": {
            "tags": []
          }
        }
      ]
    },
    {
      "cell_type": "code",
      "metadata": {
        "id": "elKDDEvV8l-T",
        "colab_type": "code",
        "colab": {}
      },
      "source": [
        "#X_test=X_test.values\n",
        "#xg.feature_importances_"
      ],
      "execution_count": 0,
      "outputs": []
    },
    {
      "cell_type": "code",
      "metadata": {
        "id": "3r89ebZdP9WV",
        "colab_type": "code",
        "colab": {}
      },
      "source": [
        "#Snippet_190(forest, X_std, y_, 100)"
      ],
      "execution_count": 0,
      "outputs": []
    },
    {
      "cell_type": "code",
      "metadata": {
        "id": "ByKhOZvqClO0",
        "colab_type": "code",
        "colab": {}
      },
      "source": [
        "#f_names = xg.feature_names_\n",
        "#df = df[f_names]\n",
        "# AttributeError: 'numpy.ndarray' object has no attribute 'head'\n",
        "#clf.predict_proba(X_test)\n",
        "X_test.head(5)\n",
        "type(X_test)\n",
        "X_test=X_test.values"
      ],
      "execution_count": 0,
      "outputs": []
    },
    {
      "cell_type": "markdown",
      "metadata": {
        "id": "gv3utvNfCmPs",
        "colab_type": "text"
      },
      "source": [
        "#Plots rendimiento comparado clasificadores"
      ]
    },
    {
      "cell_type": "markdown",
      "metadata": {
        "id": "ZcShLbekCw7o",
        "colab_type": "text"
      },
      "source": [
        ""
      ]
    },
    {
      "cell_type": "code",
      "metadata": {
        "id": "VH74l72O8l-V",
        "colab_type": "code",
        "outputId": "3d87b2cb-cefb-45fe-99c9-8afb494d3000",
        "colab": {
          "base_uri": "https://localhost:8080/",
          "height": 621
        }
      },
      "source": [
        "import sklearn.metrics as metrics\n",
        "import matplotlib.pyplot as plt\n",
        "clasificadores =[xg,forest, kn, tree, kn2, gbc, svm]\n",
        "#clasificadores =[xg, forest, kn, tree, kn2, gbc]\n",
        "plt.title('Receiver Operating Characteristic')\n",
        "for clf in clasificadores:\n",
        "    # calculate the fpr and tpr for all thresholds of the classification\n",
        "    \n",
        "    probs = clf.predict_proba(X_test)\n",
        "    preds = probs[:,1]\n",
        "    fpr, tpr, threshold = metrics.roc_curve(y_test, preds)\n",
        "    roc_auc = metrics.auc(fpr, tpr)\n",
        "    roc_auc='%.2f' % roc_auc\n",
        "    name =clf.__class__.__name__\n",
        "    score_=clf.score(X_test, y_test)\n",
        "    score_1='%.2f' % score_\n",
        "    #print (score_1)\n",
        "    # method I: plt\n",
        " \n",
        "\n",
        "    \n",
        "    plt.plot(fpr, tpr ,label = f'{name} AUC ={roc_auc}  η = {score_1}%')\n",
        "    plt.legend(loc = 'lower right')\n",
        "plt.plot([0, 1], [0, 1],'r--')    \n",
        "plt.xlim([0, 1])\n",
        "plt.ylim([0, 1])\n",
        "plt.ylabel('True Positive Rate')\n",
        "plt.xlabel('False Positive Rate')\n",
        "plt.savefig(\"/content/drive/My Drive/AUC_1.png\")\n",
        "plt.show()\n",
        "\n",
        "# method II: ggplot\n",
        "#from ggplot import *\n",
        "#df = pd.DataFrame(dict(fpr = fpr, tpr = tpr))\n",
        "#ggplot(df, aes(x = 'fpr', y = 'tpr')) + geom_line() + geom_abline(linetype = 'dashed')"
      ],
      "execution_count": 0,
      "outputs": [
        {
          "output_type": "display_data",
          "data": {
            "image/png": "[encoded data removed]",
            "text/plain": [
              "<Figure size 720x720 with 1 Axes>"
            ]
          },
          "metadata": {
            "tags": []
          }
        }
      ]
    },
    {
      "cell_type": "code",
      "metadata": {
        "id": "NoQqVch98l-Y",
        "colab_type": "code",
        "colab": {}
      },
      "source": [
        ""
      ],
      "execution_count": 0,
      "outputs": []
    },
    {
      "cell_type": "code",
      "metadata": {
        "id": "qR4nhcQj8l-b",
        "colab_type": "code",
        "colab": {}
      },
      "source": [
        ""
      ],
      "execution_count": 0,
      "outputs": []
    },
    {
      "cell_type": "code",
      "metadata": {
        "id": "4AICnOD28l-d",
        "colab_type": "code",
        "colab": {}
      },
      "source": [
        ""
      ],
      "execution_count": 0,
      "outputs": []
    },
    {
      "cell_type": "code",
      "metadata": {
        "id": "gozX94Dj8l-f",
        "colab_type": "code",
        "colab": {}
      },
      "source": [
        ""
      ],
      "execution_count": 0,
      "outputs": []
    },
    {
      "cell_type": "code",
      "metadata": {
        "id": "bT7EOwc-8l-h",
        "colab_type": "code",
        "colab": {}
      },
      "source": [
        ""
      ],
      "execution_count": 0,
      "outputs": []
    },
    {
      "cell_type": "code",
      "metadata": {
        "id": "JrYUAiKU8l-j",
        "colab_type": "code",
        "colab": {}
      },
      "source": [
        ""
      ],
      "execution_count": 0,
      "outputs": []
    },
    {
      "cell_type": "code",
      "metadata": {
        "id": "JB1Nocc08l-l",
        "colab_type": "code",
        "colab": {}
      },
      "source": [
        ""
      ],
      "execution_count": 0,
      "outputs": []
    }
  ]
}